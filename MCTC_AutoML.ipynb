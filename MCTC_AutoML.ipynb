{
 "cells": [
  {
   "cell_type": "markdown",
   "id": "dfedead1",
   "metadata": {},
   "source": [
    "# Importing the Preliminary Required Libraries"
   ]
  },
  {
   "cell_type": "code",
   "execution_count": 1,
   "id": "e8c47a82",
   "metadata": {},
   "outputs": [
    {
     "name": "stderr",
     "output_type": "stream",
     "text": [
      "[nltk_data] Downloading package stopwords to\n",
      "[nltk_data]     C:\\Users\\User\\AppData\\Roaming\\nltk_data...\n",
      "[nltk_data]   Package stopwords is already up-to-date!\n"
     ]
    }
   ],
   "source": [
    "import pandas as pd\n",
    "import nltk\n",
    "nltk.download('stopwords')\n",
    "from nltk.corpus import stopwords\n",
    "stop_words = stopwords.words('english')"
   ]
  },
  {
   "cell_type": "markdown",
   "id": "a183d92d",
   "metadata": {},
   "source": [
    "# Loading the Data"
   ]
  },
  {
   "cell_type": "code",
   "execution_count": 2,
   "id": "c6ac49cb",
   "metadata": {},
   "outputs": [],
   "source": [
    "dataset = pd.read_csv('Context.csv')"
   ]
  },
  {
   "cell_type": "code",
   "execution_count": 3,
   "id": "4eb8a21c",
   "metadata": {},
   "outputs": [
    {
     "data": {
      "text/html": [
       "<div>\n",
       "<style scoped>\n",
       "    .dataframe tbody tr th:only-of-type {\n",
       "        vertical-align: middle;\n",
       "    }\n",
       "\n",
       "    .dataframe tbody tr th {\n",
       "        vertical-align: top;\n",
       "    }\n",
       "\n",
       "    .dataframe thead th {\n",
       "        text-align: right;\n",
       "    }\n",
       "</style>\n",
       "<table border=\"1\" class=\"dataframe\">\n",
       "  <thead>\n",
       "    <tr style=\"text-align: right;\">\n",
       "      <th></th>\n",
       "      <th>Text</th>\n",
       "      <th>Context</th>\n",
       "    </tr>\n",
       "  </thead>\n",
       "  <tbody>\n",
       "    <tr>\n",
       "      <th>0</th>\n",
       "      <td>The eternal mystique of Goldman Sachs</td>\n",
       "      <td>Politics</td>\n",
       "    </tr>\n",
       "    <tr>\n",
       "      <th>1</th>\n",
       "      <td>Either you don't care enough to actually tell ...</td>\n",
       "      <td>Love</td>\n",
       "    </tr>\n",
       "    <tr>\n",
       "      <th>2</th>\n",
       "      <td>I am such an IDIOT.</td>\n",
       "      <td>Heavy Emotion</td>\n",
       "    </tr>\n",
       "    <tr>\n",
       "      <th>3</th>\n",
       "      <td>While lifting weights on Friday and doing bent...</td>\n",
       "      <td>Health</td>\n",
       "    </tr>\n",
       "    <tr>\n",
       "      <th>4</th>\n",
       "      <td>Something's watching me</td>\n",
       "      <td>Animals</td>\n",
       "    </tr>\n",
       "  </tbody>\n",
       "</table>\n",
       "</div>"
      ],
      "text/plain": [
       "                                                Text        Context\n",
       "0              The eternal mystique of Goldman Sachs       Politics\n",
       "1  Either you don't care enough to actually tell ...           Love\n",
       "2                                I am such an IDIOT.  Heavy Emotion\n",
       "3  While lifting weights on Friday and doing bent...         Health\n",
       "4                            Something's watching me        Animals"
      ]
     },
     "execution_count": 3,
     "metadata": {},
     "output_type": "execute_result"
    }
   ],
   "source": [
    "dataset.head()"
   ]
  },
  {
   "cell_type": "code",
   "execution_count": 4,
   "id": "2249c071",
   "metadata": {},
   "outputs": [
    {
     "data": {
      "text/plain": [
       "(31386, 2)"
      ]
     },
     "execution_count": 4,
     "metadata": {},
     "output_type": "execute_result"
    }
   ],
   "source": [
    "dataset.shape"
   ]
  },
  {
   "cell_type": "markdown",
   "id": "1d3da4aa",
   "metadata": {},
   "source": [
    "# Setting up the Environment in PyCaret (NLP)"
   ]
  },
  {
   "cell_type": "code",
   "execution_count": 5,
   "id": "7302a5aa",
   "metadata": {},
   "outputs": [],
   "source": [
    "from pycaret.nlp import *"
   ]
  },
  {
   "cell_type": "code",
   "execution_count": 6,
   "id": "42474e80",
   "metadata": {},
   "outputs": [
    {
     "data": {
      "text/html": [
       "<style type=\"text/css\">\n",
       "</style>\n",
       "<table id=\"T_28c78_\">\n",
       "  <thead>\n",
       "    <tr>\n",
       "      <th class=\"col_heading level0 col0\" >Description</th>\n",
       "      <th class=\"col_heading level0 col1\" >Value</th>\n",
       "    </tr>\n",
       "  </thead>\n",
       "  <tbody>\n",
       "    <tr>\n",
       "      <td id=\"T_28c78_row0_col0\" class=\"data row0 col0\" >session_id</td>\n",
       "      <td id=\"T_28c78_row0_col1\" class=\"data row0 col1\" >21</td>\n",
       "    </tr>\n",
       "    <tr>\n",
       "      <td id=\"T_28c78_row1_col0\" class=\"data row1 col0\" >Documents</td>\n",
       "      <td id=\"T_28c78_row1_col1\" class=\"data row1 col1\" >31386</td>\n",
       "    </tr>\n",
       "    <tr>\n",
       "      <td id=\"T_28c78_row2_col0\" class=\"data row2 col0\" >Vocab Size</td>\n",
       "      <td id=\"T_28c78_row2_col1\" class=\"data row2 col1\" >17401</td>\n",
       "    </tr>\n",
       "    <tr>\n",
       "      <td id=\"T_28c78_row3_col0\" class=\"data row3 col0\" >Custom Stopwords</td>\n",
       "      <td id=\"T_28c78_row3_col1\" class=\"data row3 col1\" >False</td>\n",
       "    </tr>\n",
       "  </tbody>\n",
       "</table>\n"
      ],
      "text/plain": [
       "<pandas.io.formats.style.Styler at 0x2e93633cf70>"
      ]
     },
     "metadata": {},
     "output_type": "display_data"
    },
    {
     "name": "stdout",
     "output_type": "stream",
     "text": [
      "Wall time: 1min 29s\n"
     ]
    }
   ],
   "source": [
    "%time exp_nlp = setup(data = dataset, target = 'Text',session_id=21) "
   ]
  },
  {
   "cell_type": "markdown",
   "id": "ab513c34",
   "metadata": {},
   "source": [
    "# Create a Topic Model"
   ]
  },
  {
   "cell_type": "code",
   "execution_count": 7,
   "id": "f202683c",
   "metadata": {},
   "outputs": [
    {
     "name": "stdout",
     "output_type": "stream",
     "text": [
      "Wall time: 50.2 s\n"
     ]
    }
   ],
   "source": [
    "%time model_lda = create_model(model='lda', multi_core=True)"
   ]
  },
  {
   "cell_type": "code",
   "execution_count": 8,
   "id": "808b22c7",
   "metadata": {},
   "outputs": [
    {
     "name": "stdout",
     "output_type": "stream",
     "text": [
      "LdaModel(num_terms=17401, num_topics=4, decay=0.5, chunksize=100)\n"
     ]
    }
   ],
   "source": [
    "print(model_lda)"
   ]
  },
  {
   "cell_type": "markdown",
   "id": "a8a5115f",
   "metadata": {},
   "source": [
    "# Assign a Model"
   ]
  },
  {
   "cell_type": "code",
   "execution_count": 9,
   "id": "3d0ad594",
   "metadata": {
    "scrolled": true
   },
   "outputs": [
    {
     "name": "stdout",
     "output_type": "stream",
     "text": [
      "Wall time: 14.8 s\n"
     ]
    },
    {
     "data": {
      "text/html": [
       "<div>\n",
       "<style scoped>\n",
       "    .dataframe tbody tr th:only-of-type {\n",
       "        vertical-align: middle;\n",
       "    }\n",
       "\n",
       "    .dataframe tbody tr th {\n",
       "        vertical-align: top;\n",
       "    }\n",
       "\n",
       "    .dataframe thead th {\n",
       "        text-align: right;\n",
       "    }\n",
       "</style>\n",
       "<table border=\"1\" class=\"dataframe\">\n",
       "  <thead>\n",
       "    <tr style=\"text-align: right;\">\n",
       "      <th></th>\n",
       "      <th>Text</th>\n",
       "      <th>Context</th>\n",
       "      <th>Topic_0</th>\n",
       "      <th>Topic_1</th>\n",
       "      <th>Topic_2</th>\n",
       "      <th>Topic_3</th>\n",
       "      <th>Dominant_Topic</th>\n",
       "      <th>Perc_Dominant_Topic</th>\n",
       "    </tr>\n",
       "  </thead>\n",
       "  <tbody>\n",
       "    <tr>\n",
       "      <th>0</th>\n",
       "      <td></td>\n",
       "      <td>Politics</td>\n",
       "      <td>0.250000</td>\n",
       "      <td>0.250000</td>\n",
       "      <td>0.250000</td>\n",
       "      <td>0.250000</td>\n",
       "      <td>Topic 0</td>\n",
       "      <td>0.25</td>\n",
       "    </tr>\n",
       "    <tr>\n",
       "      <th>1</th>\n",
       "      <td>care enough actually tell feel dumbass thinkin...</td>\n",
       "      <td>Love</td>\n",
       "      <td>0.007563</td>\n",
       "      <td>0.008091</td>\n",
       "      <td>0.976618</td>\n",
       "      <td>0.007728</td>\n",
       "      <td>Topic 2</td>\n",
       "      <td>0.98</td>\n",
       "    </tr>\n",
       "    <tr>\n",
       "      <th>2</th>\n",
       "      <td></td>\n",
       "      <td>Heavy Emotion</td>\n",
       "      <td>0.250000</td>\n",
       "      <td>0.250000</td>\n",
       "      <td>0.250000</td>\n",
       "      <td>0.250000</td>\n",
       "      <td>Topic 0</td>\n",
       "      <td>0.25</td>\n",
       "    </tr>\n",
       "    <tr>\n",
       "      <th>3</th>\n",
       "      <td>lift bent row feel sharp pain lower back would...</td>\n",
       "      <td>Health</td>\n",
       "      <td>0.042888</td>\n",
       "      <td>0.007420</td>\n",
       "      <td>0.356971</td>\n",
       "      <td>0.592722</td>\n",
       "      <td>Topic 3</td>\n",
       "      <td>0.59</td>\n",
       "    </tr>\n",
       "    <tr>\n",
       "      <th>4</th>\n",
       "      <td>watch</td>\n",
       "      <td>Animals</td>\n",
       "      <td>0.134552</td>\n",
       "      <td>0.126089</td>\n",
       "      <td>0.614324</td>\n",
       "      <td>0.125035</td>\n",
       "      <td>Topic 2</td>\n",
       "      <td>0.61</td>\n",
       "    </tr>\n",
       "  </tbody>\n",
       "</table>\n",
       "</div>"
      ],
      "text/plain": [
       "                                                Text        Context   Topic_0  \\\n",
       "0                                                          Politics  0.250000   \n",
       "1  care enough actually tell feel dumbass thinkin...           Love  0.007563   \n",
       "2                                                     Heavy Emotion  0.250000   \n",
       "3  lift bent row feel sharp pain lower back would...         Health  0.042888   \n",
       "4                                              watch        Animals  0.134552   \n",
       "\n",
       "    Topic_1   Topic_2   Topic_3 Dominant_Topic  Perc_Dominant_Topic  \n",
       "0  0.250000  0.250000  0.250000        Topic 0                 0.25  \n",
       "1  0.008091  0.976618  0.007728        Topic 2                 0.98  \n",
       "2  0.250000  0.250000  0.250000        Topic 0                 0.25  \n",
       "3  0.007420  0.356971  0.592722        Topic 3                 0.59  \n",
       "4  0.126089  0.614324  0.125035        Topic 2                 0.61  "
      ]
     },
     "execution_count": 9,
     "metadata": {},
     "output_type": "execute_result"
    }
   ],
   "source": [
    "%time lda_results = assign_model(model_lda) \n",
    "lda_results.head()"
   ]
  },
  {
   "cell_type": "markdown",
   "id": "3f1aac3a",
   "metadata": {},
   "source": [
    "# Plot a Model"
   ]
  },
  {
   "cell_type": "code",
   "execution_count": 10,
   "id": "99618576",
   "metadata": {},
   "outputs": [
    {
     "data": {
      "text/html": [
       "        <script type=\"text/javascript\">\n",
       "        window.PlotlyConfig = {MathJaxConfig: 'local'};\n",
       "        if (window.MathJax) {MathJax.Hub.Config({SVG: {font: \"STIX-Web\"}});}\n",
       "        if (typeof require !== 'undefined') {\n",
       "        require.undef(\"plotly\");\n",
       "        requirejs.config({\n",
       "            paths: {\n",
       "                'plotly': ['https://cdn.plot.ly/plotly-2.8.3.min']\n",
       "            }\n",
       "        });\n",
       "        require(['plotly'], function(Plotly) {\n",
       "            window._Plotly = Plotly;\n",
       "        });\n",
       "        }\n",
       "        </script>\n",
       "        "
      ]
     },
     "metadata": {},
     "output_type": "display_data"
    },
    {
     "data": {
      "application/vnd.plotly.v1+json": {
       "config": {
        "linkText": "Export to plot.ly",
        "plotlyServerURL": "https://plot.ly",
        "showLink": true
       },
       "data": [
        {
         "marker": {
          "color": "rgba(255, 153, 51, 0.6)",
          "line": {
           "color": "rgba(255, 153, 51, 1.0)",
           "width": 1
          }
         },
         "name": "count",
         "orientation": "v",
         "text": "",
         "type": "bar",
         "x": [
          "go",
          "say",
          "get",
          "know",
          "make",
          "feel",
          "want",
          "love",
          "time",
          "people",
          "think",
          "good",
          "would",
          "really",
          "take",
          "year",
          "thing",
          "day",
          "see",
          "tell",
          "friend",
          "work",
          "life",
          "ask",
          "come",
          "find",
          "could",
          "even",
          "try",
          "well",
          "much",
          "never",
          "help",
          "talk",
          "look",
          "man",
          "give",
          "way",
          "need",
          "school",
          "start",
          "still",
          "back",
          "first",
          "use",
          "also",
          "call",
          "new",
          "keep",
          "may",
          "person",
          "bad",
          "right",
          "live",
          "always",
          "ever",
          "girl",
          "thank",
          "leave",
          "guy",
          "religion",
          "long",
          "job",
          "lot",
          "little",
          "believe",
          "woman",
          "week",
          "question",
          "let",
          "month",
          "end",
          "last",
          "many",
          "stop",
          "great",
          "happen",
          "world",
          "care",
          "hard",
          "home",
          "animal",
          "mean",
          "relationship",
          "away",
          "old",
          "family",
          "put",
          "student",
          "hope",
          "change",
          "hear",
          "post",
          "name",
          "happy",
          "meet",
          "move",
          "seem",
          "show",
          "big"
         ],
         "y": [
          3256,
          2978,
          2935,
          2696,
          2275,
          2216,
          2168,
          2107,
          2087,
          1813,
          1801,
          1680,
          1632,
          1522,
          1516,
          1443,
          1425,
          1409,
          1400,
          1382,
          1240,
          1229,
          1225,
          1212,
          1152,
          1148,
          1140,
          1122,
          1116,
          1113,
          1109,
          1103,
          1071,
          1036,
          1026,
          1001,
          967,
          966,
          964,
          958,
          950,
          949,
          913,
          906,
          845,
          828,
          809,
          801,
          796,
          782,
          769,
          759,
          732,
          691,
          689,
          673,
          655,
          653,
          644,
          639,
          624,
          611,
          603,
          597,
          597,
          597,
          595,
          575,
          565,
          562,
          544,
          541,
          541,
          540,
          528,
          526,
          520,
          509,
          506,
          505,
          504,
          485,
          479,
          475,
          468,
          462,
          448,
          447,
          441,
          437,
          430,
          429,
          426,
          425,
          423,
          418,
          416,
          413,
          412,
          411
         ]
        }
       ],
       "layout": {
        "legend": {
         "bgcolor": "#F5F6F9",
         "font": {
          "color": "#4D5663"
         }
        },
        "paper_bgcolor": "#F5F6F9",
        "plot_bgcolor": "#F5F6F9",
        "template": {
         "data": {
          "bar": [
           {
            "error_x": {
             "color": "#2a3f5f"
            },
            "error_y": {
             "color": "#2a3f5f"
            },
            "marker": {
             "line": {
              "color": "#E5ECF6",
              "width": 0.5
             },
             "pattern": {
              "fillmode": "overlay",
              "size": 10,
              "solidity": 0.2
             }
            },
            "type": "bar"
           }
          ],
          "barpolar": [
           {
            "marker": {
             "line": {
              "color": "#E5ECF6",
              "width": 0.5
             },
             "pattern": {
              "fillmode": "overlay",
              "size": 10,
              "solidity": 0.2
             }
            },
            "type": "barpolar"
           }
          ],
          "carpet": [
           {
            "aaxis": {
             "endlinecolor": "#2a3f5f",
             "gridcolor": "white",
             "linecolor": "white",
             "minorgridcolor": "white",
             "startlinecolor": "#2a3f5f"
            },
            "baxis": {
             "endlinecolor": "#2a3f5f",
             "gridcolor": "white",
             "linecolor": "white",
             "minorgridcolor": "white",
             "startlinecolor": "#2a3f5f"
            },
            "type": "carpet"
           }
          ],
          "choropleth": [
           {
            "colorbar": {
             "outlinewidth": 0,
             "ticks": ""
            },
            "type": "choropleth"
           }
          ],
          "contour": [
           {
            "colorbar": {
             "outlinewidth": 0,
             "ticks": ""
            },
            "colorscale": [
             [
              0,
              "#0d0887"
             ],
             [
              0.1111111111111111,
              "#46039f"
             ],
             [
              0.2222222222222222,
              "#7201a8"
             ],
             [
              0.3333333333333333,
              "#9c179e"
             ],
             [
              0.4444444444444444,
              "#bd3786"
             ],
             [
              0.5555555555555556,
              "#d8576b"
             ],
             [
              0.6666666666666666,
              "#ed7953"
             ],
             [
              0.7777777777777778,
              "#fb9f3a"
             ],
             [
              0.8888888888888888,
              "#fdca26"
             ],
             [
              1,
              "#f0f921"
             ]
            ],
            "type": "contour"
           }
          ],
          "contourcarpet": [
           {
            "colorbar": {
             "outlinewidth": 0,
             "ticks": ""
            },
            "type": "contourcarpet"
           }
          ],
          "heatmap": [
           {
            "colorbar": {
             "outlinewidth": 0,
             "ticks": ""
            },
            "colorscale": [
             [
              0,
              "#0d0887"
             ],
             [
              0.1111111111111111,
              "#46039f"
             ],
             [
              0.2222222222222222,
              "#7201a8"
             ],
             [
              0.3333333333333333,
              "#9c179e"
             ],
             [
              0.4444444444444444,
              "#bd3786"
             ],
             [
              0.5555555555555556,
              "#d8576b"
             ],
             [
              0.6666666666666666,
              "#ed7953"
             ],
             [
              0.7777777777777778,
              "#fb9f3a"
             ],
             [
              0.8888888888888888,
              "#fdca26"
             ],
             [
              1,
              "#f0f921"
             ]
            ],
            "type": "heatmap"
           }
          ],
          "heatmapgl": [
           {
            "colorbar": {
             "outlinewidth": 0,
             "ticks": ""
            },
            "colorscale": [
             [
              0,
              "#0d0887"
             ],
             [
              0.1111111111111111,
              "#46039f"
             ],
             [
              0.2222222222222222,
              "#7201a8"
             ],
             [
              0.3333333333333333,
              "#9c179e"
             ],
             [
              0.4444444444444444,
              "#bd3786"
             ],
             [
              0.5555555555555556,
              "#d8576b"
             ],
             [
              0.6666666666666666,
              "#ed7953"
             ],
             [
              0.7777777777777778,
              "#fb9f3a"
             ],
             [
              0.8888888888888888,
              "#fdca26"
             ],
             [
              1,
              "#f0f921"
             ]
            ],
            "type": "heatmapgl"
           }
          ],
          "histogram": [
           {
            "marker": {
             "pattern": {
              "fillmode": "overlay",
              "size": 10,
              "solidity": 0.2
             }
            },
            "type": "histogram"
           }
          ],
          "histogram2d": [
           {
            "colorbar": {
             "outlinewidth": 0,
             "ticks": ""
            },
            "colorscale": [
             [
              0,
              "#0d0887"
             ],
             [
              0.1111111111111111,
              "#46039f"
             ],
             [
              0.2222222222222222,
              "#7201a8"
             ],
             [
              0.3333333333333333,
              "#9c179e"
             ],
             [
              0.4444444444444444,
              "#bd3786"
             ],
             [
              0.5555555555555556,
              "#d8576b"
             ],
             [
              0.6666666666666666,
              "#ed7953"
             ],
             [
              0.7777777777777778,
              "#fb9f3a"
             ],
             [
              0.8888888888888888,
              "#fdca26"
             ],
             [
              1,
              "#f0f921"
             ]
            ],
            "type": "histogram2d"
           }
          ],
          "histogram2dcontour": [
           {
            "colorbar": {
             "outlinewidth": 0,
             "ticks": ""
            },
            "colorscale": [
             [
              0,
              "#0d0887"
             ],
             [
              0.1111111111111111,
              "#46039f"
             ],
             [
              0.2222222222222222,
              "#7201a8"
             ],
             [
              0.3333333333333333,
              "#9c179e"
             ],
             [
              0.4444444444444444,
              "#bd3786"
             ],
             [
              0.5555555555555556,
              "#d8576b"
             ],
             [
              0.6666666666666666,
              "#ed7953"
             ],
             [
              0.7777777777777778,
              "#fb9f3a"
             ],
             [
              0.8888888888888888,
              "#fdca26"
             ],
             [
              1,
              "#f0f921"
             ]
            ],
            "type": "histogram2dcontour"
           }
          ],
          "mesh3d": [
           {
            "colorbar": {
             "outlinewidth": 0,
             "ticks": ""
            },
            "type": "mesh3d"
           }
          ],
          "parcoords": [
           {
            "line": {
             "colorbar": {
              "outlinewidth": 0,
              "ticks": ""
             }
            },
            "type": "parcoords"
           }
          ],
          "pie": [
           {
            "automargin": true,
            "type": "pie"
           }
          ],
          "scatter": [
           {
            "marker": {
             "colorbar": {
              "outlinewidth": 0,
              "ticks": ""
             }
            },
            "type": "scatter"
           }
          ],
          "scatter3d": [
           {
            "line": {
             "colorbar": {
              "outlinewidth": 0,
              "ticks": ""
             }
            },
            "marker": {
             "colorbar": {
              "outlinewidth": 0,
              "ticks": ""
             }
            },
            "type": "scatter3d"
           }
          ],
          "scattercarpet": [
           {
            "marker": {
             "colorbar": {
              "outlinewidth": 0,
              "ticks": ""
             }
            },
            "type": "scattercarpet"
           }
          ],
          "scattergeo": [
           {
            "marker": {
             "colorbar": {
              "outlinewidth": 0,
              "ticks": ""
             }
            },
            "type": "scattergeo"
           }
          ],
          "scattergl": [
           {
            "marker": {
             "colorbar": {
              "outlinewidth": 0,
              "ticks": ""
             }
            },
            "type": "scattergl"
           }
          ],
          "scattermapbox": [
           {
            "marker": {
             "colorbar": {
              "outlinewidth": 0,
              "ticks": ""
             }
            },
            "type": "scattermapbox"
           }
          ],
          "scatterpolar": [
           {
            "marker": {
             "colorbar": {
              "outlinewidth": 0,
              "ticks": ""
             }
            },
            "type": "scatterpolar"
           }
          ],
          "scatterpolargl": [
           {
            "marker": {
             "colorbar": {
              "outlinewidth": 0,
              "ticks": ""
             }
            },
            "type": "scatterpolargl"
           }
          ],
          "scatterternary": [
           {
            "marker": {
             "colorbar": {
              "outlinewidth": 0,
              "ticks": ""
             }
            },
            "type": "scatterternary"
           }
          ],
          "surface": [
           {
            "colorbar": {
             "outlinewidth": 0,
             "ticks": ""
            },
            "colorscale": [
             [
              0,
              "#0d0887"
             ],
             [
              0.1111111111111111,
              "#46039f"
             ],
             [
              0.2222222222222222,
              "#7201a8"
             ],
             [
              0.3333333333333333,
              "#9c179e"
             ],
             [
              0.4444444444444444,
              "#bd3786"
             ],
             [
              0.5555555555555556,
              "#d8576b"
             ],
             [
              0.6666666666666666,
              "#ed7953"
             ],
             [
              0.7777777777777778,
              "#fb9f3a"
             ],
             [
              0.8888888888888888,
              "#fdca26"
             ],
             [
              1,
              "#f0f921"
             ]
            ],
            "type": "surface"
           }
          ],
          "table": [
           {
            "cells": {
             "fill": {
              "color": "#EBF0F8"
             },
             "line": {
              "color": "white"
             }
            },
            "header": {
             "fill": {
              "color": "#C8D4E3"
             },
             "line": {
              "color": "white"
             }
            },
            "type": "table"
           }
          ]
         },
         "layout": {
          "annotationdefaults": {
           "arrowcolor": "#2a3f5f",
           "arrowhead": 0,
           "arrowwidth": 1
          },
          "autotypenumbers": "strict",
          "coloraxis": {
           "colorbar": {
            "outlinewidth": 0,
            "ticks": ""
           }
          },
          "colorscale": {
           "diverging": [
            [
             0,
             "#8e0152"
            ],
            [
             0.1,
             "#c51b7d"
            ],
            [
             0.2,
             "#de77ae"
            ],
            [
             0.3,
             "#f1b6da"
            ],
            [
             0.4,
             "#fde0ef"
            ],
            [
             0.5,
             "#f7f7f7"
            ],
            [
             0.6,
             "#e6f5d0"
            ],
            [
             0.7,
             "#b8e186"
            ],
            [
             0.8,
             "#7fbc41"
            ],
            [
             0.9,
             "#4d9221"
            ],
            [
             1,
             "#276419"
            ]
           ],
           "sequential": [
            [
             0,
             "#0d0887"
            ],
            [
             0.1111111111111111,
             "#46039f"
            ],
            [
             0.2222222222222222,
             "#7201a8"
            ],
            [
             0.3333333333333333,
             "#9c179e"
            ],
            [
             0.4444444444444444,
             "#bd3786"
            ],
            [
             0.5555555555555556,
             "#d8576b"
            ],
            [
             0.6666666666666666,
             "#ed7953"
            ],
            [
             0.7777777777777778,
             "#fb9f3a"
            ],
            [
             0.8888888888888888,
             "#fdca26"
            ],
            [
             1,
             "#f0f921"
            ]
           ],
           "sequentialminus": [
            [
             0,
             "#0d0887"
            ],
            [
             0.1111111111111111,
             "#46039f"
            ],
            [
             0.2222222222222222,
             "#7201a8"
            ],
            [
             0.3333333333333333,
             "#9c179e"
            ],
            [
             0.4444444444444444,
             "#bd3786"
            ],
            [
             0.5555555555555556,
             "#d8576b"
            ],
            [
             0.6666666666666666,
             "#ed7953"
            ],
            [
             0.7777777777777778,
             "#fb9f3a"
            ],
            [
             0.8888888888888888,
             "#fdca26"
            ],
            [
             1,
             "#f0f921"
            ]
           ]
          },
          "colorway": [
           "#636efa",
           "#EF553B",
           "#00cc96",
           "#ab63fa",
           "#FFA15A",
           "#19d3f3",
           "#FF6692",
           "#B6E880",
           "#FF97FF",
           "#FECB52"
          ],
          "font": {
           "color": "#2a3f5f"
          },
          "geo": {
           "bgcolor": "white",
           "lakecolor": "white",
           "landcolor": "#E5ECF6",
           "showlakes": true,
           "showland": true,
           "subunitcolor": "white"
          },
          "hoverlabel": {
           "align": "left"
          },
          "hovermode": "closest",
          "mapbox": {
           "style": "light"
          },
          "paper_bgcolor": "white",
          "plot_bgcolor": "#E5ECF6",
          "polar": {
           "angularaxis": {
            "gridcolor": "white",
            "linecolor": "white",
            "ticks": ""
           },
           "bgcolor": "#E5ECF6",
           "radialaxis": {
            "gridcolor": "white",
            "linecolor": "white",
            "ticks": ""
           }
          },
          "scene": {
           "xaxis": {
            "backgroundcolor": "#E5ECF6",
            "gridcolor": "white",
            "gridwidth": 2,
            "linecolor": "white",
            "showbackground": true,
            "ticks": "",
            "zerolinecolor": "white"
           },
           "yaxis": {
            "backgroundcolor": "#E5ECF6",
            "gridcolor": "white",
            "gridwidth": 2,
            "linecolor": "white",
            "showbackground": true,
            "ticks": "",
            "zerolinecolor": "white"
           },
           "zaxis": {
            "backgroundcolor": "#E5ECF6",
            "gridcolor": "white",
            "gridwidth": 2,
            "linecolor": "white",
            "showbackground": true,
            "ticks": "",
            "zerolinecolor": "white"
           }
          },
          "shapedefaults": {
           "line": {
            "color": "#2a3f5f"
           }
          },
          "ternary": {
           "aaxis": {
            "gridcolor": "white",
            "linecolor": "white",
            "ticks": ""
           },
           "baxis": {
            "gridcolor": "white",
            "linecolor": "white",
            "ticks": ""
           },
           "bgcolor": "#E5ECF6",
           "caxis": {
            "gridcolor": "white",
            "linecolor": "white",
            "ticks": ""
           }
          },
          "title": {
           "x": 0.05
          },
          "xaxis": {
           "automargin": true,
           "gridcolor": "white",
           "linecolor": "white",
           "ticks": "",
           "title": {
            "standoff": 15
           },
           "zerolinecolor": "white",
           "zerolinewidth": 2
          },
          "yaxis": {
           "automargin": true,
           "gridcolor": "white",
           "linecolor": "white",
           "ticks": "",
           "title": {
            "standoff": 15
           },
           "zerolinecolor": "white",
           "zerolinewidth": 2
          }
         }
        },
        "title": {
         "font": {
          "color": "#4D5663"
         },
         "text": "Top 100 words after removing stop words"
        },
        "xaxis": {
         "gridcolor": "#E1E5ED",
         "linecolor": "black",
         "showgrid": true,
         "tickfont": {
          "color": "#4D5663"
         },
         "title": {
          "font": {
           "color": "#4D5663"
          },
          "text": ""
         },
         "zerolinecolor": "#E1E5ED"
        },
        "yaxis": {
         "gridcolor": "#E1E5ED",
         "linecolor": "black",
         "showgrid": true,
         "tickfont": {
          "color": "#4D5663"
         },
         "title": {
          "font": {
           "color": "#4D5663"
          },
          "text": "Count"
         },
         "zerolinecolor": "#E1E5ED"
        }
       }
      },
      "text/html": [
       "<div>                            <div id=\"21e55969-03c2-4f95-8f74-5b0f71fc9b8e\" class=\"plotly-graph-div\" style=\"height:525px; width:100%;\"></div>            <script type=\"text/javascript\">                require([\"plotly\"], function(Plotly) {                    window.PLOTLYENV=window.PLOTLYENV || {};\n",
       "                    window.PLOTLYENV.BASE_URL='https://plot.ly';                                    if (document.getElementById(\"21e55969-03c2-4f95-8f74-5b0f71fc9b8e\")) {                    Plotly.newPlot(                        \"21e55969-03c2-4f95-8f74-5b0f71fc9b8e\",                        [{\"marker\":{\"color\":\"rgba(255, 153, 51, 0.6)\",\"line\":{\"color\":\"rgba(255, 153, 51, 1.0)\",\"width\":1}},\"name\":\"count\",\"orientation\":\"v\",\"text\":\"\",\"x\":[\"go\",\"say\",\"get\",\"know\",\"make\",\"feel\",\"want\",\"love\",\"time\",\"people\",\"think\",\"good\",\"would\",\"really\",\"take\",\"year\",\"thing\",\"day\",\"see\",\"tell\",\"friend\",\"work\",\"life\",\"ask\",\"come\",\"find\",\"could\",\"even\",\"try\",\"well\",\"much\",\"never\",\"help\",\"talk\",\"look\",\"man\",\"give\",\"way\",\"need\",\"school\",\"start\",\"still\",\"back\",\"first\",\"use\",\"also\",\"call\",\"new\",\"keep\",\"may\",\"person\",\"bad\",\"right\",\"live\",\"always\",\"ever\",\"girl\",\"thank\",\"leave\",\"guy\",\"religion\",\"long\",\"job\",\"lot\",\"little\",\"believe\",\"woman\",\"week\",\"question\",\"let\",\"month\",\"end\",\"last\",\"many\",\"stop\",\"great\",\"happen\",\"world\",\"care\",\"hard\",\"home\",\"animal\",\"mean\",\"relationship\",\"away\",\"old\",\"family\",\"put\",\"student\",\"hope\",\"change\",\"hear\",\"post\",\"name\",\"happy\",\"meet\",\"move\",\"seem\",\"show\",\"big\"],\"y\":[3256,2978,2935,2696,2275,2216,2168,2107,2087,1813,1801,1680,1632,1522,1516,1443,1425,1409,1400,1382,1240,1229,1225,1212,1152,1148,1140,1122,1116,1113,1109,1103,1071,1036,1026,1001,967,966,964,958,950,949,913,906,845,828,809,801,796,782,769,759,732,691,689,673,655,653,644,639,624,611,603,597,597,597,595,575,565,562,544,541,541,540,528,526,520,509,506,505,504,485,479,475,468,462,448,447,441,437,430,429,426,425,423,418,416,413,412,411],\"type\":\"bar\"}],                        {\"legend\":{\"bgcolor\":\"#F5F6F9\",\"font\":{\"color\":\"#4D5663\"}},\"paper_bgcolor\":\"#F5F6F9\",\"plot_bgcolor\":\"#F5F6F9\",\"template\":{\"data\":{\"barpolar\":[{\"marker\":{\"line\":{\"color\":\"#E5ECF6\",\"width\":0.5},\"pattern\":{\"fillmode\":\"overlay\",\"size\":10,\"solidity\":0.2}},\"type\":\"barpolar\"}],\"bar\":[{\"error_x\":{\"color\":\"#2a3f5f\"},\"error_y\":{\"color\":\"#2a3f5f\"},\"marker\":{\"line\":{\"color\":\"#E5ECF6\",\"width\":0.5},\"pattern\":{\"fillmode\":\"overlay\",\"size\":10,\"solidity\":0.2}},\"type\":\"bar\"}],\"carpet\":[{\"aaxis\":{\"endlinecolor\":\"#2a3f5f\",\"gridcolor\":\"white\",\"linecolor\":\"white\",\"minorgridcolor\":\"white\",\"startlinecolor\":\"#2a3f5f\"},\"baxis\":{\"endlinecolor\":\"#2a3f5f\",\"gridcolor\":\"white\",\"linecolor\":\"white\",\"minorgridcolor\":\"white\",\"startlinecolor\":\"#2a3f5f\"},\"type\":\"carpet\"}],\"choropleth\":[{\"colorbar\":{\"outlinewidth\":0,\"ticks\":\"\"},\"type\":\"choropleth\"}],\"contourcarpet\":[{\"colorbar\":{\"outlinewidth\":0,\"ticks\":\"\"},\"type\":\"contourcarpet\"}],\"contour\":[{\"colorbar\":{\"outlinewidth\":0,\"ticks\":\"\"},\"colorscale\":[[0.0,\"#0d0887\"],[0.1111111111111111,\"#46039f\"],[0.2222222222222222,\"#7201a8\"],[0.3333333333333333,\"#9c179e\"],[0.4444444444444444,\"#bd3786\"],[0.5555555555555556,\"#d8576b\"],[0.6666666666666666,\"#ed7953\"],[0.7777777777777778,\"#fb9f3a\"],[0.8888888888888888,\"#fdca26\"],[1.0,\"#f0f921\"]],\"type\":\"contour\"}],\"heatmapgl\":[{\"colorbar\":{\"outlinewidth\":0,\"ticks\":\"\"},\"colorscale\":[[0.0,\"#0d0887\"],[0.1111111111111111,\"#46039f\"],[0.2222222222222222,\"#7201a8\"],[0.3333333333333333,\"#9c179e\"],[0.4444444444444444,\"#bd3786\"],[0.5555555555555556,\"#d8576b\"],[0.6666666666666666,\"#ed7953\"],[0.7777777777777778,\"#fb9f3a\"],[0.8888888888888888,\"#fdca26\"],[1.0,\"#f0f921\"]],\"type\":\"heatmapgl\"}],\"heatmap\":[{\"colorbar\":{\"outlinewidth\":0,\"ticks\":\"\"},\"colorscale\":[[0.0,\"#0d0887\"],[0.1111111111111111,\"#46039f\"],[0.2222222222222222,\"#7201a8\"],[0.3333333333333333,\"#9c179e\"],[0.4444444444444444,\"#bd3786\"],[0.5555555555555556,\"#d8576b\"],[0.6666666666666666,\"#ed7953\"],[0.7777777777777778,\"#fb9f3a\"],[0.8888888888888888,\"#fdca26\"],[1.0,\"#f0f921\"]],\"type\":\"heatmap\"}],\"histogram2dcontour\":[{\"colorbar\":{\"outlinewidth\":0,\"ticks\":\"\"},\"colorscale\":[[0.0,\"#0d0887\"],[0.1111111111111111,\"#46039f\"],[0.2222222222222222,\"#7201a8\"],[0.3333333333333333,\"#9c179e\"],[0.4444444444444444,\"#bd3786\"],[0.5555555555555556,\"#d8576b\"],[0.6666666666666666,\"#ed7953\"],[0.7777777777777778,\"#fb9f3a\"],[0.8888888888888888,\"#fdca26\"],[1.0,\"#f0f921\"]],\"type\":\"histogram2dcontour\"}],\"histogram2d\":[{\"colorbar\":{\"outlinewidth\":0,\"ticks\":\"\"},\"colorscale\":[[0.0,\"#0d0887\"],[0.1111111111111111,\"#46039f\"],[0.2222222222222222,\"#7201a8\"],[0.3333333333333333,\"#9c179e\"],[0.4444444444444444,\"#bd3786\"],[0.5555555555555556,\"#d8576b\"],[0.6666666666666666,\"#ed7953\"],[0.7777777777777778,\"#fb9f3a\"],[0.8888888888888888,\"#fdca26\"],[1.0,\"#f0f921\"]],\"type\":\"histogram2d\"}],\"histogram\":[{\"marker\":{\"pattern\":{\"fillmode\":\"overlay\",\"size\":10,\"solidity\":0.2}},\"type\":\"histogram\"}],\"mesh3d\":[{\"colorbar\":{\"outlinewidth\":0,\"ticks\":\"\"},\"type\":\"mesh3d\"}],\"parcoords\":[{\"line\":{\"colorbar\":{\"outlinewidth\":0,\"ticks\":\"\"}},\"type\":\"parcoords\"}],\"pie\":[{\"automargin\":true,\"type\":\"pie\"}],\"scatter3d\":[{\"line\":{\"colorbar\":{\"outlinewidth\":0,\"ticks\":\"\"}},\"marker\":{\"colorbar\":{\"outlinewidth\":0,\"ticks\":\"\"}},\"type\":\"scatter3d\"}],\"scattercarpet\":[{\"marker\":{\"colorbar\":{\"outlinewidth\":0,\"ticks\":\"\"}},\"type\":\"scattercarpet\"}],\"scattergeo\":[{\"marker\":{\"colorbar\":{\"outlinewidth\":0,\"ticks\":\"\"}},\"type\":\"scattergeo\"}],\"scattergl\":[{\"marker\":{\"colorbar\":{\"outlinewidth\":0,\"ticks\":\"\"}},\"type\":\"scattergl\"}],\"scattermapbox\":[{\"marker\":{\"colorbar\":{\"outlinewidth\":0,\"ticks\":\"\"}},\"type\":\"scattermapbox\"}],\"scatterpolargl\":[{\"marker\":{\"colorbar\":{\"outlinewidth\":0,\"ticks\":\"\"}},\"type\":\"scatterpolargl\"}],\"scatterpolar\":[{\"marker\":{\"colorbar\":{\"outlinewidth\":0,\"ticks\":\"\"}},\"type\":\"scatterpolar\"}],\"scatter\":[{\"marker\":{\"colorbar\":{\"outlinewidth\":0,\"ticks\":\"\"}},\"type\":\"scatter\"}],\"scatterternary\":[{\"marker\":{\"colorbar\":{\"outlinewidth\":0,\"ticks\":\"\"}},\"type\":\"scatterternary\"}],\"surface\":[{\"colorbar\":{\"outlinewidth\":0,\"ticks\":\"\"},\"colorscale\":[[0.0,\"#0d0887\"],[0.1111111111111111,\"#46039f\"],[0.2222222222222222,\"#7201a8\"],[0.3333333333333333,\"#9c179e\"],[0.4444444444444444,\"#bd3786\"],[0.5555555555555556,\"#d8576b\"],[0.6666666666666666,\"#ed7953\"],[0.7777777777777778,\"#fb9f3a\"],[0.8888888888888888,\"#fdca26\"],[1.0,\"#f0f921\"]],\"type\":\"surface\"}],\"table\":[{\"cells\":{\"fill\":{\"color\":\"#EBF0F8\"},\"line\":{\"color\":\"white\"}},\"header\":{\"fill\":{\"color\":\"#C8D4E3\"},\"line\":{\"color\":\"white\"}},\"type\":\"table\"}]},\"layout\":{\"annotationdefaults\":{\"arrowcolor\":\"#2a3f5f\",\"arrowhead\":0,\"arrowwidth\":1},\"autotypenumbers\":\"strict\",\"coloraxis\":{\"colorbar\":{\"outlinewidth\":0,\"ticks\":\"\"}},\"colorscale\":{\"diverging\":[[0,\"#8e0152\"],[0.1,\"#c51b7d\"],[0.2,\"#de77ae\"],[0.3,\"#f1b6da\"],[0.4,\"#fde0ef\"],[0.5,\"#f7f7f7\"],[0.6,\"#e6f5d0\"],[0.7,\"#b8e186\"],[0.8,\"#7fbc41\"],[0.9,\"#4d9221\"],[1,\"#276419\"]],\"sequential\":[[0.0,\"#0d0887\"],[0.1111111111111111,\"#46039f\"],[0.2222222222222222,\"#7201a8\"],[0.3333333333333333,\"#9c179e\"],[0.4444444444444444,\"#bd3786\"],[0.5555555555555556,\"#d8576b\"],[0.6666666666666666,\"#ed7953\"],[0.7777777777777778,\"#fb9f3a\"],[0.8888888888888888,\"#fdca26\"],[1.0,\"#f0f921\"]],\"sequentialminus\":[[0.0,\"#0d0887\"],[0.1111111111111111,\"#46039f\"],[0.2222222222222222,\"#7201a8\"],[0.3333333333333333,\"#9c179e\"],[0.4444444444444444,\"#bd3786\"],[0.5555555555555556,\"#d8576b\"],[0.6666666666666666,\"#ed7953\"],[0.7777777777777778,\"#fb9f3a\"],[0.8888888888888888,\"#fdca26\"],[1.0,\"#f0f921\"]]},\"colorway\":[\"#636efa\",\"#EF553B\",\"#00cc96\",\"#ab63fa\",\"#FFA15A\",\"#19d3f3\",\"#FF6692\",\"#B6E880\",\"#FF97FF\",\"#FECB52\"],\"font\":{\"color\":\"#2a3f5f\"},\"geo\":{\"bgcolor\":\"white\",\"lakecolor\":\"white\",\"landcolor\":\"#E5ECF6\",\"showlakes\":true,\"showland\":true,\"subunitcolor\":\"white\"},\"hoverlabel\":{\"align\":\"left\"},\"hovermode\":\"closest\",\"mapbox\":{\"style\":\"light\"},\"paper_bgcolor\":\"white\",\"plot_bgcolor\":\"#E5ECF6\",\"polar\":{\"angularaxis\":{\"gridcolor\":\"white\",\"linecolor\":\"white\",\"ticks\":\"\"},\"bgcolor\":\"#E5ECF6\",\"radialaxis\":{\"gridcolor\":\"white\",\"linecolor\":\"white\",\"ticks\":\"\"}},\"scene\":{\"xaxis\":{\"backgroundcolor\":\"#E5ECF6\",\"gridcolor\":\"white\",\"gridwidth\":2,\"linecolor\":\"white\",\"showbackground\":true,\"ticks\":\"\",\"zerolinecolor\":\"white\"},\"yaxis\":{\"backgroundcolor\":\"#E5ECF6\",\"gridcolor\":\"white\",\"gridwidth\":2,\"linecolor\":\"white\",\"showbackground\":true,\"ticks\":\"\",\"zerolinecolor\":\"white\"},\"zaxis\":{\"backgroundcolor\":\"#E5ECF6\",\"gridcolor\":\"white\",\"gridwidth\":2,\"linecolor\":\"white\",\"showbackground\":true,\"ticks\":\"\",\"zerolinecolor\":\"white\"}},\"shapedefaults\":{\"line\":{\"color\":\"#2a3f5f\"}},\"ternary\":{\"aaxis\":{\"gridcolor\":\"white\",\"linecolor\":\"white\",\"ticks\":\"\"},\"baxis\":{\"gridcolor\":\"white\",\"linecolor\":\"white\",\"ticks\":\"\"},\"bgcolor\":\"#E5ECF6\",\"caxis\":{\"gridcolor\":\"white\",\"linecolor\":\"white\",\"ticks\":\"\"}},\"title\":{\"x\":0.05},\"xaxis\":{\"automargin\":true,\"gridcolor\":\"white\",\"linecolor\":\"white\",\"ticks\":\"\",\"title\":{\"standoff\":15},\"zerolinecolor\":\"white\",\"zerolinewidth\":2},\"yaxis\":{\"automargin\":true,\"gridcolor\":\"white\",\"linecolor\":\"white\",\"ticks\":\"\",\"title\":{\"standoff\":15},\"zerolinecolor\":\"white\",\"zerolinewidth\":2}}},\"title\":{\"font\":{\"color\":\"#4D5663\"},\"text\":\"Top 100 words after removing stop words\"},\"xaxis\":{\"gridcolor\":\"#E1E5ED\",\"linecolor\":\"black\",\"showgrid\":true,\"tickfont\":{\"color\":\"#4D5663\"},\"title\":{\"font\":{\"color\":\"#4D5663\"},\"text\":\"\"},\"zerolinecolor\":\"#E1E5ED\"},\"yaxis\":{\"gridcolor\":\"#E1E5ED\",\"linecolor\":\"black\",\"showgrid\":true,\"tickfont\":{\"color\":\"#4D5663\"},\"title\":{\"font\":{\"color\":\"#4D5663\"},\"text\":\"Count\"},\"zerolinecolor\":\"#E1E5ED\"}},                        {\"showLink\": true, \"linkText\": \"Export to plot.ly\", \"plotlyServerURL\": \"https://plot.ly\", \"responsive\": true}                    ).then(function(){\n",
       "                            \n",
       "var gd = document.getElementById('21e55969-03c2-4f95-8f74-5b0f71fc9b8e');\n",
       "var x = new MutationObserver(function (mutations, observer) {{\n",
       "        var display = window.getComputedStyle(gd).display;\n",
       "        if (!display || display === 'none') {{\n",
       "            console.log([gd, 'removed!']);\n",
       "            Plotly.purge(gd);\n",
       "            observer.disconnect();\n",
       "        }}\n",
       "}});\n",
       "\n",
       "// Listen for the removal of the full notebook cells\n",
       "var notebookContainer = gd.closest('#notebook-container');\n",
       "if (notebookContainer) {{\n",
       "    x.observe(notebookContainer, {childList: true});\n",
       "}}\n",
       "\n",
       "// Listen for the clearing of the current output cell\n",
       "var outputEl = gd.closest('.output');\n",
       "if (outputEl) {{\n",
       "    x.observe(outputEl, {childList: true});\n",
       "}}\n",
       "\n",
       "                        })                };                });            </script>        </div>"
      ]
     },
     "metadata": {},
     "output_type": "display_data"
    }
   ],
   "source": [
    "plot_model()"
   ]
  },
  {
   "cell_type": "markdown",
   "id": "6dbb6d2c",
   "metadata": {},
   "source": [
    "# Top 100 Bigrams on Entire Corpus"
   ]
  },
  {
   "cell_type": "code",
   "execution_count": 11,
   "id": "f2f6e645",
   "metadata": {},
   "outputs": [
    {
     "data": {
      "text/html": [
       "        <script type=\"text/javascript\">\n",
       "        window.PlotlyConfig = {MathJaxConfig: 'local'};\n",
       "        if (window.MathJax) {MathJax.Hub.Config({SVG: {font: \"STIX-Web\"}});}\n",
       "        if (typeof require !== 'undefined') {\n",
       "        require.undef(\"plotly\");\n",
       "        requirejs.config({\n",
       "            paths: {\n",
       "                'plotly': ['https://cdn.plot.ly/plotly-2.8.3.min']\n",
       "            }\n",
       "        });\n",
       "        require(['plotly'], function(Plotly) {\n",
       "            window._Plotly = Plotly;\n",
       "        });\n",
       "        }\n",
       "        </script>\n",
       "        "
      ]
     },
     "metadata": {},
     "output_type": "display_data"
    },
    {
     "data": {
      "application/vnd.plotly.v1+json": {
       "config": {
        "linkText": "Export to plot.ly",
        "plotlyServerURL": "https://plot.ly",
        "showLink": true
       },
       "data": [
        {
         "marker": {
          "color": "rgba(255, 153, 51, 0.6)",
          "line": {
           "color": "rgba(255, 153, 51, 1.0)",
           "width": 1
          }
         },
         "name": "count",
         "orientation": "v",
         "text": "",
         "type": "bar",
         "x": [
          "good friend",
          "first time",
          "person person",
          "make feel",
          "come back",
          "last year",
          "go back",
          "fall love",
          "year old",
          "want know",
          "good job",
          "thank much",
          "really want",
          "long time",
          "pretty much",
          "let go",
          "get well",
          "keep go",
          "next day",
          "take care",
          "say want",
          "would like",
          "say go",
          "think would",
          "know go",
          "make sure",
          "love love",
          "feel free",
          "want go",
          "make happy",
          "love much",
          "feel bad",
          "say love",
          "great job",
          "feel well",
          "wish could",
          "ask question",
          "go home",
          "many people",
          "even know",
          "good thing",
          "need help",
          "say know",
          "let know",
          "come home",
          "never really",
          "really good",
          "go go",
          "feel love",
          "old man",
          "get really",
          "first day",
          "know know",
          "want make",
          "get back",
          "try make",
          "would say",
          "really need",
          "people think",
          "feel way",
          "new study",
          "much love",
          "go away",
          "last time",
          "say say",
          "hard time",
          "last week",
          "would make",
          "tell want",
          "want talk",
          "man say",
          "love know",
          "know feel",
          "next year",
          "never get",
          "ask away",
          "take time",
          "know love",
          "know want",
          "love life",
          "feel good",
          "spend time",
          "want see",
          "thing get",
          "year ago",
          "say get",
          "really really",
          "thing go",
          "almost year",
          "know get",
          "tell go",
          "still love",
          "real life",
          "would love",
          "ever see",
          "really love",
          "thing know",
          "way go",
          "get good",
          "bad thing"
         ],
         "y": [
          162,
          157,
          157,
          142,
          125,
          118,
          111,
          96,
          95,
          91,
          85,
          83,
          76,
          74,
          73,
          72,
          69,
          68,
          65,
          65,
          64,
          63,
          63,
          61,
          61,
          61,
          60,
          60,
          59,
          59,
          59,
          57,
          55,
          54,
          54,
          54,
          53,
          52,
          52,
          51,
          51,
          51,
          51,
          51,
          51,
          49,
          49,
          48,
          48,
          48,
          47,
          47,
          46,
          46,
          45,
          45,
          44,
          43,
          43,
          43,
          43,
          43,
          43,
          42,
          42,
          42,
          42,
          42,
          41,
          41,
          41,
          41,
          41,
          40,
          40,
          40,
          39,
          39,
          39,
          38,
          38,
          38,
          38,
          38,
          37,
          37,
          37,
          37,
          37,
          36,
          36,
          36,
          36,
          36,
          36,
          36,
          35,
          35,
          35,
          35
         ]
        }
       ],
       "layout": {
        "legend": {
         "bgcolor": "#F5F6F9",
         "font": {
          "color": "#4D5663"
         }
        },
        "paper_bgcolor": "#F5F6F9",
        "plot_bgcolor": "#F5F6F9",
        "template": {
         "data": {
          "bar": [
           {
            "error_x": {
             "color": "#2a3f5f"
            },
            "error_y": {
             "color": "#2a3f5f"
            },
            "marker": {
             "line": {
              "color": "#E5ECF6",
              "width": 0.5
             },
             "pattern": {
              "fillmode": "overlay",
              "size": 10,
              "solidity": 0.2
             }
            },
            "type": "bar"
           }
          ],
          "barpolar": [
           {
            "marker": {
             "line": {
              "color": "#E5ECF6",
              "width": 0.5
             },
             "pattern": {
              "fillmode": "overlay",
              "size": 10,
              "solidity": 0.2
             }
            },
            "type": "barpolar"
           }
          ],
          "carpet": [
           {
            "aaxis": {
             "endlinecolor": "#2a3f5f",
             "gridcolor": "white",
             "linecolor": "white",
             "minorgridcolor": "white",
             "startlinecolor": "#2a3f5f"
            },
            "baxis": {
             "endlinecolor": "#2a3f5f",
             "gridcolor": "white",
             "linecolor": "white",
             "minorgridcolor": "white",
             "startlinecolor": "#2a3f5f"
            },
            "type": "carpet"
           }
          ],
          "choropleth": [
           {
            "colorbar": {
             "outlinewidth": 0,
             "ticks": ""
            },
            "type": "choropleth"
           }
          ],
          "contour": [
           {
            "colorbar": {
             "outlinewidth": 0,
             "ticks": ""
            },
            "colorscale": [
             [
              0,
              "#0d0887"
             ],
             [
              0.1111111111111111,
              "#46039f"
             ],
             [
              0.2222222222222222,
              "#7201a8"
             ],
             [
              0.3333333333333333,
              "#9c179e"
             ],
             [
              0.4444444444444444,
              "#bd3786"
             ],
             [
              0.5555555555555556,
              "#d8576b"
             ],
             [
              0.6666666666666666,
              "#ed7953"
             ],
             [
              0.7777777777777778,
              "#fb9f3a"
             ],
             [
              0.8888888888888888,
              "#fdca26"
             ],
             [
              1,
              "#f0f921"
             ]
            ],
            "type": "contour"
           }
          ],
          "contourcarpet": [
           {
            "colorbar": {
             "outlinewidth": 0,
             "ticks": ""
            },
            "type": "contourcarpet"
           }
          ],
          "heatmap": [
           {
            "colorbar": {
             "outlinewidth": 0,
             "ticks": ""
            },
            "colorscale": [
             [
              0,
              "#0d0887"
             ],
             [
              0.1111111111111111,
              "#46039f"
             ],
             [
              0.2222222222222222,
              "#7201a8"
             ],
             [
              0.3333333333333333,
              "#9c179e"
             ],
             [
              0.4444444444444444,
              "#bd3786"
             ],
             [
              0.5555555555555556,
              "#d8576b"
             ],
             [
              0.6666666666666666,
              "#ed7953"
             ],
             [
              0.7777777777777778,
              "#fb9f3a"
             ],
             [
              0.8888888888888888,
              "#fdca26"
             ],
             [
              1,
              "#f0f921"
             ]
            ],
            "type": "heatmap"
           }
          ],
          "heatmapgl": [
           {
            "colorbar": {
             "outlinewidth": 0,
             "ticks": ""
            },
            "colorscale": [
             [
              0,
              "#0d0887"
             ],
             [
              0.1111111111111111,
              "#46039f"
             ],
             [
              0.2222222222222222,
              "#7201a8"
             ],
             [
              0.3333333333333333,
              "#9c179e"
             ],
             [
              0.4444444444444444,
              "#bd3786"
             ],
             [
              0.5555555555555556,
              "#d8576b"
             ],
             [
              0.6666666666666666,
              "#ed7953"
             ],
             [
              0.7777777777777778,
              "#fb9f3a"
             ],
             [
              0.8888888888888888,
              "#fdca26"
             ],
             [
              1,
              "#f0f921"
             ]
            ],
            "type": "heatmapgl"
           }
          ],
          "histogram": [
           {
            "marker": {
             "pattern": {
              "fillmode": "overlay",
              "size": 10,
              "solidity": 0.2
             }
            },
            "type": "histogram"
           }
          ],
          "histogram2d": [
           {
            "colorbar": {
             "outlinewidth": 0,
             "ticks": ""
            },
            "colorscale": [
             [
              0,
              "#0d0887"
             ],
             [
              0.1111111111111111,
              "#46039f"
             ],
             [
              0.2222222222222222,
              "#7201a8"
             ],
             [
              0.3333333333333333,
              "#9c179e"
             ],
             [
              0.4444444444444444,
              "#bd3786"
             ],
             [
              0.5555555555555556,
              "#d8576b"
             ],
             [
              0.6666666666666666,
              "#ed7953"
             ],
             [
              0.7777777777777778,
              "#fb9f3a"
             ],
             [
              0.8888888888888888,
              "#fdca26"
             ],
             [
              1,
              "#f0f921"
             ]
            ],
            "type": "histogram2d"
           }
          ],
          "histogram2dcontour": [
           {
            "colorbar": {
             "outlinewidth": 0,
             "ticks": ""
            },
            "colorscale": [
             [
              0,
              "#0d0887"
             ],
             [
              0.1111111111111111,
              "#46039f"
             ],
             [
              0.2222222222222222,
              "#7201a8"
             ],
             [
              0.3333333333333333,
              "#9c179e"
             ],
             [
              0.4444444444444444,
              "#bd3786"
             ],
             [
              0.5555555555555556,
              "#d8576b"
             ],
             [
              0.6666666666666666,
              "#ed7953"
             ],
             [
              0.7777777777777778,
              "#fb9f3a"
             ],
             [
              0.8888888888888888,
              "#fdca26"
             ],
             [
              1,
              "#f0f921"
             ]
            ],
            "type": "histogram2dcontour"
           }
          ],
          "mesh3d": [
           {
            "colorbar": {
             "outlinewidth": 0,
             "ticks": ""
            },
            "type": "mesh3d"
           }
          ],
          "parcoords": [
           {
            "line": {
             "colorbar": {
              "outlinewidth": 0,
              "ticks": ""
             }
            },
            "type": "parcoords"
           }
          ],
          "pie": [
           {
            "automargin": true,
            "type": "pie"
           }
          ],
          "scatter": [
           {
            "marker": {
             "colorbar": {
              "outlinewidth": 0,
              "ticks": ""
             }
            },
            "type": "scatter"
           }
          ],
          "scatter3d": [
           {
            "line": {
             "colorbar": {
              "outlinewidth": 0,
              "ticks": ""
             }
            },
            "marker": {
             "colorbar": {
              "outlinewidth": 0,
              "ticks": ""
             }
            },
            "type": "scatter3d"
           }
          ],
          "scattercarpet": [
           {
            "marker": {
             "colorbar": {
              "outlinewidth": 0,
              "ticks": ""
             }
            },
            "type": "scattercarpet"
           }
          ],
          "scattergeo": [
           {
            "marker": {
             "colorbar": {
              "outlinewidth": 0,
              "ticks": ""
             }
            },
            "type": "scattergeo"
           }
          ],
          "scattergl": [
           {
            "marker": {
             "colorbar": {
              "outlinewidth": 0,
              "ticks": ""
             }
            },
            "type": "scattergl"
           }
          ],
          "scattermapbox": [
           {
            "marker": {
             "colorbar": {
              "outlinewidth": 0,
              "ticks": ""
             }
            },
            "type": "scattermapbox"
           }
          ],
          "scatterpolar": [
           {
            "marker": {
             "colorbar": {
              "outlinewidth": 0,
              "ticks": ""
             }
            },
            "type": "scatterpolar"
           }
          ],
          "scatterpolargl": [
           {
            "marker": {
             "colorbar": {
              "outlinewidth": 0,
              "ticks": ""
             }
            },
            "type": "scatterpolargl"
           }
          ],
          "scatterternary": [
           {
            "marker": {
             "colorbar": {
              "outlinewidth": 0,
              "ticks": ""
             }
            },
            "type": "scatterternary"
           }
          ],
          "surface": [
           {
            "colorbar": {
             "outlinewidth": 0,
             "ticks": ""
            },
            "colorscale": [
             [
              0,
              "#0d0887"
             ],
             [
              0.1111111111111111,
              "#46039f"
             ],
             [
              0.2222222222222222,
              "#7201a8"
             ],
             [
              0.3333333333333333,
              "#9c179e"
             ],
             [
              0.4444444444444444,
              "#bd3786"
             ],
             [
              0.5555555555555556,
              "#d8576b"
             ],
             [
              0.6666666666666666,
              "#ed7953"
             ],
             [
              0.7777777777777778,
              "#fb9f3a"
             ],
             [
              0.8888888888888888,
              "#fdca26"
             ],
             [
              1,
              "#f0f921"
             ]
            ],
            "type": "surface"
           }
          ],
          "table": [
           {
            "cells": {
             "fill": {
              "color": "#EBF0F8"
             },
             "line": {
              "color": "white"
             }
            },
            "header": {
             "fill": {
              "color": "#C8D4E3"
             },
             "line": {
              "color": "white"
             }
            },
            "type": "table"
           }
          ]
         },
         "layout": {
          "annotationdefaults": {
           "arrowcolor": "#2a3f5f",
           "arrowhead": 0,
           "arrowwidth": 1
          },
          "autotypenumbers": "strict",
          "coloraxis": {
           "colorbar": {
            "outlinewidth": 0,
            "ticks": ""
           }
          },
          "colorscale": {
           "diverging": [
            [
             0,
             "#8e0152"
            ],
            [
             0.1,
             "#c51b7d"
            ],
            [
             0.2,
             "#de77ae"
            ],
            [
             0.3,
             "#f1b6da"
            ],
            [
             0.4,
             "#fde0ef"
            ],
            [
             0.5,
             "#f7f7f7"
            ],
            [
             0.6,
             "#e6f5d0"
            ],
            [
             0.7,
             "#b8e186"
            ],
            [
             0.8,
             "#7fbc41"
            ],
            [
             0.9,
             "#4d9221"
            ],
            [
             1,
             "#276419"
            ]
           ],
           "sequential": [
            [
             0,
             "#0d0887"
            ],
            [
             0.1111111111111111,
             "#46039f"
            ],
            [
             0.2222222222222222,
             "#7201a8"
            ],
            [
             0.3333333333333333,
             "#9c179e"
            ],
            [
             0.4444444444444444,
             "#bd3786"
            ],
            [
             0.5555555555555556,
             "#d8576b"
            ],
            [
             0.6666666666666666,
             "#ed7953"
            ],
            [
             0.7777777777777778,
             "#fb9f3a"
            ],
            [
             0.8888888888888888,
             "#fdca26"
            ],
            [
             1,
             "#f0f921"
            ]
           ],
           "sequentialminus": [
            [
             0,
             "#0d0887"
            ],
            [
             0.1111111111111111,
             "#46039f"
            ],
            [
             0.2222222222222222,
             "#7201a8"
            ],
            [
             0.3333333333333333,
             "#9c179e"
            ],
            [
             0.4444444444444444,
             "#bd3786"
            ],
            [
             0.5555555555555556,
             "#d8576b"
            ],
            [
             0.6666666666666666,
             "#ed7953"
            ],
            [
             0.7777777777777778,
             "#fb9f3a"
            ],
            [
             0.8888888888888888,
             "#fdca26"
            ],
            [
             1,
             "#f0f921"
            ]
           ]
          },
          "colorway": [
           "#636efa",
           "#EF553B",
           "#00cc96",
           "#ab63fa",
           "#FFA15A",
           "#19d3f3",
           "#FF6692",
           "#B6E880",
           "#FF97FF",
           "#FECB52"
          ],
          "font": {
           "color": "#2a3f5f"
          },
          "geo": {
           "bgcolor": "white",
           "lakecolor": "white",
           "landcolor": "#E5ECF6",
           "showlakes": true,
           "showland": true,
           "subunitcolor": "white"
          },
          "hoverlabel": {
           "align": "left"
          },
          "hovermode": "closest",
          "mapbox": {
           "style": "light"
          },
          "paper_bgcolor": "white",
          "plot_bgcolor": "#E5ECF6",
          "polar": {
           "angularaxis": {
            "gridcolor": "white",
            "linecolor": "white",
            "ticks": ""
           },
           "bgcolor": "#E5ECF6",
           "radialaxis": {
            "gridcolor": "white",
            "linecolor": "white",
            "ticks": ""
           }
          },
          "scene": {
           "xaxis": {
            "backgroundcolor": "#E5ECF6",
            "gridcolor": "white",
            "gridwidth": 2,
            "linecolor": "white",
            "showbackground": true,
            "ticks": "",
            "zerolinecolor": "white"
           },
           "yaxis": {
            "backgroundcolor": "#E5ECF6",
            "gridcolor": "white",
            "gridwidth": 2,
            "linecolor": "white",
            "showbackground": true,
            "ticks": "",
            "zerolinecolor": "white"
           },
           "zaxis": {
            "backgroundcolor": "#E5ECF6",
            "gridcolor": "white",
            "gridwidth": 2,
            "linecolor": "white",
            "showbackground": true,
            "ticks": "",
            "zerolinecolor": "white"
           }
          },
          "shapedefaults": {
           "line": {
            "color": "#2a3f5f"
           }
          },
          "ternary": {
           "aaxis": {
            "gridcolor": "white",
            "linecolor": "white",
            "ticks": ""
           },
           "baxis": {
            "gridcolor": "white",
            "linecolor": "white",
            "ticks": ""
           },
           "bgcolor": "#E5ECF6",
           "caxis": {
            "gridcolor": "white",
            "linecolor": "white",
            "ticks": ""
           }
          },
          "title": {
           "x": 0.05
          },
          "xaxis": {
           "automargin": true,
           "gridcolor": "white",
           "linecolor": "white",
           "ticks": "",
           "title": {
            "standoff": 15
           },
           "zerolinecolor": "white",
           "zerolinewidth": 2
          },
          "yaxis": {
           "automargin": true,
           "gridcolor": "white",
           "linecolor": "white",
           "ticks": "",
           "title": {
            "standoff": 15
           },
           "zerolinecolor": "white",
           "zerolinewidth": 2
          }
         }
        },
        "title": {
         "font": {
          "color": "#4D5663"
         },
         "text": "Top 100 bigrams after removing stop words"
        },
        "xaxis": {
         "gridcolor": "#E1E5ED",
         "linecolor": "black",
         "showgrid": true,
         "tickfont": {
          "color": "#4D5663"
         },
         "title": {
          "font": {
           "color": "#4D5663"
          },
          "text": ""
         },
         "zerolinecolor": "#E1E5ED"
        },
        "yaxis": {
         "gridcolor": "#E1E5ED",
         "linecolor": "black",
         "showgrid": true,
         "tickfont": {
          "color": "#4D5663"
         },
         "title": {
          "font": {
           "color": "#4D5663"
          },
          "text": "Count"
         },
         "zerolinecolor": "#E1E5ED"
        }
       }
      },
      "text/html": [
       "<div>                            <div id=\"1b0c43c9-7ee3-4e10-bdce-87e7681831f6\" class=\"plotly-graph-div\" style=\"height:525px; width:100%;\"></div>            <script type=\"text/javascript\">                require([\"plotly\"], function(Plotly) {                    window.PLOTLYENV=window.PLOTLYENV || {};\n",
       "                    window.PLOTLYENV.BASE_URL='https://plot.ly';                                    if (document.getElementById(\"1b0c43c9-7ee3-4e10-bdce-87e7681831f6\")) {                    Plotly.newPlot(                        \"1b0c43c9-7ee3-4e10-bdce-87e7681831f6\",                        [{\"marker\":{\"color\":\"rgba(255, 153, 51, 0.6)\",\"line\":{\"color\":\"rgba(255, 153, 51, 1.0)\",\"width\":1}},\"name\":\"count\",\"orientation\":\"v\",\"text\":\"\",\"x\":[\"good friend\",\"first time\",\"person person\",\"make feel\",\"come back\",\"last year\",\"go back\",\"fall love\",\"year old\",\"want know\",\"good job\",\"thank much\",\"really want\",\"long time\",\"pretty much\",\"let go\",\"get well\",\"keep go\",\"next day\",\"take care\",\"say want\",\"would like\",\"say go\",\"think would\",\"know go\",\"make sure\",\"love love\",\"feel free\",\"want go\",\"make happy\",\"love much\",\"feel bad\",\"say love\",\"great job\",\"feel well\",\"wish could\",\"ask question\",\"go home\",\"many people\",\"even know\",\"good thing\",\"need help\",\"say know\",\"let know\",\"come home\",\"never really\",\"really good\",\"go go\",\"feel love\",\"old man\",\"get really\",\"first day\",\"know know\",\"want make\",\"get back\",\"try make\",\"would say\",\"really need\",\"people think\",\"feel way\",\"new study\",\"much love\",\"go away\",\"last time\",\"say say\",\"hard time\",\"last week\",\"would make\",\"tell want\",\"want talk\",\"man say\",\"love know\",\"know feel\",\"next year\",\"never get\",\"ask away\",\"take time\",\"know love\",\"know want\",\"love life\",\"feel good\",\"spend time\",\"want see\",\"thing get\",\"year ago\",\"say get\",\"really really\",\"thing go\",\"almost year\",\"know get\",\"tell go\",\"still love\",\"real life\",\"would love\",\"ever see\",\"really love\",\"thing know\",\"way go\",\"get good\",\"bad thing\"],\"y\":[162,157,157,142,125,118,111,96,95,91,85,83,76,74,73,72,69,68,65,65,64,63,63,61,61,61,60,60,59,59,59,57,55,54,54,54,53,52,52,51,51,51,51,51,51,49,49,48,48,48,47,47,46,46,45,45,44,43,43,43,43,43,43,42,42,42,42,42,41,41,41,41,41,40,40,40,39,39,39,38,38,38,38,38,37,37,37,37,37,36,36,36,36,36,36,36,35,35,35,35],\"type\":\"bar\"}],                        {\"legend\":{\"bgcolor\":\"#F5F6F9\",\"font\":{\"color\":\"#4D5663\"}},\"paper_bgcolor\":\"#F5F6F9\",\"plot_bgcolor\":\"#F5F6F9\",\"template\":{\"data\":{\"barpolar\":[{\"marker\":{\"line\":{\"color\":\"#E5ECF6\",\"width\":0.5},\"pattern\":{\"fillmode\":\"overlay\",\"size\":10,\"solidity\":0.2}},\"type\":\"barpolar\"}],\"bar\":[{\"error_x\":{\"color\":\"#2a3f5f\"},\"error_y\":{\"color\":\"#2a3f5f\"},\"marker\":{\"line\":{\"color\":\"#E5ECF6\",\"width\":0.5},\"pattern\":{\"fillmode\":\"overlay\",\"size\":10,\"solidity\":0.2}},\"type\":\"bar\"}],\"carpet\":[{\"aaxis\":{\"endlinecolor\":\"#2a3f5f\",\"gridcolor\":\"white\",\"linecolor\":\"white\",\"minorgridcolor\":\"white\",\"startlinecolor\":\"#2a3f5f\"},\"baxis\":{\"endlinecolor\":\"#2a3f5f\",\"gridcolor\":\"white\",\"linecolor\":\"white\",\"minorgridcolor\":\"white\",\"startlinecolor\":\"#2a3f5f\"},\"type\":\"carpet\"}],\"choropleth\":[{\"colorbar\":{\"outlinewidth\":0,\"ticks\":\"\"},\"type\":\"choropleth\"}],\"contourcarpet\":[{\"colorbar\":{\"outlinewidth\":0,\"ticks\":\"\"},\"type\":\"contourcarpet\"}],\"contour\":[{\"colorbar\":{\"outlinewidth\":0,\"ticks\":\"\"},\"colorscale\":[[0.0,\"#0d0887\"],[0.1111111111111111,\"#46039f\"],[0.2222222222222222,\"#7201a8\"],[0.3333333333333333,\"#9c179e\"],[0.4444444444444444,\"#bd3786\"],[0.5555555555555556,\"#d8576b\"],[0.6666666666666666,\"#ed7953\"],[0.7777777777777778,\"#fb9f3a\"],[0.8888888888888888,\"#fdca26\"],[1.0,\"#f0f921\"]],\"type\":\"contour\"}],\"heatmapgl\":[{\"colorbar\":{\"outlinewidth\":0,\"ticks\":\"\"},\"colorscale\":[[0.0,\"#0d0887\"],[0.1111111111111111,\"#46039f\"],[0.2222222222222222,\"#7201a8\"],[0.3333333333333333,\"#9c179e\"],[0.4444444444444444,\"#bd3786\"],[0.5555555555555556,\"#d8576b\"],[0.6666666666666666,\"#ed7953\"],[0.7777777777777778,\"#fb9f3a\"],[0.8888888888888888,\"#fdca26\"],[1.0,\"#f0f921\"]],\"type\":\"heatmapgl\"}],\"heatmap\":[{\"colorbar\":{\"outlinewidth\":0,\"ticks\":\"\"},\"colorscale\":[[0.0,\"#0d0887\"],[0.1111111111111111,\"#46039f\"],[0.2222222222222222,\"#7201a8\"],[0.3333333333333333,\"#9c179e\"],[0.4444444444444444,\"#bd3786\"],[0.5555555555555556,\"#d8576b\"],[0.6666666666666666,\"#ed7953\"],[0.7777777777777778,\"#fb9f3a\"],[0.8888888888888888,\"#fdca26\"],[1.0,\"#f0f921\"]],\"type\":\"heatmap\"}],\"histogram2dcontour\":[{\"colorbar\":{\"outlinewidth\":0,\"ticks\":\"\"},\"colorscale\":[[0.0,\"#0d0887\"],[0.1111111111111111,\"#46039f\"],[0.2222222222222222,\"#7201a8\"],[0.3333333333333333,\"#9c179e\"],[0.4444444444444444,\"#bd3786\"],[0.5555555555555556,\"#d8576b\"],[0.6666666666666666,\"#ed7953\"],[0.7777777777777778,\"#fb9f3a\"],[0.8888888888888888,\"#fdca26\"],[1.0,\"#f0f921\"]],\"type\":\"histogram2dcontour\"}],\"histogram2d\":[{\"colorbar\":{\"outlinewidth\":0,\"ticks\":\"\"},\"colorscale\":[[0.0,\"#0d0887\"],[0.1111111111111111,\"#46039f\"],[0.2222222222222222,\"#7201a8\"],[0.3333333333333333,\"#9c179e\"],[0.4444444444444444,\"#bd3786\"],[0.5555555555555556,\"#d8576b\"],[0.6666666666666666,\"#ed7953\"],[0.7777777777777778,\"#fb9f3a\"],[0.8888888888888888,\"#fdca26\"],[1.0,\"#f0f921\"]],\"type\":\"histogram2d\"}],\"histogram\":[{\"marker\":{\"pattern\":{\"fillmode\":\"overlay\",\"size\":10,\"solidity\":0.2}},\"type\":\"histogram\"}],\"mesh3d\":[{\"colorbar\":{\"outlinewidth\":0,\"ticks\":\"\"},\"type\":\"mesh3d\"}],\"parcoords\":[{\"line\":{\"colorbar\":{\"outlinewidth\":0,\"ticks\":\"\"}},\"type\":\"parcoords\"}],\"pie\":[{\"automargin\":true,\"type\":\"pie\"}],\"scatter3d\":[{\"line\":{\"colorbar\":{\"outlinewidth\":0,\"ticks\":\"\"}},\"marker\":{\"colorbar\":{\"outlinewidth\":0,\"ticks\":\"\"}},\"type\":\"scatter3d\"}],\"scattercarpet\":[{\"marker\":{\"colorbar\":{\"outlinewidth\":0,\"ticks\":\"\"}},\"type\":\"scattercarpet\"}],\"scattergeo\":[{\"marker\":{\"colorbar\":{\"outlinewidth\":0,\"ticks\":\"\"}},\"type\":\"scattergeo\"}],\"scattergl\":[{\"marker\":{\"colorbar\":{\"outlinewidth\":0,\"ticks\":\"\"}},\"type\":\"scattergl\"}],\"scattermapbox\":[{\"marker\":{\"colorbar\":{\"outlinewidth\":0,\"ticks\":\"\"}},\"type\":\"scattermapbox\"}],\"scatterpolargl\":[{\"marker\":{\"colorbar\":{\"outlinewidth\":0,\"ticks\":\"\"}},\"type\":\"scatterpolargl\"}],\"scatterpolar\":[{\"marker\":{\"colorbar\":{\"outlinewidth\":0,\"ticks\":\"\"}},\"type\":\"scatterpolar\"}],\"scatter\":[{\"marker\":{\"colorbar\":{\"outlinewidth\":0,\"ticks\":\"\"}},\"type\":\"scatter\"}],\"scatterternary\":[{\"marker\":{\"colorbar\":{\"outlinewidth\":0,\"ticks\":\"\"}},\"type\":\"scatterternary\"}],\"surface\":[{\"colorbar\":{\"outlinewidth\":0,\"ticks\":\"\"},\"colorscale\":[[0.0,\"#0d0887\"],[0.1111111111111111,\"#46039f\"],[0.2222222222222222,\"#7201a8\"],[0.3333333333333333,\"#9c179e\"],[0.4444444444444444,\"#bd3786\"],[0.5555555555555556,\"#d8576b\"],[0.6666666666666666,\"#ed7953\"],[0.7777777777777778,\"#fb9f3a\"],[0.8888888888888888,\"#fdca26\"],[1.0,\"#f0f921\"]],\"type\":\"surface\"}],\"table\":[{\"cells\":{\"fill\":{\"color\":\"#EBF0F8\"},\"line\":{\"color\":\"white\"}},\"header\":{\"fill\":{\"color\":\"#C8D4E3\"},\"line\":{\"color\":\"white\"}},\"type\":\"table\"}]},\"layout\":{\"annotationdefaults\":{\"arrowcolor\":\"#2a3f5f\",\"arrowhead\":0,\"arrowwidth\":1},\"autotypenumbers\":\"strict\",\"coloraxis\":{\"colorbar\":{\"outlinewidth\":0,\"ticks\":\"\"}},\"colorscale\":{\"diverging\":[[0,\"#8e0152\"],[0.1,\"#c51b7d\"],[0.2,\"#de77ae\"],[0.3,\"#f1b6da\"],[0.4,\"#fde0ef\"],[0.5,\"#f7f7f7\"],[0.6,\"#e6f5d0\"],[0.7,\"#b8e186\"],[0.8,\"#7fbc41\"],[0.9,\"#4d9221\"],[1,\"#276419\"]],\"sequential\":[[0.0,\"#0d0887\"],[0.1111111111111111,\"#46039f\"],[0.2222222222222222,\"#7201a8\"],[0.3333333333333333,\"#9c179e\"],[0.4444444444444444,\"#bd3786\"],[0.5555555555555556,\"#d8576b\"],[0.6666666666666666,\"#ed7953\"],[0.7777777777777778,\"#fb9f3a\"],[0.8888888888888888,\"#fdca26\"],[1.0,\"#f0f921\"]],\"sequentialminus\":[[0.0,\"#0d0887\"],[0.1111111111111111,\"#46039f\"],[0.2222222222222222,\"#7201a8\"],[0.3333333333333333,\"#9c179e\"],[0.4444444444444444,\"#bd3786\"],[0.5555555555555556,\"#d8576b\"],[0.6666666666666666,\"#ed7953\"],[0.7777777777777778,\"#fb9f3a\"],[0.8888888888888888,\"#fdca26\"],[1.0,\"#f0f921\"]]},\"colorway\":[\"#636efa\",\"#EF553B\",\"#00cc96\",\"#ab63fa\",\"#FFA15A\",\"#19d3f3\",\"#FF6692\",\"#B6E880\",\"#FF97FF\",\"#FECB52\"],\"font\":{\"color\":\"#2a3f5f\"},\"geo\":{\"bgcolor\":\"white\",\"lakecolor\":\"white\",\"landcolor\":\"#E5ECF6\",\"showlakes\":true,\"showland\":true,\"subunitcolor\":\"white\"},\"hoverlabel\":{\"align\":\"left\"},\"hovermode\":\"closest\",\"mapbox\":{\"style\":\"light\"},\"paper_bgcolor\":\"white\",\"plot_bgcolor\":\"#E5ECF6\",\"polar\":{\"angularaxis\":{\"gridcolor\":\"white\",\"linecolor\":\"white\",\"ticks\":\"\"},\"bgcolor\":\"#E5ECF6\",\"radialaxis\":{\"gridcolor\":\"white\",\"linecolor\":\"white\",\"ticks\":\"\"}},\"scene\":{\"xaxis\":{\"backgroundcolor\":\"#E5ECF6\",\"gridcolor\":\"white\",\"gridwidth\":2,\"linecolor\":\"white\",\"showbackground\":true,\"ticks\":\"\",\"zerolinecolor\":\"white\"},\"yaxis\":{\"backgroundcolor\":\"#E5ECF6\",\"gridcolor\":\"white\",\"gridwidth\":2,\"linecolor\":\"white\",\"showbackground\":true,\"ticks\":\"\",\"zerolinecolor\":\"white\"},\"zaxis\":{\"backgroundcolor\":\"#E5ECF6\",\"gridcolor\":\"white\",\"gridwidth\":2,\"linecolor\":\"white\",\"showbackground\":true,\"ticks\":\"\",\"zerolinecolor\":\"white\"}},\"shapedefaults\":{\"line\":{\"color\":\"#2a3f5f\"}},\"ternary\":{\"aaxis\":{\"gridcolor\":\"white\",\"linecolor\":\"white\",\"ticks\":\"\"},\"baxis\":{\"gridcolor\":\"white\",\"linecolor\":\"white\",\"ticks\":\"\"},\"bgcolor\":\"#E5ECF6\",\"caxis\":{\"gridcolor\":\"white\",\"linecolor\":\"white\",\"ticks\":\"\"}},\"title\":{\"x\":0.05},\"xaxis\":{\"automargin\":true,\"gridcolor\":\"white\",\"linecolor\":\"white\",\"ticks\":\"\",\"title\":{\"standoff\":15},\"zerolinecolor\":\"white\",\"zerolinewidth\":2},\"yaxis\":{\"automargin\":true,\"gridcolor\":\"white\",\"linecolor\":\"white\",\"ticks\":\"\",\"title\":{\"standoff\":15},\"zerolinecolor\":\"white\",\"zerolinewidth\":2}}},\"title\":{\"font\":{\"color\":\"#4D5663\"},\"text\":\"Top 100 bigrams after removing stop words\"},\"xaxis\":{\"gridcolor\":\"#E1E5ED\",\"linecolor\":\"black\",\"showgrid\":true,\"tickfont\":{\"color\":\"#4D5663\"},\"title\":{\"font\":{\"color\":\"#4D5663\"},\"text\":\"\"},\"zerolinecolor\":\"#E1E5ED\"},\"yaxis\":{\"gridcolor\":\"#E1E5ED\",\"linecolor\":\"black\",\"showgrid\":true,\"tickfont\":{\"color\":\"#4D5663\"},\"title\":{\"font\":{\"color\":\"#4D5663\"},\"text\":\"Count\"},\"zerolinecolor\":\"#E1E5ED\"}},                        {\"showLink\": true, \"linkText\": \"Export to plot.ly\", \"plotlyServerURL\": \"https://plot.ly\", \"responsive\": true}                    ).then(function(){\n",
       "                            \n",
       "var gd = document.getElementById('1b0c43c9-7ee3-4e10-bdce-87e7681831f6');\n",
       "var x = new MutationObserver(function (mutations, observer) {{\n",
       "        var display = window.getComputedStyle(gd).display;\n",
       "        if (!display || display === 'none') {{\n",
       "            console.log([gd, 'removed!']);\n",
       "            Plotly.purge(gd);\n",
       "            observer.disconnect();\n",
       "        }}\n",
       "}});\n",
       "\n",
       "// Listen for the removal of the full notebook cells\n",
       "var notebookContainer = gd.closest('#notebook-container');\n",
       "if (notebookContainer) {{\n",
       "    x.observe(notebookContainer, {childList: true});\n",
       "}}\n",
       "\n",
       "// Listen for the clearing of the current output cell\n",
       "var outputEl = gd.closest('.output');\n",
       "if (outputEl) {{\n",
       "    x.observe(outputEl, {childList: true});\n",
       "}}\n",
       "\n",
       "                        })                };                });            </script>        </div>"
      ]
     },
     "metadata": {},
     "output_type": "display_data"
    }
   ],
   "source": [
    "plot_model(plot = 'bigram')"
   ]
  },
  {
   "cell_type": "code",
   "execution_count": 12,
   "id": "b66526b4",
   "metadata": {},
   "outputs": [
    {
     "data": {
      "text/html": [
       "        <script type=\"text/javascript\">\n",
       "        window.PlotlyConfig = {MathJaxConfig: 'local'};\n",
       "        if (window.MathJax) {MathJax.Hub.Config({SVG: {font: \"STIX-Web\"}});}\n",
       "        if (typeof require !== 'undefined') {\n",
       "        require.undef(\"plotly\");\n",
       "        requirejs.config({\n",
       "            paths: {\n",
       "                'plotly': ['https://cdn.plot.ly/plotly-2.8.3.min']\n",
       "            }\n",
       "        });\n",
       "        require(['plotly'], function(Plotly) {\n",
       "            window._Plotly = Plotly;\n",
       "        });\n",
       "        }\n",
       "        </script>\n",
       "        "
      ]
     },
     "metadata": {},
     "output_type": "display_data"
    },
    {
     "data": {
      "image/png": "[encoded data removed]",
      "text/plain": [
       "<Figure size 720x432 with 1 Axes>"
      ]
     },
     "metadata": {},
     "output_type": "display_data"
    }
   ],
   "source": [
    "plot_model(model_lda, plot = 'umap')"
   ]
  },
  {
   "cell_type": "markdown",
   "id": "3b085517",
   "metadata": {},
   "source": [
    "# Evaluate the model"
   ]
  },
  {
   "cell_type": "code",
   "execution_count": 13,
   "id": "e729f727",
   "metadata": {},
   "outputs": [
    {
     "data": {
      "application/vnd.jupyter.widget-view+json": {
       "model_id": "6ce9be1161e74685be23720a4dac2257",
       "version_major": 2,
       "version_minor": 0
      },
      "text/plain": [
       "interactive(children=(ToggleButtons(description='Plot Type:', icons=('',), options=(('Frequency Plot', 'freque…"
      ]
     },
     "metadata": {},
     "output_type": "display_data"
    },
    {
     "name": "stdout",
     "output_type": "stream",
     "text": [
      "Wall time: 26.4 ms\n"
     ]
    }
   ],
   "source": [
    "%time evaluate_model(model_lda)"
   ]
  },
  {
   "cell_type": "markdown",
   "id": "5cd7734c",
   "metadata": {},
   "source": [
    "# Processing NLP model results for Multi Class Text Classification"
   ]
  },
  {
   "cell_type": "code",
   "execution_count": 14,
   "id": "6e353924",
   "metadata": {},
   "outputs": [
    {
     "data": {
      "text/html": [
       "<div>\n",
       "<style scoped>\n",
       "    .dataframe tbody tr th:only-of-type {\n",
       "        vertical-align: middle;\n",
       "    }\n",
       "\n",
       "    .dataframe tbody tr th {\n",
       "        vertical-align: top;\n",
       "    }\n",
       "\n",
       "    .dataframe thead th {\n",
       "        text-align: right;\n",
       "    }\n",
       "</style>\n",
       "<table border=\"1\" class=\"dataframe\">\n",
       "  <thead>\n",
       "    <tr style=\"text-align: right;\">\n",
       "      <th></th>\n",
       "      <th>Context</th>\n",
       "      <th>Topic_0</th>\n",
       "      <th>Topic_1</th>\n",
       "      <th>Topic_2</th>\n",
       "      <th>Topic_3</th>\n",
       "    </tr>\n",
       "  </thead>\n",
       "  <tbody>\n",
       "    <tr>\n",
       "      <th>0</th>\n",
       "      <td>Politics</td>\n",
       "      <td>0.250000</td>\n",
       "      <td>0.250000</td>\n",
       "      <td>0.250000</td>\n",
       "      <td>0.250000</td>\n",
       "    </tr>\n",
       "    <tr>\n",
       "      <th>1</th>\n",
       "      <td>Love</td>\n",
       "      <td>0.007563</td>\n",
       "      <td>0.008091</td>\n",
       "      <td>0.976618</td>\n",
       "      <td>0.007728</td>\n",
       "    </tr>\n",
       "    <tr>\n",
       "      <th>2</th>\n",
       "      <td>Heavy Emotion</td>\n",
       "      <td>0.250000</td>\n",
       "      <td>0.250000</td>\n",
       "      <td>0.250000</td>\n",
       "      <td>0.250000</td>\n",
       "    </tr>\n",
       "    <tr>\n",
       "      <th>3</th>\n",
       "      <td>Health</td>\n",
       "      <td>0.042888</td>\n",
       "      <td>0.007420</td>\n",
       "      <td>0.356971</td>\n",
       "      <td>0.592722</td>\n",
       "    </tr>\n",
       "    <tr>\n",
       "      <th>4</th>\n",
       "      <td>Animals</td>\n",
       "      <td>0.134552</td>\n",
       "      <td>0.126089</td>\n",
       "      <td>0.614324</td>\n",
       "      <td>0.125035</td>\n",
       "    </tr>\n",
       "  </tbody>\n",
       "</table>\n",
       "</div>"
      ],
      "text/plain": [
       "         Context   Topic_0   Topic_1   Topic_2   Topic_3\n",
       "0       Politics  0.250000  0.250000  0.250000  0.250000\n",
       "1           Love  0.007563  0.008091  0.976618  0.007728\n",
       "2  Heavy Emotion  0.250000  0.250000  0.250000  0.250000\n",
       "3         Health  0.042888  0.007420  0.356971  0.592722\n",
       "4        Animals  0.134552  0.126089  0.614324  0.125035"
      ]
     },
     "execution_count": 14,
     "metadata": {},
     "output_type": "execute_result"
    }
   ],
   "source": [
    "lda_results.drop(['Text','Dominant_Topic', 'Perc_Dominant_Topic'], axis=1, inplace = True)\n",
    "lda_results.head()"
   ]
  },
  {
   "cell_type": "code",
   "execution_count": 15,
   "id": "dc6c45b8",
   "metadata": {},
   "outputs": [
    {
     "data": {
      "text/plain": [
       "(31386, 5)"
      ]
     },
     "execution_count": 15,
     "metadata": {},
     "output_type": "execute_result"
    }
   ],
   "source": [
    "lda_results.shape"
   ]
  },
  {
   "cell_type": "markdown",
   "id": "63d0f400",
   "metadata": {},
   "source": [
    "# Setting up the Environment in PyCaret (Multi Class Claasification)"
   ]
  },
  {
   "cell_type": "code",
   "execution_count": 16,
   "id": "946dcf1a",
   "metadata": {},
   "outputs": [
    {
     "data": {
      "text/html": [
       "<style type=\"text/css\">\n",
       "#T_9ba77_row44_col1 {\n",
       "  background-color: lightgreen;\n",
       "}\n",
       "</style>\n",
       "<table id=\"T_9ba77_\">\n",
       "  <thead>\n",
       "    <tr>\n",
       "      <th class=\"blank level0\" >&nbsp;</th>\n",
       "      <th class=\"col_heading level0 col0\" >Description</th>\n",
       "      <th class=\"col_heading level0 col1\" >Value</th>\n",
       "    </tr>\n",
       "  </thead>\n",
       "  <tbody>\n",
       "    <tr>\n",
       "      <th id=\"T_9ba77_level0_row0\" class=\"row_heading level0 row0\" >0</th>\n",
       "      <td id=\"T_9ba77_row0_col0\" class=\"data row0 col0\" >session_id</td>\n",
       "      <td id=\"T_9ba77_row0_col1\" class=\"data row0 col1\" >5</td>\n",
       "    </tr>\n",
       "    <tr>\n",
       "      <th id=\"T_9ba77_level0_row1\" class=\"row_heading level0 row1\" >1</th>\n",
       "      <td id=\"T_9ba77_row1_col0\" class=\"data row1 col0\" >Target</td>\n",
       "      <td id=\"T_9ba77_row1_col1\" class=\"data row1 col1\" >Context</td>\n",
       "    </tr>\n",
       "    <tr>\n",
       "      <th id=\"T_9ba77_level0_row2\" class=\"row_heading level0 row2\" >2</th>\n",
       "      <td id=\"T_9ba77_row2_col0\" class=\"data row2 col0\" >Target Type</td>\n",
       "      <td id=\"T_9ba77_row2_col1\" class=\"data row2 col1\" >Multiclass</td>\n",
       "    </tr>\n",
       "    <tr>\n",
       "      <th id=\"T_9ba77_level0_row3\" class=\"row_heading level0 row3\" >3</th>\n",
       "      <td id=\"T_9ba77_row3_col0\" class=\"data row3 col0\" >Label Encoded</td>\n",
       "      <td id=\"T_9ba77_row3_col1\" class=\"data row3 col1\" >Animals: 0, Compliment: 1, Education: 2, Health: 3, Heavy Emotion: 4, Joke: 5, Love: 6, Politics: 7, Religion: 8, Science: 9, Self: 10</td>\n",
       "    </tr>\n",
       "    <tr>\n",
       "      <th id=\"T_9ba77_level0_row4\" class=\"row_heading level0 row4\" >4</th>\n",
       "      <td id=\"T_9ba77_row4_col0\" class=\"data row4 col0\" >Original Data</td>\n",
       "      <td id=\"T_9ba77_row4_col1\" class=\"data row4 col1\" >(31386, 5)</td>\n",
       "    </tr>\n",
       "    <tr>\n",
       "      <th id=\"T_9ba77_level0_row5\" class=\"row_heading level0 row5\" >5</th>\n",
       "      <td id=\"T_9ba77_row5_col0\" class=\"data row5 col0\" >Missing Values</td>\n",
       "      <td id=\"T_9ba77_row5_col1\" class=\"data row5 col1\" >False</td>\n",
       "    </tr>\n",
       "    <tr>\n",
       "      <th id=\"T_9ba77_level0_row6\" class=\"row_heading level0 row6\" >6</th>\n",
       "      <td id=\"T_9ba77_row6_col0\" class=\"data row6 col0\" >Numeric Features</td>\n",
       "      <td id=\"T_9ba77_row6_col1\" class=\"data row6 col1\" >4</td>\n",
       "    </tr>\n",
       "    <tr>\n",
       "      <th id=\"T_9ba77_level0_row7\" class=\"row_heading level0 row7\" >7</th>\n",
       "      <td id=\"T_9ba77_row7_col0\" class=\"data row7 col0\" >Categorical Features</td>\n",
       "      <td id=\"T_9ba77_row7_col1\" class=\"data row7 col1\" >0</td>\n",
       "    </tr>\n",
       "    <tr>\n",
       "      <th id=\"T_9ba77_level0_row8\" class=\"row_heading level0 row8\" >8</th>\n",
       "      <td id=\"T_9ba77_row8_col0\" class=\"data row8 col0\" >Ordinal Features</td>\n",
       "      <td id=\"T_9ba77_row8_col1\" class=\"data row8 col1\" >False</td>\n",
       "    </tr>\n",
       "    <tr>\n",
       "      <th id=\"T_9ba77_level0_row9\" class=\"row_heading level0 row9\" >9</th>\n",
       "      <td id=\"T_9ba77_row9_col0\" class=\"data row9 col0\" >High Cardinality Features</td>\n",
       "      <td id=\"T_9ba77_row9_col1\" class=\"data row9 col1\" >False</td>\n",
       "    </tr>\n",
       "    <tr>\n",
       "      <th id=\"T_9ba77_level0_row10\" class=\"row_heading level0 row10\" >10</th>\n",
       "      <td id=\"T_9ba77_row10_col0\" class=\"data row10 col0\" >High Cardinality Method</td>\n",
       "      <td id=\"T_9ba77_row10_col1\" class=\"data row10 col1\" >None</td>\n",
       "    </tr>\n",
       "    <tr>\n",
       "      <th id=\"T_9ba77_level0_row11\" class=\"row_heading level0 row11\" >11</th>\n",
       "      <td id=\"T_9ba77_row11_col0\" class=\"data row11 col0\" >Transformed Train Set</td>\n",
       "      <td id=\"T_9ba77_row11_col1\" class=\"data row11 col1\" >(26678, 4)</td>\n",
       "    </tr>\n",
       "    <tr>\n",
       "      <th id=\"T_9ba77_level0_row12\" class=\"row_heading level0 row12\" >12</th>\n",
       "      <td id=\"T_9ba77_row12_col0\" class=\"data row12 col0\" >Transformed Test Set</td>\n",
       "      <td id=\"T_9ba77_row12_col1\" class=\"data row12 col1\" >(4708, 4)</td>\n",
       "    </tr>\n",
       "    <tr>\n",
       "      <th id=\"T_9ba77_level0_row13\" class=\"row_heading level0 row13\" >13</th>\n",
       "      <td id=\"T_9ba77_row13_col0\" class=\"data row13 col0\" >Shuffle Train-Test</td>\n",
       "      <td id=\"T_9ba77_row13_col1\" class=\"data row13 col1\" >True</td>\n",
       "    </tr>\n",
       "    <tr>\n",
       "      <th id=\"T_9ba77_level0_row14\" class=\"row_heading level0 row14\" >14</th>\n",
       "      <td id=\"T_9ba77_row14_col0\" class=\"data row14 col0\" >Stratify Train-Test</td>\n",
       "      <td id=\"T_9ba77_row14_col1\" class=\"data row14 col1\" >False</td>\n",
       "    </tr>\n",
       "    <tr>\n",
       "      <th id=\"T_9ba77_level0_row15\" class=\"row_heading level0 row15\" >15</th>\n",
       "      <td id=\"T_9ba77_row15_col0\" class=\"data row15 col0\" >Fold Generator</td>\n",
       "      <td id=\"T_9ba77_row15_col1\" class=\"data row15 col1\" >StratifiedKFold</td>\n",
       "    </tr>\n",
       "    <tr>\n",
       "      <th id=\"T_9ba77_level0_row16\" class=\"row_heading level0 row16\" >16</th>\n",
       "      <td id=\"T_9ba77_row16_col0\" class=\"data row16 col0\" >Fold Number</td>\n",
       "      <td id=\"T_9ba77_row16_col1\" class=\"data row16 col1\" >10</td>\n",
       "    </tr>\n",
       "    <tr>\n",
       "      <th id=\"T_9ba77_level0_row17\" class=\"row_heading level0 row17\" >17</th>\n",
       "      <td id=\"T_9ba77_row17_col0\" class=\"data row17 col0\" >CPU Jobs</td>\n",
       "      <td id=\"T_9ba77_row17_col1\" class=\"data row17 col1\" >-1</td>\n",
       "    </tr>\n",
       "    <tr>\n",
       "      <th id=\"T_9ba77_level0_row18\" class=\"row_heading level0 row18\" >18</th>\n",
       "      <td id=\"T_9ba77_row18_col0\" class=\"data row18 col0\" >Use GPU</td>\n",
       "      <td id=\"T_9ba77_row18_col1\" class=\"data row18 col1\" >False</td>\n",
       "    </tr>\n",
       "    <tr>\n",
       "      <th id=\"T_9ba77_level0_row19\" class=\"row_heading level0 row19\" >19</th>\n",
       "      <td id=\"T_9ba77_row19_col0\" class=\"data row19 col0\" >Log Experiment</td>\n",
       "      <td id=\"T_9ba77_row19_col1\" class=\"data row19 col1\" >False</td>\n",
       "    </tr>\n",
       "    <tr>\n",
       "      <th id=\"T_9ba77_level0_row20\" class=\"row_heading level0 row20\" >20</th>\n",
       "      <td id=\"T_9ba77_row20_col0\" class=\"data row20 col0\" >Experiment Name</td>\n",
       "      <td id=\"T_9ba77_row20_col1\" class=\"data row20 col1\" >clf-default-name</td>\n",
       "    </tr>\n",
       "    <tr>\n",
       "      <th id=\"T_9ba77_level0_row21\" class=\"row_heading level0 row21\" >21</th>\n",
       "      <td id=\"T_9ba77_row21_col0\" class=\"data row21 col0\" >USI</td>\n",
       "      <td id=\"T_9ba77_row21_col1\" class=\"data row21 col1\" >4e18</td>\n",
       "    </tr>\n",
       "    <tr>\n",
       "      <th id=\"T_9ba77_level0_row22\" class=\"row_heading level0 row22\" >22</th>\n",
       "      <td id=\"T_9ba77_row22_col0\" class=\"data row22 col0\" >Imputation Type</td>\n",
       "      <td id=\"T_9ba77_row22_col1\" class=\"data row22 col1\" >simple</td>\n",
       "    </tr>\n",
       "    <tr>\n",
       "      <th id=\"T_9ba77_level0_row23\" class=\"row_heading level0 row23\" >23</th>\n",
       "      <td id=\"T_9ba77_row23_col0\" class=\"data row23 col0\" >Iterative Imputation Iteration</td>\n",
       "      <td id=\"T_9ba77_row23_col1\" class=\"data row23 col1\" >None</td>\n",
       "    </tr>\n",
       "    <tr>\n",
       "      <th id=\"T_9ba77_level0_row24\" class=\"row_heading level0 row24\" >24</th>\n",
       "      <td id=\"T_9ba77_row24_col0\" class=\"data row24 col0\" >Numeric Imputer</td>\n",
       "      <td id=\"T_9ba77_row24_col1\" class=\"data row24 col1\" >mean</td>\n",
       "    </tr>\n",
       "    <tr>\n",
       "      <th id=\"T_9ba77_level0_row25\" class=\"row_heading level0 row25\" >25</th>\n",
       "      <td id=\"T_9ba77_row25_col0\" class=\"data row25 col0\" >Iterative Imputation Numeric Model</td>\n",
       "      <td id=\"T_9ba77_row25_col1\" class=\"data row25 col1\" >None</td>\n",
       "    </tr>\n",
       "    <tr>\n",
       "      <th id=\"T_9ba77_level0_row26\" class=\"row_heading level0 row26\" >26</th>\n",
       "      <td id=\"T_9ba77_row26_col0\" class=\"data row26 col0\" >Categorical Imputer</td>\n",
       "      <td id=\"T_9ba77_row26_col1\" class=\"data row26 col1\" >constant</td>\n",
       "    </tr>\n",
       "    <tr>\n",
       "      <th id=\"T_9ba77_level0_row27\" class=\"row_heading level0 row27\" >27</th>\n",
       "      <td id=\"T_9ba77_row27_col0\" class=\"data row27 col0\" >Iterative Imputation Categorical Model</td>\n",
       "      <td id=\"T_9ba77_row27_col1\" class=\"data row27 col1\" >None</td>\n",
       "    </tr>\n",
       "    <tr>\n",
       "      <th id=\"T_9ba77_level0_row28\" class=\"row_heading level0 row28\" >28</th>\n",
       "      <td id=\"T_9ba77_row28_col0\" class=\"data row28 col0\" >Unknown Categoricals Handling</td>\n",
       "      <td id=\"T_9ba77_row28_col1\" class=\"data row28 col1\" >least_frequent</td>\n",
       "    </tr>\n",
       "    <tr>\n",
       "      <th id=\"T_9ba77_level0_row29\" class=\"row_heading level0 row29\" >29</th>\n",
       "      <td id=\"T_9ba77_row29_col0\" class=\"data row29 col0\" >Normalize</td>\n",
       "      <td id=\"T_9ba77_row29_col1\" class=\"data row29 col1\" >False</td>\n",
       "    </tr>\n",
       "    <tr>\n",
       "      <th id=\"T_9ba77_level0_row30\" class=\"row_heading level0 row30\" >30</th>\n",
       "      <td id=\"T_9ba77_row30_col0\" class=\"data row30 col0\" >Normalize Method</td>\n",
       "      <td id=\"T_9ba77_row30_col1\" class=\"data row30 col1\" >None</td>\n",
       "    </tr>\n",
       "    <tr>\n",
       "      <th id=\"T_9ba77_level0_row31\" class=\"row_heading level0 row31\" >31</th>\n",
       "      <td id=\"T_9ba77_row31_col0\" class=\"data row31 col0\" >Transformation</td>\n",
       "      <td id=\"T_9ba77_row31_col1\" class=\"data row31 col1\" >False</td>\n",
       "    </tr>\n",
       "    <tr>\n",
       "      <th id=\"T_9ba77_level0_row32\" class=\"row_heading level0 row32\" >32</th>\n",
       "      <td id=\"T_9ba77_row32_col0\" class=\"data row32 col0\" >Transformation Method</td>\n",
       "      <td id=\"T_9ba77_row32_col1\" class=\"data row32 col1\" >None</td>\n",
       "    </tr>\n",
       "    <tr>\n",
       "      <th id=\"T_9ba77_level0_row33\" class=\"row_heading level0 row33\" >33</th>\n",
       "      <td id=\"T_9ba77_row33_col0\" class=\"data row33 col0\" >PCA</td>\n",
       "      <td id=\"T_9ba77_row33_col1\" class=\"data row33 col1\" >False</td>\n",
       "    </tr>\n",
       "    <tr>\n",
       "      <th id=\"T_9ba77_level0_row34\" class=\"row_heading level0 row34\" >34</th>\n",
       "      <td id=\"T_9ba77_row34_col0\" class=\"data row34 col0\" >PCA Method</td>\n",
       "      <td id=\"T_9ba77_row34_col1\" class=\"data row34 col1\" >None</td>\n",
       "    </tr>\n",
       "    <tr>\n",
       "      <th id=\"T_9ba77_level0_row35\" class=\"row_heading level0 row35\" >35</th>\n",
       "      <td id=\"T_9ba77_row35_col0\" class=\"data row35 col0\" >PCA Components</td>\n",
       "      <td id=\"T_9ba77_row35_col1\" class=\"data row35 col1\" >None</td>\n",
       "    </tr>\n",
       "    <tr>\n",
       "      <th id=\"T_9ba77_level0_row36\" class=\"row_heading level0 row36\" >36</th>\n",
       "      <td id=\"T_9ba77_row36_col0\" class=\"data row36 col0\" >Ignore Low Variance</td>\n",
       "      <td id=\"T_9ba77_row36_col1\" class=\"data row36 col1\" >False</td>\n",
       "    </tr>\n",
       "    <tr>\n",
       "      <th id=\"T_9ba77_level0_row37\" class=\"row_heading level0 row37\" >37</th>\n",
       "      <td id=\"T_9ba77_row37_col0\" class=\"data row37 col0\" >Combine Rare Levels</td>\n",
       "      <td id=\"T_9ba77_row37_col1\" class=\"data row37 col1\" >False</td>\n",
       "    </tr>\n",
       "    <tr>\n",
       "      <th id=\"T_9ba77_level0_row38\" class=\"row_heading level0 row38\" >38</th>\n",
       "      <td id=\"T_9ba77_row38_col0\" class=\"data row38 col0\" >Rare Level Threshold</td>\n",
       "      <td id=\"T_9ba77_row38_col1\" class=\"data row38 col1\" >None</td>\n",
       "    </tr>\n",
       "    <tr>\n",
       "      <th id=\"T_9ba77_level0_row39\" class=\"row_heading level0 row39\" >39</th>\n",
       "      <td id=\"T_9ba77_row39_col0\" class=\"data row39 col0\" >Numeric Binning</td>\n",
       "      <td id=\"T_9ba77_row39_col1\" class=\"data row39 col1\" >False</td>\n",
       "    </tr>\n",
       "    <tr>\n",
       "      <th id=\"T_9ba77_level0_row40\" class=\"row_heading level0 row40\" >40</th>\n",
       "      <td id=\"T_9ba77_row40_col0\" class=\"data row40 col0\" >Remove Outliers</td>\n",
       "      <td id=\"T_9ba77_row40_col1\" class=\"data row40 col1\" >False</td>\n",
       "    </tr>\n",
       "    <tr>\n",
       "      <th id=\"T_9ba77_level0_row41\" class=\"row_heading level0 row41\" >41</th>\n",
       "      <td id=\"T_9ba77_row41_col0\" class=\"data row41 col0\" >Outliers Threshold</td>\n",
       "      <td id=\"T_9ba77_row41_col1\" class=\"data row41 col1\" >None</td>\n",
       "    </tr>\n",
       "    <tr>\n",
       "      <th id=\"T_9ba77_level0_row42\" class=\"row_heading level0 row42\" >42</th>\n",
       "      <td id=\"T_9ba77_row42_col0\" class=\"data row42 col0\" >Remove Multicollinearity</td>\n",
       "      <td id=\"T_9ba77_row42_col1\" class=\"data row42 col1\" >False</td>\n",
       "    </tr>\n",
       "    <tr>\n",
       "      <th id=\"T_9ba77_level0_row43\" class=\"row_heading level0 row43\" >43</th>\n",
       "      <td id=\"T_9ba77_row43_col0\" class=\"data row43 col0\" >Multicollinearity Threshold</td>\n",
       "      <td id=\"T_9ba77_row43_col1\" class=\"data row43 col1\" >None</td>\n",
       "    </tr>\n",
       "    <tr>\n",
       "      <th id=\"T_9ba77_level0_row44\" class=\"row_heading level0 row44\" >44</th>\n",
       "      <td id=\"T_9ba77_row44_col0\" class=\"data row44 col0\" >Remove Perfect Collinearity</td>\n",
       "      <td id=\"T_9ba77_row44_col1\" class=\"data row44 col1\" >True</td>\n",
       "    </tr>\n",
       "    <tr>\n",
       "      <th id=\"T_9ba77_level0_row45\" class=\"row_heading level0 row45\" >45</th>\n",
       "      <td id=\"T_9ba77_row45_col0\" class=\"data row45 col0\" >Clustering</td>\n",
       "      <td id=\"T_9ba77_row45_col1\" class=\"data row45 col1\" >False</td>\n",
       "    </tr>\n",
       "    <tr>\n",
       "      <th id=\"T_9ba77_level0_row46\" class=\"row_heading level0 row46\" >46</th>\n",
       "      <td id=\"T_9ba77_row46_col0\" class=\"data row46 col0\" >Clustering Iteration</td>\n",
       "      <td id=\"T_9ba77_row46_col1\" class=\"data row46 col1\" >None</td>\n",
       "    </tr>\n",
       "    <tr>\n",
       "      <th id=\"T_9ba77_level0_row47\" class=\"row_heading level0 row47\" >47</th>\n",
       "      <td id=\"T_9ba77_row47_col0\" class=\"data row47 col0\" >Polynomial Features</td>\n",
       "      <td id=\"T_9ba77_row47_col1\" class=\"data row47 col1\" >False</td>\n",
       "    </tr>\n",
       "    <tr>\n",
       "      <th id=\"T_9ba77_level0_row48\" class=\"row_heading level0 row48\" >48</th>\n",
       "      <td id=\"T_9ba77_row48_col0\" class=\"data row48 col0\" >Polynomial Degree</td>\n",
       "      <td id=\"T_9ba77_row48_col1\" class=\"data row48 col1\" >None</td>\n",
       "    </tr>\n",
       "    <tr>\n",
       "      <th id=\"T_9ba77_level0_row49\" class=\"row_heading level0 row49\" >49</th>\n",
       "      <td id=\"T_9ba77_row49_col0\" class=\"data row49 col0\" >Trignometry Features</td>\n",
       "      <td id=\"T_9ba77_row49_col1\" class=\"data row49 col1\" >False</td>\n",
       "    </tr>\n",
       "    <tr>\n",
       "      <th id=\"T_9ba77_level0_row50\" class=\"row_heading level0 row50\" >50</th>\n",
       "      <td id=\"T_9ba77_row50_col0\" class=\"data row50 col0\" >Polynomial Threshold</td>\n",
       "      <td id=\"T_9ba77_row50_col1\" class=\"data row50 col1\" >None</td>\n",
       "    </tr>\n",
       "    <tr>\n",
       "      <th id=\"T_9ba77_level0_row51\" class=\"row_heading level0 row51\" >51</th>\n",
       "      <td id=\"T_9ba77_row51_col0\" class=\"data row51 col0\" >Group Features</td>\n",
       "      <td id=\"T_9ba77_row51_col1\" class=\"data row51 col1\" >False</td>\n",
       "    </tr>\n",
       "    <tr>\n",
       "      <th id=\"T_9ba77_level0_row52\" class=\"row_heading level0 row52\" >52</th>\n",
       "      <td id=\"T_9ba77_row52_col0\" class=\"data row52 col0\" >Feature Selection</td>\n",
       "      <td id=\"T_9ba77_row52_col1\" class=\"data row52 col1\" >False</td>\n",
       "    </tr>\n",
       "    <tr>\n",
       "      <th id=\"T_9ba77_level0_row53\" class=\"row_heading level0 row53\" >53</th>\n",
       "      <td id=\"T_9ba77_row53_col0\" class=\"data row53 col0\" >Feature Selection Method</td>\n",
       "      <td id=\"T_9ba77_row53_col1\" class=\"data row53 col1\" >classic</td>\n",
       "    </tr>\n",
       "    <tr>\n",
       "      <th id=\"T_9ba77_level0_row54\" class=\"row_heading level0 row54\" >54</th>\n",
       "      <td id=\"T_9ba77_row54_col0\" class=\"data row54 col0\" >Features Selection Threshold</td>\n",
       "      <td id=\"T_9ba77_row54_col1\" class=\"data row54 col1\" >None</td>\n",
       "    </tr>\n",
       "    <tr>\n",
       "      <th id=\"T_9ba77_level0_row55\" class=\"row_heading level0 row55\" >55</th>\n",
       "      <td id=\"T_9ba77_row55_col0\" class=\"data row55 col0\" >Feature Interaction</td>\n",
       "      <td id=\"T_9ba77_row55_col1\" class=\"data row55 col1\" >False</td>\n",
       "    </tr>\n",
       "    <tr>\n",
       "      <th id=\"T_9ba77_level0_row56\" class=\"row_heading level0 row56\" >56</th>\n",
       "      <td id=\"T_9ba77_row56_col0\" class=\"data row56 col0\" >Feature Ratio</td>\n",
       "      <td id=\"T_9ba77_row56_col1\" class=\"data row56 col1\" >False</td>\n",
       "    </tr>\n",
       "    <tr>\n",
       "      <th id=\"T_9ba77_level0_row57\" class=\"row_heading level0 row57\" >57</th>\n",
       "      <td id=\"T_9ba77_row57_col0\" class=\"data row57 col0\" >Interaction Threshold</td>\n",
       "      <td id=\"T_9ba77_row57_col1\" class=\"data row57 col1\" >None</td>\n",
       "    </tr>\n",
       "    <tr>\n",
       "      <th id=\"T_9ba77_level0_row58\" class=\"row_heading level0 row58\" >58</th>\n",
       "      <td id=\"T_9ba77_row58_col0\" class=\"data row58 col0\" >Fix Imbalance</td>\n",
       "      <td id=\"T_9ba77_row58_col1\" class=\"data row58 col1\" >False</td>\n",
       "    </tr>\n",
       "    <tr>\n",
       "      <th id=\"T_9ba77_level0_row59\" class=\"row_heading level0 row59\" >59</th>\n",
       "      <td id=\"T_9ba77_row59_col0\" class=\"data row59 col0\" >Fix Imbalance Method</td>\n",
       "      <td id=\"T_9ba77_row59_col1\" class=\"data row59 col1\" >SMOTE</td>\n",
       "    </tr>\n",
       "  </tbody>\n",
       "</table>\n"
      ],
      "text/plain": [
       "<pandas.io.formats.style.Styler at 0x2e92cbe9f10>"
      ]
     },
     "metadata": {},
     "output_type": "display_data"
    }
   ],
   "source": [
    "from pycaret.classification import *\n",
    "exp_mclf = setup(data = lda_results, target = 'Context', session_id=5,train_size=0.85) "
   ]
  },
  {
   "cell_type": "markdown",
   "id": "3b1549ca",
   "metadata": {},
   "source": [
    "# Comparing All Models"
   ]
  },
  {
   "cell_type": "code",
   "execution_count": 17,
   "id": "27949bf2",
   "metadata": {},
   "outputs": [
    {
     "data": {
      "text/html": [
       "<style type=\"text/css\">\n",
       "#T_e7044_ th {\n",
       "  text-align: left;\n",
       "}\n",
       "#T_e7044_row0_col0, #T_e7044_row1_col0, #T_e7044_row1_col1, #T_e7044_row1_col2, #T_e7044_row1_col3, #T_e7044_row1_col4, #T_e7044_row1_col5, #T_e7044_row1_col6, #T_e7044_row1_col7, #T_e7044_row2_col0, #T_e7044_row2_col1, #T_e7044_row2_col2, #T_e7044_row2_col3, #T_e7044_row2_col4, #T_e7044_row2_col5, #T_e7044_row2_col6, #T_e7044_row2_col7, #T_e7044_row3_col0, #T_e7044_row3_col1, #T_e7044_row3_col2, #T_e7044_row3_col3, #T_e7044_row3_col4, #T_e7044_row3_col5, #T_e7044_row3_col6, #T_e7044_row3_col7, #T_e7044_row4_col0, #T_e7044_row4_col1, #T_e7044_row4_col2, #T_e7044_row4_col3, #T_e7044_row4_col4, #T_e7044_row4_col5, #T_e7044_row4_col6, #T_e7044_row4_col7, #T_e7044_row5_col0, #T_e7044_row5_col1, #T_e7044_row5_col2, #T_e7044_row5_col3, #T_e7044_row5_col4, #T_e7044_row5_col5, #T_e7044_row5_col6, #T_e7044_row5_col7, #T_e7044_row6_col0, #T_e7044_row6_col1, #T_e7044_row6_col2, #T_e7044_row6_col3, #T_e7044_row6_col4, #T_e7044_row6_col5, #T_e7044_row6_col6, #T_e7044_row6_col7, #T_e7044_row7_col0, #T_e7044_row7_col1, #T_e7044_row7_col2, #T_e7044_row7_col3, #T_e7044_row7_col4, #T_e7044_row7_col5, #T_e7044_row7_col6, #T_e7044_row7_col7, #T_e7044_row8_col0, #T_e7044_row8_col1, #T_e7044_row8_col2, #T_e7044_row8_col3, #T_e7044_row8_col4, #T_e7044_row8_col5, #T_e7044_row8_col6, #T_e7044_row8_col7, #T_e7044_row9_col0, #T_e7044_row9_col1, #T_e7044_row9_col2, #T_e7044_row9_col3, #T_e7044_row9_col4, #T_e7044_row9_col5, #T_e7044_row9_col6, #T_e7044_row9_col7, #T_e7044_row10_col0, #T_e7044_row10_col1, #T_e7044_row10_col2, #T_e7044_row10_col3, #T_e7044_row10_col4, #T_e7044_row10_col5, #T_e7044_row10_col6, #T_e7044_row10_col7, #T_e7044_row11_col0, #T_e7044_row11_col1, #T_e7044_row11_col2, #T_e7044_row11_col3, #T_e7044_row11_col4, #T_e7044_row11_col5, #T_e7044_row11_col6, #T_e7044_row11_col7, #T_e7044_row12_col0, #T_e7044_row12_col1, #T_e7044_row12_col2, #T_e7044_row12_col3, #T_e7044_row12_col4, #T_e7044_row12_col5, #T_e7044_row12_col6, #T_e7044_row12_col7, #T_e7044_row13_col0, #T_e7044_row13_col1, #T_e7044_row13_col2, #T_e7044_row13_col3, #T_e7044_row13_col4, #T_e7044_row13_col5, #T_e7044_row13_col6, #T_e7044_row13_col7 {\n",
       "  text-align: left;\n",
       "}\n",
       "#T_e7044_row0_col1, #T_e7044_row0_col2, #T_e7044_row0_col3, #T_e7044_row0_col4, #T_e7044_row0_col5, #T_e7044_row0_col6, #T_e7044_row0_col7 {\n",
       "  text-align: left;\n",
       "  background-color: yellow;\n",
       "}\n",
       "#T_e7044_row0_col8, #T_e7044_row1_col8, #T_e7044_row2_col8, #T_e7044_row3_col8, #T_e7044_row4_col8, #T_e7044_row6_col8, #T_e7044_row7_col8, #T_e7044_row8_col8, #T_e7044_row9_col8, #T_e7044_row10_col8, #T_e7044_row11_col8, #T_e7044_row12_col8, #T_e7044_row13_col8 {\n",
       "  text-align: left;\n",
       "  background-color: lightgrey;\n",
       "}\n",
       "#T_e7044_row5_col8 {\n",
       "  text-align: left;\n",
       "  background-color: yellow;\n",
       "  background-color: lightgrey;\n",
       "}\n",
       "</style>\n",
       "<table id=\"T_e7044_\">\n",
       "  <thead>\n",
       "    <tr>\n",
       "      <th class=\"blank level0\" >&nbsp;</th>\n",
       "      <th class=\"col_heading level0 col0\" >Model</th>\n",
       "      <th class=\"col_heading level0 col1\" >Accuracy</th>\n",
       "      <th class=\"col_heading level0 col2\" >AUC</th>\n",
       "      <th class=\"col_heading level0 col3\" >Recall</th>\n",
       "      <th class=\"col_heading level0 col4\" >Prec.</th>\n",
       "      <th class=\"col_heading level0 col5\" >F1</th>\n",
       "      <th class=\"col_heading level0 col6\" >Kappa</th>\n",
       "      <th class=\"col_heading level0 col7\" >MCC</th>\n",
       "      <th class=\"col_heading level0 col8\" >TT (Sec)</th>\n",
       "    </tr>\n",
       "  </thead>\n",
       "  <tbody>\n",
       "    <tr>\n",
       "      <th id=\"T_e7044_level0_row0\" class=\"row_heading level0 row0\" >lightgbm</th>\n",
       "      <td id=\"T_e7044_row0_col0\" class=\"data row0 col0\" >Light Gradient Boosting Machine</td>\n",
       "      <td id=\"T_e7044_row0_col1\" class=\"data row0 col1\" >0.2370</td>\n",
       "      <td id=\"T_e7044_row0_col2\" class=\"data row0 col2\" >0.7118</td>\n",
       "      <td id=\"T_e7044_row0_col3\" class=\"data row0 col3\" >0.2357</td>\n",
       "      <td id=\"T_e7044_row0_col4\" class=\"data row0 col4\" >0.2325</td>\n",
       "      <td id=\"T_e7044_row0_col5\" class=\"data row0 col5\" >0.2298</td>\n",
       "      <td id=\"T_e7044_row0_col6\" class=\"data row0 col6\" >0.1578</td>\n",
       "      <td id=\"T_e7044_row0_col7\" class=\"data row0 col7\" >0.1587</td>\n",
       "      <td id=\"T_e7044_row0_col8\" class=\"data row0 col8\" >1.2290</td>\n",
       "    </tr>\n",
       "    <tr>\n",
       "      <th id=\"T_e7044_level0_row1\" class=\"row_heading level0 row1\" >gbc</th>\n",
       "      <td id=\"T_e7044_row1_col0\" class=\"data row1 col0\" >Gradient Boosting Classifier</td>\n",
       "      <td id=\"T_e7044_row1_col1\" class=\"data row1 col1\" >0.2357</td>\n",
       "      <td id=\"T_e7044_row1_col2\" class=\"data row1 col2\" >0.7111</td>\n",
       "      <td id=\"T_e7044_row1_col3\" class=\"data row1 col3\" >0.2340</td>\n",
       "      <td id=\"T_e7044_row1_col4\" class=\"data row1 col4\" >0.2307</td>\n",
       "      <td id=\"T_e7044_row1_col5\" class=\"data row1 col5\" >0.2236</td>\n",
       "      <td id=\"T_e7044_row1_col6\" class=\"data row1 col6\" >0.1555</td>\n",
       "      <td id=\"T_e7044_row1_col7\" class=\"data row1 col7\" >0.1570</td>\n",
       "      <td id=\"T_e7044_row1_col8\" class=\"data row1 col8\" >14.2770</td>\n",
       "    </tr>\n",
       "    <tr>\n",
       "      <th id=\"T_e7044_level0_row2\" class=\"row_heading level0 row2\" >ada</th>\n",
       "      <td id=\"T_e7044_row2_col0\" class=\"data row2 col0\" >Ada Boost Classifier</td>\n",
       "      <td id=\"T_e7044_row2_col1\" class=\"data row2 col1\" >0.2242</td>\n",
       "      <td id=\"T_e7044_row2_col2\" class=\"data row2 col2\" >0.6661</td>\n",
       "      <td id=\"T_e7044_row2_col3\" class=\"data row2 col3\" >0.2213</td>\n",
       "      <td id=\"T_e7044_row2_col4\" class=\"data row2 col4\" >0.2021</td>\n",
       "      <td id=\"T_e7044_row2_col5\" class=\"data row2 col5\" >0.2001</td>\n",
       "      <td id=\"T_e7044_row2_col6\" class=\"data row2 col6\" >0.1429</td>\n",
       "      <td id=\"T_e7044_row2_col7\" class=\"data row2 col7\" >0.1457</td>\n",
       "      <td id=\"T_e7044_row2_col8\" class=\"data row2 col8\" >0.4800</td>\n",
       "    </tr>\n",
       "    <tr>\n",
       "      <th id=\"T_e7044_level0_row3\" class=\"row_heading level0 row3\" >lr</th>\n",
       "      <td id=\"T_e7044_row3_col0\" class=\"data row3 col0\" >Logistic Regression</td>\n",
       "      <td id=\"T_e7044_row3_col1\" class=\"data row3 col1\" >0.2192</td>\n",
       "      <td id=\"T_e7044_row3_col2\" class=\"data row3 col2\" >0.6912</td>\n",
       "      <td id=\"T_e7044_row3_col3\" class=\"data row3 col3\" >0.2114</td>\n",
       "      <td id=\"T_e7044_row3_col4\" class=\"data row3 col4\" >0.1935</td>\n",
       "      <td id=\"T_e7044_row3_col5\" class=\"data row3 col5\" >0.1867</td>\n",
       "      <td id=\"T_e7044_row3_col6\" class=\"data row3 col6\" >0.1348</td>\n",
       "      <td id=\"T_e7044_row3_col7\" class=\"data row3 col7\" >0.1385</td>\n",
       "      <td id=\"T_e7044_row3_col8\" class=\"data row3 col8\" >1.2430</td>\n",
       "    </tr>\n",
       "    <tr>\n",
       "      <th id=\"T_e7044_level0_row4\" class=\"row_heading level0 row4\" >rf</th>\n",
       "      <td id=\"T_e7044_row4_col0\" class=\"data row4 col0\" >Random Forest Classifier</td>\n",
       "      <td id=\"T_e7044_row4_col1\" class=\"data row4 col1\" >0.2185</td>\n",
       "      <td id=\"T_e7044_row4_col2\" class=\"data row4 col2\" >0.6756</td>\n",
       "      <td id=\"T_e7044_row4_col3\" class=\"data row4 col3\" >0.2177</td>\n",
       "      <td id=\"T_e7044_row4_col4\" class=\"data row4 col4\" >0.2201</td>\n",
       "      <td id=\"T_e7044_row4_col5\" class=\"data row4 col5\" >0.2171</td>\n",
       "      <td id=\"T_e7044_row4_col6\" class=\"data row4 col6\" >0.1385</td>\n",
       "      <td id=\"T_e7044_row4_col7\" class=\"data row4 col7\" >0.1390</td>\n",
       "      <td id=\"T_e7044_row4_col8\" class=\"data row4 col8\" >1.3110</td>\n",
       "    </tr>\n",
       "    <tr>\n",
       "      <th id=\"T_e7044_level0_row5\" class=\"row_heading level0 row5\" >nb</th>\n",
       "      <td id=\"T_e7044_row5_col0\" class=\"data row5 col0\" >Naive Bayes</td>\n",
       "      <td id=\"T_e7044_row5_col1\" class=\"data row5 col1\" >0.2167</td>\n",
       "      <td id=\"T_e7044_row5_col2\" class=\"data row5 col2\" >0.6841</td>\n",
       "      <td id=\"T_e7044_row5_col3\" class=\"data row5 col3\" >0.2144</td>\n",
       "      <td id=\"T_e7044_row5_col4\" class=\"data row5 col4\" >0.1732</td>\n",
       "      <td id=\"T_e7044_row5_col5\" class=\"data row5 col5\" >0.1761</td>\n",
       "      <td id=\"T_e7044_row5_col6\" class=\"data row5 col6\" >0.1344</td>\n",
       "      <td id=\"T_e7044_row5_col7\" class=\"data row5 col7\" >0.1382</td>\n",
       "      <td id=\"T_e7044_row5_col8\" class=\"data row5 col8\" >0.0130</td>\n",
       "    </tr>\n",
       "    <tr>\n",
       "      <th id=\"T_e7044_level0_row6\" class=\"row_heading level0 row6\" >lda</th>\n",
       "      <td id=\"T_e7044_row6_col0\" class=\"data row6 col0\" >Linear Discriminant Analysis</td>\n",
       "      <td id=\"T_e7044_row6_col1\" class=\"data row6 col1\" >0.2156</td>\n",
       "      <td id=\"T_e7044_row6_col2\" class=\"data row6 col2\" >0.6882</td>\n",
       "      <td id=\"T_e7044_row6_col3\" class=\"data row6 col3\" >0.2066</td>\n",
       "      <td id=\"T_e7044_row6_col4\" class=\"data row6 col4\" >0.2063</td>\n",
       "      <td id=\"T_e7044_row6_col5\" class=\"data row6 col5\" >0.1671</td>\n",
       "      <td id=\"T_e7044_row6_col6\" class=\"data row6 col6\" >0.1301</td>\n",
       "      <td id=\"T_e7044_row6_col7\" class=\"data row6 col7\" >0.1367</td>\n",
       "      <td id=\"T_e7044_row6_col8\" class=\"data row6 col8\" >0.0220</td>\n",
       "    </tr>\n",
       "    <tr>\n",
       "      <th id=\"T_e7044_level0_row7\" class=\"row_heading level0 row7\" >et</th>\n",
       "      <td id=\"T_e7044_row7_col0\" class=\"data row7 col0\" >Extra Trees Classifier</td>\n",
       "      <td id=\"T_e7044_row7_col1\" class=\"data row7 col1\" >0.2113</td>\n",
       "      <td id=\"T_e7044_row7_col2\" class=\"data row7 col2\" >0.6611</td>\n",
       "      <td id=\"T_e7044_row7_col3\" class=\"data row7 col3\" >0.2102</td>\n",
       "      <td id=\"T_e7044_row7_col4\" class=\"data row7 col4\" >0.2137</td>\n",
       "      <td id=\"T_e7044_row7_col5\" class=\"data row7 col5\" >0.2103</td>\n",
       "      <td id=\"T_e7044_row7_col6\" class=\"data row7 col6\" >0.1305</td>\n",
       "      <td id=\"T_e7044_row7_col7\" class=\"data row7 col7\" >0.1309</td>\n",
       "      <td id=\"T_e7044_row7_col8\" class=\"data row7 col8\" >2.8520</td>\n",
       "    </tr>\n",
       "    <tr>\n",
       "      <th id=\"T_e7044_level0_row8\" class=\"row_heading level0 row8\" >ridge</th>\n",
       "      <td id=\"T_e7044_row8_col0\" class=\"data row8 col0\" >Ridge Classifier</td>\n",
       "      <td id=\"T_e7044_row8_col1\" class=\"data row8 col1\" >0.2067</td>\n",
       "      <td id=\"T_e7044_row8_col2\" class=\"data row8 col2\" >0.0000</td>\n",
       "      <td id=\"T_e7044_row8_col3\" class=\"data row8 col3\" >0.1960</td>\n",
       "      <td id=\"T_e7044_row8_col4\" class=\"data row8 col4\" >0.1413</td>\n",
       "      <td id=\"T_e7044_row8_col5\" class=\"data row8 col5\" >0.1339</td>\n",
       "      <td id=\"T_e7044_row8_col6\" class=\"data row8 col6\" >0.1189</td>\n",
       "      <td id=\"T_e7044_row8_col7\" class=\"data row8 col7\" >0.1295</td>\n",
       "      <td id=\"T_e7044_row8_col8\" class=\"data row8 col8\" >0.0180</td>\n",
       "    </tr>\n",
       "    <tr>\n",
       "      <th id=\"T_e7044_level0_row9\" class=\"row_heading level0 row9\" >knn</th>\n",
       "      <td id=\"T_e7044_row9_col0\" class=\"data row9 col0\" >K Neighbors Classifier</td>\n",
       "      <td id=\"T_e7044_row9_col1\" class=\"data row9 col1\" >0.2028</td>\n",
       "      <td id=\"T_e7044_row9_col2\" class=\"data row9 col2\" >0.6195</td>\n",
       "      <td id=\"T_e7044_row9_col3\" class=\"data row9 col3\" >0.2012</td>\n",
       "      <td id=\"T_e7044_row9_col4\" class=\"data row9 col4\" >0.2073</td>\n",
       "      <td id=\"T_e7044_row9_col5\" class=\"data row9 col5\" >0.1972</td>\n",
       "      <td id=\"T_e7044_row9_col6\" class=\"data row9 col6\" >0.1210</td>\n",
       "      <td id=\"T_e7044_row9_col7\" class=\"data row9 col7\" >0.1223</td>\n",
       "      <td id=\"T_e7044_row9_col8\" class=\"data row9 col8\" >0.0640</td>\n",
       "    </tr>\n",
       "    <tr>\n",
       "      <th id=\"T_e7044_level0_row10\" class=\"row_heading level0 row10\" >dt</th>\n",
       "      <td id=\"T_e7044_row10_col0\" class=\"data row10 col0\" >Decision Tree Classifier</td>\n",
       "      <td id=\"T_e7044_row10_col1\" class=\"data row10 col1\" >0.1943</td>\n",
       "      <td id=\"T_e7044_row10_col2\" class=\"data row10 col2\" >0.5590</td>\n",
       "      <td id=\"T_e7044_row10_col3\" class=\"data row10 col3\" >0.1929</td>\n",
       "      <td id=\"T_e7044_row10_col4\" class=\"data row10 col4\" >0.1986</td>\n",
       "      <td id=\"T_e7044_row10_col5\" class=\"data row10 col5\" >0.1943</td>\n",
       "      <td id=\"T_e7044_row10_col6\" class=\"data row10 col6\" >0.1121</td>\n",
       "      <td id=\"T_e7044_row10_col7\" class=\"data row10 col7\" >0.1125</td>\n",
       "      <td id=\"T_e7044_row10_col8\" class=\"data row10 col8\" >0.0610</td>\n",
       "    </tr>\n",
       "    <tr>\n",
       "      <th id=\"T_e7044_level0_row11\" class=\"row_heading level0 row11\" >qda</th>\n",
       "      <td id=\"T_e7044_row11_col0\" class=\"data row11 col0\" >Quadratic Discriminant Analysis</td>\n",
       "      <td id=\"T_e7044_row11_col1\" class=\"data row11 col1\" >0.1632</td>\n",
       "      <td id=\"T_e7044_row11_col2\" class=\"data row11 col2\" >0.6679</td>\n",
       "      <td id=\"T_e7044_row11_col3\" class=\"data row11 col3\" >0.1649</td>\n",
       "      <td id=\"T_e7044_row11_col4\" class=\"data row11 col4\" >0.1379</td>\n",
       "      <td id=\"T_e7044_row11_col5\" class=\"data row11 col5\" >0.1050</td>\n",
       "      <td id=\"T_e7044_row11_col6\" class=\"data row11 col6\" >0.0809</td>\n",
       "      <td id=\"T_e7044_row11_col7\" class=\"data row11 col7\" >0.0945</td>\n",
       "      <td id=\"T_e7044_row11_col8\" class=\"data row11 col8\" >0.0240</td>\n",
       "    </tr>\n",
       "    <tr>\n",
       "      <th id=\"T_e7044_level0_row12\" class=\"row_heading level0 row12\" >svm</th>\n",
       "      <td id=\"T_e7044_row12_col0\" class=\"data row12 col0\" >SVM - Linear Kernel</td>\n",
       "      <td id=\"T_e7044_row12_col1\" class=\"data row12 col1\" >0.1288</td>\n",
       "      <td id=\"T_e7044_row12_col2\" class=\"data row12 col2\" >0.0000</td>\n",
       "      <td id=\"T_e7044_row12_col3\" class=\"data row12 col3\" >0.1238</td>\n",
       "      <td id=\"T_e7044_row12_col4\" class=\"data row12 col4\" >0.0678</td>\n",
       "      <td id=\"T_e7044_row12_col5\" class=\"data row12 col5\" >0.0611</td>\n",
       "      <td id=\"T_e7044_row12_col6\" class=\"data row12 col6\" >0.0364</td>\n",
       "      <td id=\"T_e7044_row12_col7\" class=\"data row12 col7\" >0.0454</td>\n",
       "      <td id=\"T_e7044_row12_col8\" class=\"data row12 col8\" >0.0450</td>\n",
       "    </tr>\n",
       "    <tr>\n",
       "      <th id=\"T_e7044_level0_row13\" class=\"row_heading level0 row13\" >dummy</th>\n",
       "      <td id=\"T_e7044_row13_col0\" class=\"data row13 col0\" >Dummy Classifier</td>\n",
       "      <td id=\"T_e7044_row13_col1\" class=\"data row13 col1\" >0.1186</td>\n",
       "      <td id=\"T_e7044_row13_col2\" class=\"data row13 col2\" >0.5000</td>\n",
       "      <td id=\"T_e7044_row13_col3\" class=\"data row13 col3\" >0.0909</td>\n",
       "      <td id=\"T_e7044_row13_col4\" class=\"data row13 col4\" >0.0141</td>\n",
       "      <td id=\"T_e7044_row13_col5\" class=\"data row13 col5\" >0.0251</td>\n",
       "      <td id=\"T_e7044_row13_col6\" class=\"data row13 col6\" >0.0000</td>\n",
       "      <td id=\"T_e7044_row13_col7\" class=\"data row13 col7\" >0.0000</td>\n",
       "      <td id=\"T_e7044_row13_col8\" class=\"data row13 col8\" >0.0220</td>\n",
       "    </tr>\n",
       "  </tbody>\n",
       "</table>\n"
      ],
      "text/plain": [
       "<pandas.io.formats.style.Styler at 0x2e92add5b80>"
      ]
     },
     "metadata": {},
     "output_type": "display_data"
    },
    {
     "name": "stdout",
     "output_type": "stream",
     "text": [
      "Wall time: 3min 44s\n"
     ]
    }
   ],
   "source": [
    "%time best= compare_models()"
   ]
  },
  {
   "cell_type": "markdown",
   "id": "e77dffdc",
   "metadata": {},
   "source": [
    "# Create Require Models"
   ]
  },
  {
   "cell_type": "code",
   "execution_count": 18,
   "id": "fbd70ac3",
   "metadata": {},
   "outputs": [
    {
     "data": {
      "text/html": [
       "<style type=\"text/css\">\n",
       "#T_86a53_row10_col0, #T_86a53_row10_col1, #T_86a53_row10_col2, #T_86a53_row10_col3, #T_86a53_row10_col4, #T_86a53_row10_col5, #T_86a53_row10_col6 {\n",
       "  background: yellow;\n",
       "}\n",
       "</style>\n",
       "<table id=\"T_86a53_\">\n",
       "  <thead>\n",
       "    <tr>\n",
       "      <th class=\"blank level0\" >&nbsp;</th>\n",
       "      <th class=\"col_heading level0 col0\" >Accuracy</th>\n",
       "      <th class=\"col_heading level0 col1\" >AUC</th>\n",
       "      <th class=\"col_heading level0 col2\" >Recall</th>\n",
       "      <th class=\"col_heading level0 col3\" >Prec.</th>\n",
       "      <th class=\"col_heading level0 col4\" >F1</th>\n",
       "      <th class=\"col_heading level0 col5\" >Kappa</th>\n",
       "      <th class=\"col_heading level0 col6\" >MCC</th>\n",
       "    </tr>\n",
       "  </thead>\n",
       "  <tbody>\n",
       "    <tr>\n",
       "      <th id=\"T_86a53_level0_row0\" class=\"row_heading level0 row0\" >0</th>\n",
       "      <td id=\"T_86a53_row0_col0\" class=\"data row0 col0\" >0.2395</td>\n",
       "      <td id=\"T_86a53_row0_col1\" class=\"data row0 col1\" >0.7171</td>\n",
       "      <td id=\"T_86a53_row0_col2\" class=\"data row0 col2\" >0.2363</td>\n",
       "      <td id=\"T_86a53_row0_col3\" class=\"data row0 col3\" >0.2398</td>\n",
       "      <td id=\"T_86a53_row0_col4\" class=\"data row0 col4\" >0.2343</td>\n",
       "      <td id=\"T_86a53_row0_col5\" class=\"data row0 col5\" >0.1590</td>\n",
       "      <td id=\"T_86a53_row0_col6\" class=\"data row0 col6\" >0.1599</td>\n",
       "    </tr>\n",
       "    <tr>\n",
       "      <th id=\"T_86a53_level0_row1\" class=\"row_heading level0 row1\" >1</th>\n",
       "      <td id=\"T_86a53_row1_col0\" class=\"data row1 col0\" >0.2391</td>\n",
       "      <td id=\"T_86a53_row1_col1\" class=\"data row1 col1\" >0.7078</td>\n",
       "      <td id=\"T_86a53_row1_col2\" class=\"data row1 col2\" >0.2396</td>\n",
       "      <td id=\"T_86a53_row1_col3\" class=\"data row1 col3\" >0.2333</td>\n",
       "      <td id=\"T_86a53_row1_col4\" class=\"data row1 col4\" >0.2311</td>\n",
       "      <td id=\"T_86a53_row1_col5\" class=\"data row1 col5\" >0.1614</td>\n",
       "      <td id=\"T_86a53_row1_col6\" class=\"data row1 col6\" >0.1623</td>\n",
       "    </tr>\n",
       "    <tr>\n",
       "      <th id=\"T_86a53_level0_row2\" class=\"row_heading level0 row2\" >2</th>\n",
       "      <td id=\"T_86a53_row2_col0\" class=\"data row2 col0\" >0.2444</td>\n",
       "      <td id=\"T_86a53_row2_col1\" class=\"data row2 col1\" >0.7156</td>\n",
       "      <td id=\"T_86a53_row2_col2\" class=\"data row2 col2\" >0.2418</td>\n",
       "      <td id=\"T_86a53_row2_col3\" class=\"data row2 col3\" >0.2384</td>\n",
       "      <td id=\"T_86a53_row2_col4\" class=\"data row2 col4\" >0.2374</td>\n",
       "      <td id=\"T_86a53_row2_col5\" class=\"data row2 col5\" >0.1653</td>\n",
       "      <td id=\"T_86a53_row2_col6\" class=\"data row2 col6\" >0.1660</td>\n",
       "    </tr>\n",
       "    <tr>\n",
       "      <th id=\"T_86a53_level0_row3\" class=\"row_heading level0 row3\" >3</th>\n",
       "      <td id=\"T_86a53_row3_col0\" class=\"data row3 col0\" >0.2373</td>\n",
       "      <td id=\"T_86a53_row3_col1\" class=\"data row3 col1\" >0.7109</td>\n",
       "      <td id=\"T_86a53_row3_col2\" class=\"data row3 col2\" >0.2377</td>\n",
       "      <td id=\"T_86a53_row3_col3\" class=\"data row3 col3\" >0.2312</td>\n",
       "      <td id=\"T_86a53_row3_col4\" class=\"data row3 col4\" >0.2290</td>\n",
       "      <td id=\"T_86a53_row3_col5\" class=\"data row3 col5\" >0.1592</td>\n",
       "      <td id=\"T_86a53_row3_col6\" class=\"data row3 col6\" >0.1601</td>\n",
       "    </tr>\n",
       "    <tr>\n",
       "      <th id=\"T_86a53_level0_row4\" class=\"row_heading level0 row4\" >4</th>\n",
       "      <td id=\"T_86a53_row4_col0\" class=\"data row4 col0\" >0.2343</td>\n",
       "      <td id=\"T_86a53_row4_col1\" class=\"data row4 col1\" >0.7117</td>\n",
       "      <td id=\"T_86a53_row4_col2\" class=\"data row4 col2\" >0.2338</td>\n",
       "      <td id=\"T_86a53_row4_col3\" class=\"data row4 col3\" >0.2290</td>\n",
       "      <td id=\"T_86a53_row4_col4\" class=\"data row4 col4\" >0.2263</td>\n",
       "      <td id=\"T_86a53_row4_col5\" class=\"data row4 col5\" >0.1560</td>\n",
       "      <td id=\"T_86a53_row4_col6\" class=\"data row4 col6\" >0.1571</td>\n",
       "    </tr>\n",
       "    <tr>\n",
       "      <th id=\"T_86a53_level0_row5\" class=\"row_heading level0 row5\" >5</th>\n",
       "      <td id=\"T_86a53_row5_col0\" class=\"data row5 col0\" >0.2211</td>\n",
       "      <td id=\"T_86a53_row5_col1\" class=\"data row5 col1\" >0.7121</td>\n",
       "      <td id=\"T_86a53_row5_col2\" class=\"data row5 col2\" >0.2221</td>\n",
       "      <td id=\"T_86a53_row5_col3\" class=\"data row5 col3\" >0.2134</td>\n",
       "      <td id=\"T_86a53_row5_col4\" class=\"data row5 col4\" >0.2123</td>\n",
       "      <td id=\"T_86a53_row5_col5\" class=\"data row5 col5\" >0.1411</td>\n",
       "      <td id=\"T_86a53_row5_col6\" class=\"data row5 col6\" >0.1420</td>\n",
       "    </tr>\n",
       "    <tr>\n",
       "      <th id=\"T_86a53_level0_row6\" class=\"row_heading level0 row6\" >6</th>\n",
       "      <td id=\"T_86a53_row6_col0\" class=\"data row6 col0\" >0.2511</td>\n",
       "      <td id=\"T_86a53_row6_col1\" class=\"data row6 col1\" >0.7171</td>\n",
       "      <td id=\"T_86a53_row6_col2\" class=\"data row6 col2\" >0.2476</td>\n",
       "      <td id=\"T_86a53_row6_col3\" class=\"data row6 col3\" >0.2463</td>\n",
       "      <td id=\"T_86a53_row6_col4\" class=\"data row6 col4\" >0.2433</td>\n",
       "      <td id=\"T_86a53_row6_col5\" class=\"data row6 col5\" >0.1722</td>\n",
       "      <td id=\"T_86a53_row6_col6\" class=\"data row6 col6\" >0.1732</td>\n",
       "    </tr>\n",
       "    <tr>\n",
       "      <th id=\"T_86a53_level0_row7\" class=\"row_heading level0 row7\" >7</th>\n",
       "      <td id=\"T_86a53_row7_col0\" class=\"data row7 col0\" >0.2369</td>\n",
       "      <td id=\"T_86a53_row7_col1\" class=\"data row7 col1\" >0.7086</td>\n",
       "      <td id=\"T_86a53_row7_col2\" class=\"data row7 col2\" >0.2335</td>\n",
       "      <td id=\"T_86a53_row7_col3\" class=\"data row7 col3\" >0.2353</td>\n",
       "      <td id=\"T_86a53_row7_col4\" class=\"data row7 col4\" >0.2311</td>\n",
       "      <td id=\"T_86a53_row7_col5\" class=\"data row7 col5\" >0.1566</td>\n",
       "      <td id=\"T_86a53_row7_col6\" class=\"data row7 col6\" >0.1574</td>\n",
       "    </tr>\n",
       "    <tr>\n",
       "      <th id=\"T_86a53_level0_row8\" class=\"row_heading level0 row8\" >8</th>\n",
       "      <td id=\"T_86a53_row8_col0\" class=\"data row8 col0\" >0.2283</td>\n",
       "      <td id=\"T_86a53_row8_col1\" class=\"data row8 col1\" >0.7040</td>\n",
       "      <td id=\"T_86a53_row8_col2\" class=\"data row8 col2\" >0.2286</td>\n",
       "      <td id=\"T_86a53_row8_col3\" class=\"data row8 col3\" >0.2260</td>\n",
       "      <td id=\"T_86a53_row8_col4\" class=\"data row8 col4\" >0.2224</td>\n",
       "      <td id=\"T_86a53_row8_col5\" class=\"data row8 col5\" >0.1491</td>\n",
       "      <td id=\"T_86a53_row8_col6\" class=\"data row8 col6\" >0.1500</td>\n",
       "    </tr>\n",
       "    <tr>\n",
       "      <th id=\"T_86a53_level0_row9\" class=\"row_heading level0 row9\" >9</th>\n",
       "      <td id=\"T_86a53_row9_col0\" class=\"data row9 col0\" >0.2385</td>\n",
       "      <td id=\"T_86a53_row9_col1\" class=\"data row9 col1\" >0.7130</td>\n",
       "      <td id=\"T_86a53_row9_col2\" class=\"data row9 col2\" >0.2361</td>\n",
       "      <td id=\"T_86a53_row9_col3\" class=\"data row9 col3\" >0.2320</td>\n",
       "      <td id=\"T_86a53_row9_col4\" class=\"data row9 col4\" >0.2308</td>\n",
       "      <td id=\"T_86a53_row9_col5\" class=\"data row9 col5\" >0.1580</td>\n",
       "      <td id=\"T_86a53_row9_col6\" class=\"data row9 col6\" >0.1588</td>\n",
       "    </tr>\n",
       "    <tr>\n",
       "      <th id=\"T_86a53_level0_row10\" class=\"row_heading level0 row10\" >Mean</th>\n",
       "      <td id=\"T_86a53_row10_col0\" class=\"data row10 col0\" >0.2370</td>\n",
       "      <td id=\"T_86a53_row10_col1\" class=\"data row10 col1\" >0.7118</td>\n",
       "      <td id=\"T_86a53_row10_col2\" class=\"data row10 col2\" >0.2357</td>\n",
       "      <td id=\"T_86a53_row10_col3\" class=\"data row10 col3\" >0.2325</td>\n",
       "      <td id=\"T_86a53_row10_col4\" class=\"data row10 col4\" >0.2298</td>\n",
       "      <td id=\"T_86a53_row10_col5\" class=\"data row10 col5\" >0.1578</td>\n",
       "      <td id=\"T_86a53_row10_col6\" class=\"data row10 col6\" >0.1587</td>\n",
       "    </tr>\n",
       "    <tr>\n",
       "      <th id=\"T_86a53_level0_row11\" class=\"row_heading level0 row11\" >SD</th>\n",
       "      <td id=\"T_86a53_row11_col0\" class=\"data row11 col0\" >0.0078</td>\n",
       "      <td id=\"T_86a53_row11_col1\" class=\"data row11 col1\" >0.0040</td>\n",
       "      <td id=\"T_86a53_row11_col2\" class=\"data row11 col2\" >0.0067</td>\n",
       "      <td id=\"T_86a53_row11_col3\" class=\"data row11 col3\" >0.0084</td>\n",
       "      <td id=\"T_86a53_row11_col4\" class=\"data row11 col4\" >0.0080</td>\n",
       "      <td id=\"T_86a53_row11_col5\" class=\"data row11 col5\" >0.0080</td>\n",
       "      <td id=\"T_86a53_row11_col6\" class=\"data row11 col6\" >0.0080</td>\n",
       "    </tr>\n",
       "  </tbody>\n",
       "</table>\n"
      ],
      "text/plain": [
       "<pandas.io.formats.style.Styler at 0x2e92a9a85b0>"
      ]
     },
     "metadata": {},
     "output_type": "display_data"
    },
    {
     "name": "stdout",
     "output_type": "stream",
     "text": [
      "Wall time: 12.9 s\n"
     ]
    }
   ],
   "source": [
    "%time lightgbm = create_model('lightgbm')"
   ]
  },
  {
   "cell_type": "code",
   "execution_count": 19,
   "id": "43247189",
   "metadata": {},
   "outputs": [
    {
     "name": "stdout",
     "output_type": "stream",
     "text": [
      "LGBMClassifier(boosting_type='gbdt', class_weight=None, colsample_bytree=1.0,\n",
      "               importance_type='split', learning_rate=0.1, max_depth=-1,\n",
      "               min_child_samples=20, min_child_weight=0.001, min_split_gain=0.0,\n",
      "               n_estimators=100, n_jobs=-1, num_leaves=31, objective=None,\n",
      "               random_state=5, reg_alpha=0.0, reg_lambda=0.0, silent='warn',\n",
      "               subsample=1.0, subsample_for_bin=200000, subsample_freq=0)\n"
     ]
    }
   ],
   "source": [
    "print(lightgbm)"
   ]
  },
  {
   "cell_type": "code",
   "execution_count": 20,
   "id": "217a981e",
   "metadata": {},
   "outputs": [
    {
     "data": {
      "text/html": [
       "<style type=\"text/css\">\n",
       "#T_d0559_row10_col0, #T_d0559_row10_col1, #T_d0559_row10_col2, #T_d0559_row10_col3, #T_d0559_row10_col4, #T_d0559_row10_col5, #T_d0559_row10_col6 {\n",
       "  background: yellow;\n",
       "}\n",
       "</style>\n",
       "<table id=\"T_d0559_\">\n",
       "  <thead>\n",
       "    <tr>\n",
       "      <th class=\"blank level0\" >&nbsp;</th>\n",
       "      <th class=\"col_heading level0 col0\" >Accuracy</th>\n",
       "      <th class=\"col_heading level0 col1\" >AUC</th>\n",
       "      <th class=\"col_heading level0 col2\" >Recall</th>\n",
       "      <th class=\"col_heading level0 col3\" >Prec.</th>\n",
       "      <th class=\"col_heading level0 col4\" >F1</th>\n",
       "      <th class=\"col_heading level0 col5\" >Kappa</th>\n",
       "      <th class=\"col_heading level0 col6\" >MCC</th>\n",
       "    </tr>\n",
       "  </thead>\n",
       "  <tbody>\n",
       "    <tr>\n",
       "      <th id=\"T_d0559_level0_row0\" class=\"row_heading level0 row0\" >0</th>\n",
       "      <td id=\"T_d0559_row0_col0\" class=\"data row0 col0\" >0.2151</td>\n",
       "      <td id=\"T_d0559_row0_col1\" class=\"data row0 col1\" >0.6340</td>\n",
       "      <td id=\"T_d0559_row0_col2\" class=\"data row0 col2\" >0.2135</td>\n",
       "      <td id=\"T_d0559_row0_col3\" class=\"data row0 col3\" >0.2211</td>\n",
       "      <td id=\"T_d0559_row0_col4\" class=\"data row0 col4\" >0.2077</td>\n",
       "      <td id=\"T_d0559_row0_col5\" class=\"data row0 col5\" >0.1345</td>\n",
       "      <td id=\"T_d0559_row0_col6\" class=\"data row0 col6\" >0.1363</td>\n",
       "    </tr>\n",
       "    <tr>\n",
       "      <th id=\"T_d0559_level0_row1\" class=\"row_heading level0 row1\" >1</th>\n",
       "      <td id=\"T_d0559_row1_col0\" class=\"data row1 col0\" >0.2028</td>\n",
       "      <td id=\"T_d0559_row1_col1\" class=\"data row1 col1\" >0.6180</td>\n",
       "      <td id=\"T_d0559_row1_col2\" class=\"data row1 col2\" >0.1990</td>\n",
       "      <td id=\"T_d0559_row1_col3\" class=\"data row1 col3\" >0.2082</td>\n",
       "      <td id=\"T_d0559_row1_col4\" class=\"data row1 col4\" >0.1999</td>\n",
       "      <td id=\"T_d0559_row1_col5\" class=\"data row1 col5\" >0.1199</td>\n",
       "      <td id=\"T_d0559_row1_col6\" class=\"data row1 col6\" >0.1206</td>\n",
       "    </tr>\n",
       "    <tr>\n",
       "      <th id=\"T_d0559_level0_row2\" class=\"row_heading level0 row2\" >2</th>\n",
       "      <td id=\"T_d0559_row2_col0\" class=\"data row2 col0\" >0.2069</td>\n",
       "      <td id=\"T_d0559_row2_col1\" class=\"data row2 col1\" >0.6258</td>\n",
       "      <td id=\"T_d0559_row2_col2\" class=\"data row2 col2\" >0.2056</td>\n",
       "      <td id=\"T_d0559_row2_col3\" class=\"data row2 col3\" >0.2115</td>\n",
       "      <td id=\"T_d0559_row2_col4\" class=\"data row2 col4\" >0.2056</td>\n",
       "      <td id=\"T_d0559_row2_col5\" class=\"data row2 col5\" >0.1253</td>\n",
       "      <td id=\"T_d0559_row2_col6\" class=\"data row2 col6\" >0.1259</td>\n",
       "    </tr>\n",
       "    <tr>\n",
       "      <th id=\"T_d0559_level0_row3\" class=\"row_heading level0 row3\" >3</th>\n",
       "      <td id=\"T_d0559_row3_col0\" class=\"data row3 col0\" >0.2005</td>\n",
       "      <td id=\"T_d0559_row3_col1\" class=\"data row3 col1\" >0.6181</td>\n",
       "      <td id=\"T_d0559_row3_col2\" class=\"data row3 col2\" >0.1976</td>\n",
       "      <td id=\"T_d0559_row3_col3\" class=\"data row3 col3\" >0.2049</td>\n",
       "      <td id=\"T_d0559_row3_col4\" class=\"data row3 col4\" >0.1976</td>\n",
       "      <td id=\"T_d0559_row3_col5\" class=\"data row3 col5\" >0.1168</td>\n",
       "      <td id=\"T_d0559_row3_col6\" class=\"data row3 col6\" >0.1175</td>\n",
       "    </tr>\n",
       "    <tr>\n",
       "      <th id=\"T_d0559_level0_row4\" class=\"row_heading level0 row4\" >4</th>\n",
       "      <td id=\"T_d0559_row4_col0\" class=\"data row4 col0\" >0.1972</td>\n",
       "      <td id=\"T_d0559_row4_col1\" class=\"data row4 col1\" >0.6085</td>\n",
       "      <td id=\"T_d0559_row4_col2\" class=\"data row4 col2\" >0.1934</td>\n",
       "      <td id=\"T_d0559_row4_col3\" class=\"data row4 col3\" >0.1971</td>\n",
       "      <td id=\"T_d0559_row4_col4\" class=\"data row4 col4\" >0.1862</td>\n",
       "      <td id=\"T_d0559_row4_col5\" class=\"data row4 col5\" >0.1145</td>\n",
       "      <td id=\"T_d0559_row4_col6\" class=\"data row4 col6\" >0.1164</td>\n",
       "    </tr>\n",
       "    <tr>\n",
       "      <th id=\"T_d0559_level0_row5\" class=\"row_heading level0 row5\" >5</th>\n",
       "      <td id=\"T_d0559_row5_col0\" class=\"data row5 col0\" >0.1972</td>\n",
       "      <td id=\"T_d0559_row5_col1\" class=\"data row5 col1\" >0.6224</td>\n",
       "      <td id=\"T_d0559_row5_col2\" class=\"data row5 col2\" >0.1978</td>\n",
       "      <td id=\"T_d0559_row5_col3\" class=\"data row5 col3\" >0.2040</td>\n",
       "      <td id=\"T_d0559_row5_col4\" class=\"data row5 col4\" >0.1917</td>\n",
       "      <td id=\"T_d0559_row5_col5\" class=\"data row5 col5\" >0.1156</td>\n",
       "      <td id=\"T_d0559_row5_col6\" class=\"data row5 col6\" >0.1175</td>\n",
       "    </tr>\n",
       "    <tr>\n",
       "      <th id=\"T_d0559_level0_row6\" class=\"row_heading level0 row6\" >6</th>\n",
       "      <td id=\"T_d0559_row6_col0\" class=\"data row6 col0\" >0.2091</td>\n",
       "      <td id=\"T_d0559_row6_col1\" class=\"data row6 col1\" >0.6205</td>\n",
       "      <td id=\"T_d0559_row6_col2\" class=\"data row6 col2\" >0.2064</td>\n",
       "      <td id=\"T_d0559_row6_col3\" class=\"data row6 col3\" >0.2113</td>\n",
       "      <td id=\"T_d0559_row6_col4\" class=\"data row6 col4\" >0.1991</td>\n",
       "      <td id=\"T_d0559_row6_col5\" class=\"data row6 col5\" >0.1281</td>\n",
       "      <td id=\"T_d0559_row6_col6\" class=\"data row6 col6\" >0.1299</td>\n",
       "    </tr>\n",
       "    <tr>\n",
       "      <th id=\"T_d0559_level0_row7\" class=\"row_heading level0 row7\" >7</th>\n",
       "      <td id=\"T_d0559_row7_col0\" class=\"data row7 col0\" >0.2031</td>\n",
       "      <td id=\"T_d0559_row7_col1\" class=\"data row7 col1\" >0.6175</td>\n",
       "      <td id=\"T_d0559_row7_col2\" class=\"data row7 col2\" >0.2029</td>\n",
       "      <td id=\"T_d0559_row7_col3\" class=\"data row7 col3\" >0.2122</td>\n",
       "      <td id=\"T_d0559_row7_col4\" class=\"data row7 col4\" >0.2007</td>\n",
       "      <td id=\"T_d0559_row7_col5\" class=\"data row7 col5\" >0.1230</td>\n",
       "      <td id=\"T_d0559_row7_col6\" class=\"data row7 col6\" >0.1241</td>\n",
       "    </tr>\n",
       "    <tr>\n",
       "      <th id=\"T_d0559_level0_row8\" class=\"row_heading level0 row8\" >8</th>\n",
       "      <td id=\"T_d0559_row8_col0\" class=\"data row8 col0\" >0.1905</td>\n",
       "      <td id=\"T_d0559_row8_col1\" class=\"data row8 col1\" >0.6083</td>\n",
       "      <td id=\"T_d0559_row8_col2\" class=\"data row8 col2\" >0.1908</td>\n",
       "      <td id=\"T_d0559_row8_col3\" class=\"data row8 col3\" >0.1944</td>\n",
       "      <td id=\"T_d0559_row8_col4\" class=\"data row8 col4\" >0.1850</td>\n",
       "      <td id=\"T_d0559_row8_col5\" class=\"data row8 col5\" >0.1083</td>\n",
       "      <td id=\"T_d0559_row8_col6\" class=\"data row8 col6\" >0.1094</td>\n",
       "    </tr>\n",
       "    <tr>\n",
       "      <th id=\"T_d0559_level0_row9\" class=\"row_heading level0 row9\" >9</th>\n",
       "      <td id=\"T_d0559_row9_col0\" class=\"data row9 col0\" >0.2055</td>\n",
       "      <td id=\"T_d0559_row9_col1\" class=\"data row9 col1\" >0.6216</td>\n",
       "      <td id=\"T_d0559_row9_col2\" class=\"data row9 col2\" >0.2052</td>\n",
       "      <td id=\"T_d0559_row9_col3\" class=\"data row9 col3\" >0.2079</td>\n",
       "      <td id=\"T_d0559_row9_col4\" class=\"data row9 col4\" >0.1986</td>\n",
       "      <td id=\"T_d0559_row9_col5\" class=\"data row9 col5\" >0.1237</td>\n",
       "      <td id=\"T_d0559_row9_col6\" class=\"data row9 col6\" >0.1251</td>\n",
       "    </tr>\n",
       "    <tr>\n",
       "      <th id=\"T_d0559_level0_row10\" class=\"row_heading level0 row10\" >Mean</th>\n",
       "      <td id=\"T_d0559_row10_col0\" class=\"data row10 col0\" >0.2028</td>\n",
       "      <td id=\"T_d0559_row10_col1\" class=\"data row10 col1\" >0.6195</td>\n",
       "      <td id=\"T_d0559_row10_col2\" class=\"data row10 col2\" >0.2012</td>\n",
       "      <td id=\"T_d0559_row10_col3\" class=\"data row10 col3\" >0.2073</td>\n",
       "      <td id=\"T_d0559_row10_col4\" class=\"data row10 col4\" >0.1972</td>\n",
       "      <td id=\"T_d0559_row10_col5\" class=\"data row10 col5\" >0.1210</td>\n",
       "      <td id=\"T_d0559_row10_col6\" class=\"data row10 col6\" >0.1223</td>\n",
       "    </tr>\n",
       "    <tr>\n",
       "      <th id=\"T_d0559_level0_row11\" class=\"row_heading level0 row11\" >SD</th>\n",
       "      <td id=\"T_d0559_row11_col0\" class=\"data row11 col0\" >0.0066</td>\n",
       "      <td id=\"T_d0559_row11_col1\" class=\"data row11 col1\" >0.0072</td>\n",
       "      <td id=\"T_d0559_row11_col2\" class=\"data row11 col2\" >0.0064</td>\n",
       "      <td id=\"T_d0559_row11_col3\" class=\"data row11 col3\" >0.0073</td>\n",
       "      <td id=\"T_d0559_row11_col4\" class=\"data row11 col4\" >0.0071</td>\n",
       "      <td id=\"T_d0559_row11_col5\" class=\"data row11 col5\" >0.0072</td>\n",
       "      <td id=\"T_d0559_row11_col6\" class=\"data row11 col6\" >0.0073</td>\n",
       "    </tr>\n",
       "  </tbody>\n",
       "</table>\n"
      ],
      "text/plain": [
       "<pandas.io.formats.style.Styler at 0x2e92bfdf130>"
      ]
     },
     "metadata": {},
     "output_type": "display_data"
    },
    {
     "name": "stdout",
     "output_type": "stream",
     "text": [
      "Wall time: 1.39 s\n"
     ]
    }
   ],
   "source": [
    "%time knn = create_model('knn')"
   ]
  },
  {
   "cell_type": "code",
   "execution_count": 21,
   "id": "d3b2c812",
   "metadata": {},
   "outputs": [
    {
     "name": "stdout",
     "output_type": "stream",
     "text": [
      "KNeighborsClassifier(algorithm='auto', leaf_size=30, metric='minkowski',\n",
      "                     metric_params=None, n_jobs=-1, n_neighbors=5, p=2,\n",
      "                     weights='uniform')\n"
     ]
    }
   ],
   "source": [
    "print(knn)"
   ]
  },
  {
   "cell_type": "markdown",
   "id": "981b4135",
   "metadata": {},
   "source": [
    "# Tuning the Required Models"
   ]
  },
  {
   "cell_type": "code",
   "execution_count": 22,
   "id": "c71e20e6",
   "metadata": {},
   "outputs": [
    {
     "data": {
      "text/html": [
       "<style type=\"text/css\">\n",
       "#T_fabd7_row10_col0, #T_fabd7_row10_col1, #T_fabd7_row10_col2, #T_fabd7_row10_col3, #T_fabd7_row10_col4, #T_fabd7_row10_col5, #T_fabd7_row10_col6 {\n",
       "  background: yellow;\n",
       "}\n",
       "</style>\n",
       "<table id=\"T_fabd7_\">\n",
       "  <thead>\n",
       "    <tr>\n",
       "      <th class=\"blank level0\" >&nbsp;</th>\n",
       "      <th class=\"col_heading level0 col0\" >Accuracy</th>\n",
       "      <th class=\"col_heading level0 col1\" >AUC</th>\n",
       "      <th class=\"col_heading level0 col2\" >Recall</th>\n",
       "      <th class=\"col_heading level0 col3\" >Prec.</th>\n",
       "      <th class=\"col_heading level0 col4\" >F1</th>\n",
       "      <th class=\"col_heading level0 col5\" >Kappa</th>\n",
       "      <th class=\"col_heading level0 col6\" >MCC</th>\n",
       "    </tr>\n",
       "  </thead>\n",
       "  <tbody>\n",
       "    <tr>\n",
       "      <th id=\"T_fabd7_level0_row0\" class=\"row_heading level0 row0\" >0</th>\n",
       "      <td id=\"T_fabd7_row0_col0\" class=\"data row0 col0\" >0.2380</td>\n",
       "      <td id=\"T_fabd7_row0_col1\" class=\"data row0 col1\" >0.7202</td>\n",
       "      <td id=\"T_fabd7_row0_col2\" class=\"data row0 col2\" >0.2387</td>\n",
       "      <td id=\"T_fabd7_row0_col3\" class=\"data row0 col3\" >0.2359</td>\n",
       "      <td id=\"T_fabd7_row0_col4\" class=\"data row0 col4\" >0.2282</td>\n",
       "      <td id=\"T_fabd7_row0_col5\" class=\"data row0 col5\" >0.1599</td>\n",
       "      <td id=\"T_fabd7_row0_col6\" class=\"data row0 col6\" >0.1612</td>\n",
       "    </tr>\n",
       "    <tr>\n",
       "      <th id=\"T_fabd7_level0_row1\" class=\"row_heading level0 row1\" >1</th>\n",
       "      <td id=\"T_fabd7_row1_col0\" class=\"data row1 col0\" >0.2421</td>\n",
       "      <td id=\"T_fabd7_row1_col1\" class=\"data row1 col1\" >0.7129</td>\n",
       "      <td id=\"T_fabd7_row1_col2\" class=\"data row1 col2\" >0.2396</td>\n",
       "      <td id=\"T_fabd7_row1_col3\" class=\"data row1 col3\" >0.2320</td>\n",
       "      <td id=\"T_fabd7_row1_col4\" class=\"data row1 col4\" >0.2303</td>\n",
       "      <td id=\"T_fabd7_row1_col5\" class=\"data row1 col5\" >0.1647</td>\n",
       "      <td id=\"T_fabd7_row1_col6\" class=\"data row1 col6\" >0.1658</td>\n",
       "    </tr>\n",
       "    <tr>\n",
       "      <th id=\"T_fabd7_level0_row2\" class=\"row_heading level0 row2\" >2</th>\n",
       "      <td id=\"T_fabd7_row2_col0\" class=\"data row2 col0\" >0.2436</td>\n",
       "      <td id=\"T_fabd7_row2_col1\" class=\"data row2 col1\" >0.7215</td>\n",
       "      <td id=\"T_fabd7_row2_col2\" class=\"data row2 col2\" >0.2412</td>\n",
       "      <td id=\"T_fabd7_row2_col3\" class=\"data row2 col3\" >0.2346</td>\n",
       "      <td id=\"T_fabd7_row2_col4\" class=\"data row2 col4\" >0.2334</td>\n",
       "      <td id=\"T_fabd7_row2_col5\" class=\"data row2 col5\" >0.1644</td>\n",
       "      <td id=\"T_fabd7_row2_col6\" class=\"data row2 col6\" >0.1652</td>\n",
       "    </tr>\n",
       "    <tr>\n",
       "      <th id=\"T_fabd7_level0_row3\" class=\"row_heading level0 row3\" >3</th>\n",
       "      <td id=\"T_fabd7_row3_col0\" class=\"data row3 col0\" >0.2425</td>\n",
       "      <td id=\"T_fabd7_row3_col1\" class=\"data row3 col1\" >0.7193</td>\n",
       "      <td id=\"T_fabd7_row3_col2\" class=\"data row3 col2\" >0.2433</td>\n",
       "      <td id=\"T_fabd7_row3_col3\" class=\"data row3 col3\" >0.2319</td>\n",
       "      <td id=\"T_fabd7_row3_col4\" class=\"data row3 col4\" >0.2298</td>\n",
       "      <td id=\"T_fabd7_row3_col5\" class=\"data row3 col5\" >0.1649</td>\n",
       "      <td id=\"T_fabd7_row3_col6\" class=\"data row3 col6\" >0.1662</td>\n",
       "    </tr>\n",
       "    <tr>\n",
       "      <th id=\"T_fabd7_level0_row4\" class=\"row_heading level0 row4\" >4</th>\n",
       "      <td id=\"T_fabd7_row4_col0\" class=\"data row4 col0\" >0.2343</td>\n",
       "      <td id=\"T_fabd7_row4_col1\" class=\"data row4 col1\" >0.7130</td>\n",
       "      <td id=\"T_fabd7_row4_col2\" class=\"data row4 col2\" >0.2342</td>\n",
       "      <td id=\"T_fabd7_row4_col3\" class=\"data row4 col3\" >0.2245</td>\n",
       "      <td id=\"T_fabd7_row4_col4\" class=\"data row4 col4\" >0.2232</td>\n",
       "      <td id=\"T_fabd7_row4_col5\" class=\"data row4 col5\" >0.1558</td>\n",
       "      <td id=\"T_fabd7_row4_col6\" class=\"data row4 col6\" >0.1570</td>\n",
       "    </tr>\n",
       "    <tr>\n",
       "      <th id=\"T_fabd7_level0_row5\" class=\"row_heading level0 row5\" >5</th>\n",
       "      <td id=\"T_fabd7_row5_col0\" class=\"data row5 col0\" >0.2286</td>\n",
       "      <td id=\"T_fabd7_row5_col1\" class=\"data row5 col1\" >0.7140</td>\n",
       "      <td id=\"T_fabd7_row5_col2\" class=\"data row5 col2\" >0.2276</td>\n",
       "      <td id=\"T_fabd7_row5_col3\" class=\"data row5 col3\" >0.2208</td>\n",
       "      <td id=\"T_fabd7_row5_col4\" class=\"data row5 col4\" >0.2187</td>\n",
       "      <td id=\"T_fabd7_row5_col5\" class=\"data row5 col5\" >0.1479</td>\n",
       "      <td id=\"T_fabd7_row5_col6\" class=\"data row5 col6\" >0.1488</td>\n",
       "    </tr>\n",
       "    <tr>\n",
       "      <th id=\"T_fabd7_level0_row6\" class=\"row_heading level0 row6\" >6</th>\n",
       "      <td id=\"T_fabd7_row6_col0\" class=\"data row6 col0\" >0.2440</td>\n",
       "      <td id=\"T_fabd7_row6_col1\" class=\"data row6 col1\" >0.7174</td>\n",
       "      <td id=\"T_fabd7_row6_col2\" class=\"data row6 col2\" >0.2431</td>\n",
       "      <td id=\"T_fabd7_row6_col3\" class=\"data row6 col3\" >0.2385</td>\n",
       "      <td id=\"T_fabd7_row6_col4\" class=\"data row6 col4\" >0.2341</td>\n",
       "      <td id=\"T_fabd7_row6_col5\" class=\"data row6 col5\" >0.1647</td>\n",
       "      <td id=\"T_fabd7_row6_col6\" class=\"data row6 col6\" >0.1658</td>\n",
       "    </tr>\n",
       "    <tr>\n",
       "      <th id=\"T_fabd7_level0_row7\" class=\"row_heading level0 row7\" >7</th>\n",
       "      <td id=\"T_fabd7_row7_col0\" class=\"data row7 col0\" >0.2522</td>\n",
       "      <td id=\"T_fabd7_row7_col1\" class=\"data row7 col1\" >0.7103</td>\n",
       "      <td id=\"T_fabd7_row7_col2\" class=\"data row7 col2\" >0.2503</td>\n",
       "      <td id=\"T_fabd7_row7_col3\" class=\"data row7 col3\" >0.2468</td>\n",
       "      <td id=\"T_fabd7_row7_col4\" class=\"data row7 col4\" >0.2435</td>\n",
       "      <td id=\"T_fabd7_row7_col5\" class=\"data row7 col5\" >0.1740</td>\n",
       "      <td id=\"T_fabd7_row7_col6\" class=\"data row7 col6\" >0.1748</td>\n",
       "    </tr>\n",
       "    <tr>\n",
       "      <th id=\"T_fabd7_level0_row8\" class=\"row_heading level0 row8\" >8</th>\n",
       "      <td id=\"T_fabd7_row8_col0\" class=\"data row8 col0\" >0.2265</td>\n",
       "      <td id=\"T_fabd7_row8_col1\" class=\"data row8 col1\" >0.7052</td>\n",
       "      <td id=\"T_fabd7_row8_col2\" class=\"data row8 col2\" >0.2291</td>\n",
       "      <td id=\"T_fabd7_row8_col3\" class=\"data row8 col3\" >0.2201</td>\n",
       "      <td id=\"T_fabd7_row8_col4\" class=\"data row8 col4\" >0.2177</td>\n",
       "      <td id=\"T_fabd7_row8_col5\" class=\"data row8 col5\" >0.1473</td>\n",
       "      <td id=\"T_fabd7_row8_col6\" class=\"data row8 col6\" >0.1483</td>\n",
       "    </tr>\n",
       "    <tr>\n",
       "      <th id=\"T_fabd7_level0_row9\" class=\"row_heading level0 row9\" >9</th>\n",
       "      <td id=\"T_fabd7_row9_col0\" class=\"data row9 col0\" >0.2336</td>\n",
       "      <td id=\"T_fabd7_row9_col1\" class=\"data row9 col1\" >0.7134</td>\n",
       "      <td id=\"T_fabd7_row9_col2\" class=\"data row9 col2\" >0.2325</td>\n",
       "      <td id=\"T_fabd7_row9_col3\" class=\"data row9 col3\" >0.2216</td>\n",
       "      <td id=\"T_fabd7_row9_col4\" class=\"data row9 col4\" >0.2227</td>\n",
       "      <td id=\"T_fabd7_row9_col5\" class=\"data row9 col5\" >0.1528</td>\n",
       "      <td id=\"T_fabd7_row9_col6\" class=\"data row9 col6\" >0.1537</td>\n",
       "    </tr>\n",
       "    <tr>\n",
       "      <th id=\"T_fabd7_level0_row10\" class=\"row_heading level0 row10\" >Mean</th>\n",
       "      <td id=\"T_fabd7_row10_col0\" class=\"data row10 col0\" >0.2385</td>\n",
       "      <td id=\"T_fabd7_row10_col1\" class=\"data row10 col1\" >0.7147</td>\n",
       "      <td id=\"T_fabd7_row10_col2\" class=\"data row10 col2\" >0.2380</td>\n",
       "      <td id=\"T_fabd7_row10_col3\" class=\"data row10 col3\" >0.2307</td>\n",
       "      <td id=\"T_fabd7_row10_col4\" class=\"data row10 col4\" >0.2282</td>\n",
       "      <td id=\"T_fabd7_row10_col5\" class=\"data row10 col5\" >0.1596</td>\n",
       "      <td id=\"T_fabd7_row10_col6\" class=\"data row10 col6\" >0.1607</td>\n",
       "    </tr>\n",
       "    <tr>\n",
       "      <th id=\"T_fabd7_level0_row11\" class=\"row_heading level0 row11\" >SD</th>\n",
       "      <td id=\"T_fabd7_row11_col0\" class=\"data row11 col0\" >0.0075</td>\n",
       "      <td id=\"T_fabd7_row11_col1\" class=\"data row11 col1\" >0.0047</td>\n",
       "      <td id=\"T_fabd7_row11_col2\" class=\"data row11 col2\" >0.0067</td>\n",
       "      <td id=\"T_fabd7_row11_col3\" class=\"data row11 col3\" >0.0084</td>\n",
       "      <td id=\"T_fabd7_row11_col4\" class=\"data row11 col4\" >0.0075</td>\n",
       "      <td id=\"T_fabd7_row11_col5\" class=\"data row11 col5\" >0.0081</td>\n",
       "      <td id=\"T_fabd7_row11_col6\" class=\"data row11 col6\" >0.0081</td>\n",
       "    </tr>\n",
       "  </tbody>\n",
       "</table>\n"
      ],
      "text/plain": [
       "<pandas.io.formats.style.Styler at 0x2e92ae52a60>"
      ]
     },
     "metadata": {},
     "output_type": "display_data"
    },
    {
     "name": "stdout",
     "output_type": "stream",
     "text": [
      "Wall time: 2min 27s\n"
     ]
    }
   ],
   "source": [
    "%time tuned_lightgbm = tune_model(lightgbm)"
   ]
  },
  {
   "cell_type": "code",
   "execution_count": 23,
   "id": "0c826412",
   "metadata": {},
   "outputs": [
    {
     "data": {
      "text/html": [
       "<style type=\"text/css\">\n",
       "#T_47e62_row10_col0, #T_47e62_row10_col1, #T_47e62_row10_col2, #T_47e62_row10_col3, #T_47e62_row10_col4, #T_47e62_row10_col5, #T_47e62_row10_col6 {\n",
       "  background: yellow;\n",
       "}\n",
       "</style>\n",
       "<table id=\"T_47e62_\">\n",
       "  <thead>\n",
       "    <tr>\n",
       "      <th class=\"blank level0\" >&nbsp;</th>\n",
       "      <th class=\"col_heading level0 col0\" >Accuracy</th>\n",
       "      <th class=\"col_heading level0 col1\" >AUC</th>\n",
       "      <th class=\"col_heading level0 col2\" >Recall</th>\n",
       "      <th class=\"col_heading level0 col3\" >Prec.</th>\n",
       "      <th class=\"col_heading level0 col4\" >F1</th>\n",
       "      <th class=\"col_heading level0 col5\" >Kappa</th>\n",
       "      <th class=\"col_heading level0 col6\" >MCC</th>\n",
       "    </tr>\n",
       "  </thead>\n",
       "  <tbody>\n",
       "    <tr>\n",
       "      <th id=\"T_47e62_level0_row0\" class=\"row_heading level0 row0\" >0</th>\n",
       "      <td id=\"T_47e62_row0_col0\" class=\"data row0 col0\" >0.2481</td>\n",
       "      <td id=\"T_47e62_row0_col1\" class=\"data row0 col1\" >0.7023</td>\n",
       "      <td id=\"T_47e62_row0_col2\" class=\"data row0 col2\" >0.2479</td>\n",
       "      <td id=\"T_47e62_row0_col3\" class=\"data row0 col3\" >0.2481</td>\n",
       "      <td id=\"T_47e62_row0_col4\" class=\"data row0 col4\" >0.2443</td>\n",
       "      <td id=\"T_47e62_row0_col5\" class=\"data row0 col5\" >0.1713</td>\n",
       "      <td id=\"T_47e62_row0_col6\" class=\"data row0 col6\" >0.1720</td>\n",
       "    </tr>\n",
       "    <tr>\n",
       "      <th id=\"T_47e62_level0_row1\" class=\"row_heading level0 row1\" >1</th>\n",
       "      <td id=\"T_47e62_row1_col0\" class=\"data row1 col0\" >0.2421</td>\n",
       "      <td id=\"T_47e62_row1_col1\" class=\"data row1 col1\" >0.6905</td>\n",
       "      <td id=\"T_47e62_row1_col2\" class=\"data row1 col2\" >0.2367</td>\n",
       "      <td id=\"T_47e62_row1_col3\" class=\"data row1 col3\" >0.2393</td>\n",
       "      <td id=\"T_47e62_row1_col4\" class=\"data row1 col4\" >0.2366</td>\n",
       "      <td id=\"T_47e62_row1_col5\" class=\"data row1 col5\" >0.1626</td>\n",
       "      <td id=\"T_47e62_row1_col6\" class=\"data row1 col6\" >0.1633</td>\n",
       "    </tr>\n",
       "    <tr>\n",
       "      <th id=\"T_47e62_level0_row2\" class=\"row_heading level0 row2\" >2</th>\n",
       "      <td id=\"T_47e62_row2_col0\" class=\"data row2 col0\" >0.2324</td>\n",
       "      <td id=\"T_47e62_row2_col1\" class=\"data row2 col1\" >0.6905</td>\n",
       "      <td id=\"T_47e62_row2_col2\" class=\"data row2 col2\" >0.2322</td>\n",
       "      <td id=\"T_47e62_row2_col3\" class=\"data row2 col3\" >0.2233</td>\n",
       "      <td id=\"T_47e62_row2_col4\" class=\"data row2 col4\" >0.2216</td>\n",
       "      <td id=\"T_47e62_row2_col5\" class=\"data row2 col5\" >0.1529</td>\n",
       "      <td id=\"T_47e62_row2_col6\" class=\"data row2 col6\" >0.1541</td>\n",
       "    </tr>\n",
       "    <tr>\n",
       "      <th id=\"T_47e62_level0_row3\" class=\"row_heading level0 row3\" >3</th>\n",
       "      <td id=\"T_47e62_row3_col0\" class=\"data row3 col0\" >0.2388</td>\n",
       "      <td id=\"T_47e62_row3_col1\" class=\"data row3 col1\" >0.6852</td>\n",
       "      <td id=\"T_47e62_row3_col2\" class=\"data row3 col2\" >0.2352</td>\n",
       "      <td id=\"T_47e62_row3_col3\" class=\"data row3 col3\" >0.2373</td>\n",
       "      <td id=\"T_47e62_row3_col4\" class=\"data row3 col4\" >0.2349</td>\n",
       "      <td id=\"T_47e62_row3_col5\" class=\"data row3 col5\" >0.1587</td>\n",
       "      <td id=\"T_47e62_row3_col6\" class=\"data row3 col6\" >0.1592</td>\n",
       "    </tr>\n",
       "    <tr>\n",
       "      <th id=\"T_47e62_level0_row4\" class=\"row_heading level0 row4\" >4</th>\n",
       "      <td id=\"T_47e62_row4_col0\" class=\"data row4 col0\" >0.2301</td>\n",
       "      <td id=\"T_47e62_row4_col1\" class=\"data row4 col1\" >0.6858</td>\n",
       "      <td id=\"T_47e62_row4_col2\" class=\"data row4 col2\" >0.2268</td>\n",
       "      <td id=\"T_47e62_row4_col3\" class=\"data row4 col3\" >0.2270</td>\n",
       "      <td id=\"T_47e62_row4_col4\" class=\"data row4 col4\" >0.2218</td>\n",
       "      <td id=\"T_47e62_row4_col5\" class=\"data row4 col5\" >0.1501</td>\n",
       "      <td id=\"T_47e62_row4_col6\" class=\"data row4 col6\" >0.1514</td>\n",
       "    </tr>\n",
       "    <tr>\n",
       "      <th id=\"T_47e62_level0_row5\" class=\"row_heading level0 row5\" >5</th>\n",
       "      <td id=\"T_47e62_row5_col0\" class=\"data row5 col0\" >0.2211</td>\n",
       "      <td id=\"T_47e62_row5_col1\" class=\"data row5 col1\" >0.6893</td>\n",
       "      <td id=\"T_47e62_row5_col2\" class=\"data row5 col2\" >0.2193</td>\n",
       "      <td id=\"T_47e62_row5_col3\" class=\"data row5 col3\" >0.2153</td>\n",
       "      <td id=\"T_47e62_row5_col4\" class=\"data row5 col4\" >0.2152</td>\n",
       "      <td id=\"T_47e62_row5_col5\" class=\"data row5 col5\" >0.1394</td>\n",
       "      <td id=\"T_47e62_row5_col6\" class=\"data row5 col6\" >0.1399</td>\n",
       "    </tr>\n",
       "    <tr>\n",
       "      <th id=\"T_47e62_level0_row6\" class=\"row_heading level0 row6\" >6</th>\n",
       "      <td id=\"T_47e62_row6_col0\" class=\"data row6 col0\" >0.2403</td>\n",
       "      <td id=\"T_47e62_row6_col1\" class=\"data row6 col1\" >0.6949</td>\n",
       "      <td id=\"T_47e62_row6_col2\" class=\"data row6 col2\" >0.2397</td>\n",
       "      <td id=\"T_47e62_row6_col3\" class=\"data row6 col3\" >0.2349</td>\n",
       "      <td id=\"T_47e62_row6_col4\" class=\"data row6 col4\" >0.2307</td>\n",
       "      <td id=\"T_47e62_row6_col5\" class=\"data row6 col5\" >0.1618</td>\n",
       "      <td id=\"T_47e62_row6_col6\" class=\"data row6 col6\" >0.1631</td>\n",
       "    </tr>\n",
       "    <tr>\n",
       "      <th id=\"T_47e62_level0_row7\" class=\"row_heading level0 row7\" >7</th>\n",
       "      <td id=\"T_47e62_row7_col0\" class=\"data row7 col0\" >0.2354</td>\n",
       "      <td id=\"T_47e62_row7_col1\" class=\"data row7 col1\" >0.6919</td>\n",
       "      <td id=\"T_47e62_row7_col2\" class=\"data row7 col2\" >0.2353</td>\n",
       "      <td id=\"T_47e62_row7_col3\" class=\"data row7 col3\" >0.2313</td>\n",
       "      <td id=\"T_47e62_row7_col4\" class=\"data row7 col4\" >0.2297</td>\n",
       "      <td id=\"T_47e62_row7_col5\" class=\"data row7 col5\" >0.1575</td>\n",
       "      <td id=\"T_47e62_row7_col6\" class=\"data row7 col6\" >0.1582</td>\n",
       "    </tr>\n",
       "    <tr>\n",
       "      <th id=\"T_47e62_level0_row8\" class=\"row_heading level0 row8\" >8</th>\n",
       "      <td id=\"T_47e62_row8_col0\" class=\"data row8 col0\" >0.2291</td>\n",
       "      <td id=\"T_47e62_row8_col1\" class=\"data row8 col1\" >0.6883</td>\n",
       "      <td id=\"T_47e62_row8_col2\" class=\"data row8 col2\" >0.2271</td>\n",
       "      <td id=\"T_47e62_row8_col3\" class=\"data row8 col3\" >0.2271</td>\n",
       "      <td id=\"T_47e62_row8_col4\" class=\"data row8 col4\" >0.2259</td>\n",
       "      <td id=\"T_47e62_row8_col5\" class=\"data row8 col5\" >0.1488</td>\n",
       "      <td id=\"T_47e62_row8_col6\" class=\"data row8 col6\" >0.1492</td>\n",
       "    </tr>\n",
       "    <tr>\n",
       "      <th id=\"T_47e62_level0_row9\" class=\"row_heading level0 row9\" >9</th>\n",
       "      <td id=\"T_47e62_row9_col0\" class=\"data row9 col0\" >0.2366</td>\n",
       "      <td id=\"T_47e62_row9_col1\" class=\"data row9 col1\" >0.6910</td>\n",
       "      <td id=\"T_47e62_row9_col2\" class=\"data row9 col2\" >0.2340</td>\n",
       "      <td id=\"T_47e62_row9_col3\" class=\"data row9 col3\" >0.2335</td>\n",
       "      <td id=\"T_47e62_row9_col4\" class=\"data row9 col4\" >0.2319</td>\n",
       "      <td id=\"T_47e62_row9_col5\" class=\"data row9 col5\" >0.1562</td>\n",
       "      <td id=\"T_47e62_row9_col6\" class=\"data row9 col6\" >0.1568</td>\n",
       "    </tr>\n",
       "    <tr>\n",
       "      <th id=\"T_47e62_level0_row10\" class=\"row_heading level0 row10\" >Mean</th>\n",
       "      <td id=\"T_47e62_row10_col0\" class=\"data row10 col0\" >0.2354</td>\n",
       "      <td id=\"T_47e62_row10_col1\" class=\"data row10 col1\" >0.6910</td>\n",
       "      <td id=\"T_47e62_row10_col2\" class=\"data row10 col2\" >0.2334</td>\n",
       "      <td id=\"T_47e62_row10_col3\" class=\"data row10 col3\" >0.2317</td>\n",
       "      <td id=\"T_47e62_row10_col4\" class=\"data row10 col4\" >0.2293</td>\n",
       "      <td id=\"T_47e62_row10_col5\" class=\"data row10 col5\" >0.1559</td>\n",
       "      <td id=\"T_47e62_row10_col6\" class=\"data row10 col6\" >0.1567</td>\n",
       "    </tr>\n",
       "    <tr>\n",
       "      <th id=\"T_47e62_level0_row11\" class=\"row_heading level0 row11\" >SD</th>\n",
       "      <td id=\"T_47e62_row11_col0\" class=\"data row11 col0\" >0.0072</td>\n",
       "      <td id=\"T_47e62_row11_col1\" class=\"data row11 col1\" >0.0046</td>\n",
       "      <td id=\"T_47e62_row11_col2\" class=\"data row11 col2\" >0.0074</td>\n",
       "      <td id=\"T_47e62_row11_col3\" class=\"data row11 col3\" >0.0087</td>\n",
       "      <td id=\"T_47e62_row11_col4\" class=\"data row11 col4\" >0.0080</td>\n",
       "      <td id=\"T_47e62_row11_col5\" class=\"data row11 col5\" >0.0083</td>\n",
       "      <td id=\"T_47e62_row11_col6\" class=\"data row11 col6\" >0.0084</td>\n",
       "    </tr>\n",
       "  </tbody>\n",
       "</table>\n"
      ],
      "text/plain": [
       "<pandas.io.formats.style.Styler at 0x2e92aad51f0>"
      ]
     },
     "metadata": {},
     "output_type": "display_data"
    },
    {
     "name": "stdout",
     "output_type": "stream",
     "text": [
      "Wall time: 8.54 s\n"
     ]
    }
   ],
   "source": [
    "%time tuned_knn = tune_model(knn)"
   ]
  },
  {
   "cell_type": "code",
   "execution_count": 24,
   "id": "47d76e68",
   "metadata": {},
   "outputs": [
    {
     "data": {
      "image/png": "[encoded data removed]",
      "text/plain": [
       "<Figure size 576x396 with 1 Axes>"
      ]
     },
     "metadata": {},
     "output_type": "display_data"
    }
   ],
   "source": [
    "plot_model(tuned_lightgbm, plot = 'confusion_matrix')"
   ]
  },
  {
   "cell_type": "code",
   "execution_count": 25,
   "id": "f54fa74f",
   "metadata": {},
   "outputs": [
    {
     "data": {
      "image/png": "[encoded data removed]",
      "text/plain": [
       "<Figure size 576x396 with 2 Axes>"
      ]
     },
     "metadata": {},
     "output_type": "display_data"
    }
   ],
   "source": [
    "plot_model(tuned_lightgbm, plot = 'class_report')"
   ]
  },
  {
   "cell_type": "code",
   "execution_count": 26,
   "id": "60ade5d2",
   "metadata": {},
   "outputs": [
    {
     "data": {
      "image/png": "[encoded data removed]",
      "text/plain": [
       "<Figure size 576x396 with 1 Axes>"
      ]
     },
     "metadata": {},
     "output_type": "display_data"
    }
   ],
   "source": [
    "plot_model(tuned_lightgbm, plot='boundary')"
   ]
  },
  {
   "cell_type": "code",
   "execution_count": 27,
   "id": "6d0dca94",
   "metadata": {},
   "outputs": [
    {
     "data": {
      "image/png": "[encoded data removed]",
      "text/plain": [
       "<Figure size 576x396 with 1 Axes>"
      ]
     },
     "metadata": {},
     "output_type": "display_data"
    }
   ],
   "source": [
    "plot_model(tuned_lightgbm, plot = 'error')"
   ]
  },
  {
   "cell_type": "markdown",
   "id": "448af45e",
   "metadata": {},
   "source": [
    "# Evaluating the Model"
   ]
  },
  {
   "cell_type": "code",
   "execution_count": 28,
   "id": "1d8d9f1a",
   "metadata": {},
   "outputs": [
    {
     "data": {
      "application/vnd.jupyter.widget-view+json": {
       "model_id": "35337a9dd01f41808ca51ee45edf656f",
       "version_major": 2,
       "version_minor": 0
      },
      "text/plain": [
       "interactive(children=(ToggleButtons(description='Plot Type:', icons=('',), options=(('Hyperparameters', 'param…"
      ]
     },
     "metadata": {},
     "output_type": "display_data"
    }
   ],
   "source": [
    "evaluate_model(tuned_lightgbm)"
   ]
  },
  {
   "cell_type": "code",
   "execution_count": 29,
   "id": "3b10f99e",
   "metadata": {},
   "outputs": [
    {
     "data": {
      "application/vnd.jupyter.widget-view+json": {
       "model_id": "c99379279c2a426199bca8da270acdf8",
       "version_major": 2,
       "version_minor": 0
      },
      "text/plain": [
       "interactive(children=(ToggleButtons(description='Plot Type:', icons=('',), options=(('Hyperparameters', 'param…"
      ]
     },
     "metadata": {},
     "output_type": "display_data"
    }
   ],
   "source": [
    "evaluate_model(tuned_knn)"
   ]
  },
  {
   "cell_type": "markdown",
   "id": "1d664631",
   "metadata": {},
   "source": [
    "# Predict on test / hold-out Sample"
   ]
  },
  {
   "cell_type": "code",
   "execution_count": 30,
   "id": "85701078",
   "metadata": {},
   "outputs": [
    {
     "data": {
      "text/html": [
       "<style type=\"text/css\">\n",
       "</style>\n",
       "<table id=\"T_921a1_\">\n",
       "  <thead>\n",
       "    <tr>\n",
       "      <th class=\"blank level0\" >&nbsp;</th>\n",
       "      <th class=\"col_heading level0 col0\" >Model</th>\n",
       "      <th class=\"col_heading level0 col1\" >Accuracy</th>\n",
       "      <th class=\"col_heading level0 col2\" >AUC</th>\n",
       "      <th class=\"col_heading level0 col3\" >Recall</th>\n",
       "      <th class=\"col_heading level0 col4\" >Prec.</th>\n",
       "      <th class=\"col_heading level0 col5\" >F1</th>\n",
       "      <th class=\"col_heading level0 col6\" >Kappa</th>\n",
       "      <th class=\"col_heading level0 col7\" >MCC</th>\n",
       "    </tr>\n",
       "  </thead>\n",
       "  <tbody>\n",
       "    <tr>\n",
       "      <th id=\"T_921a1_level0_row0\" class=\"row_heading level0 row0\" >0</th>\n",
       "      <td id=\"T_921a1_row0_col0\" class=\"data row0 col0\" >Light Gradient Boosting Machine</td>\n",
       "      <td id=\"T_921a1_row0_col1\" class=\"data row0 col1\" >0.2315</td>\n",
       "      <td id=\"T_921a1_row0_col2\" class=\"data row0 col2\" >0.7156</td>\n",
       "      <td id=\"T_921a1_row0_col3\" class=\"data row0 col3\" >0.2303</td>\n",
       "      <td id=\"T_921a1_row0_col4\" class=\"data row0 col4\" >0.2277</td>\n",
       "      <td id=\"T_921a1_row0_col5\" class=\"data row0 col5\" >0.2226</td>\n",
       "      <td id=\"T_921a1_row0_col6\" class=\"data row0 col6\" >0.1532</td>\n",
       "      <td id=\"T_921a1_row0_col7\" class=\"data row0 col7\" >0.1544</td>\n",
       "    </tr>\n",
       "  </tbody>\n",
       "</table>\n"
      ],
      "text/plain": [
       "<pandas.io.formats.style.Styler at 0x2e92b0e9fa0>"
      ]
     },
     "metadata": {},
     "output_type": "display_data"
    }
   ],
   "source": [
    "predict_model(tuned_lightgbm);"
   ]
  },
  {
   "cell_type": "code",
   "execution_count": 31,
   "id": "7b786b80",
   "metadata": {},
   "outputs": [
    {
     "data": {
      "text/html": [
       "<style type=\"text/css\">\n",
       "</style>\n",
       "<table id=\"T_438c3_\">\n",
       "  <thead>\n",
       "    <tr>\n",
       "      <th class=\"blank level0\" >&nbsp;</th>\n",
       "      <th class=\"col_heading level0 col0\" >Model</th>\n",
       "      <th class=\"col_heading level0 col1\" >Accuracy</th>\n",
       "      <th class=\"col_heading level0 col2\" >AUC</th>\n",
       "      <th class=\"col_heading level0 col3\" >Recall</th>\n",
       "      <th class=\"col_heading level0 col4\" >Prec.</th>\n",
       "      <th class=\"col_heading level0 col5\" >F1</th>\n",
       "      <th class=\"col_heading level0 col6\" >Kappa</th>\n",
       "      <th class=\"col_heading level0 col7\" >MCC</th>\n",
       "    </tr>\n",
       "  </thead>\n",
       "  <tbody>\n",
       "    <tr>\n",
       "      <th id=\"T_438c3_level0_row0\" class=\"row_heading level0 row0\" >0</th>\n",
       "      <td id=\"T_438c3_row0_col0\" class=\"data row0 col0\" >K Neighbors Classifier</td>\n",
       "      <td id=\"T_438c3_row0_col1\" class=\"data row0 col1\" >0.2251</td>\n",
       "      <td id=\"T_438c3_row0_col2\" class=\"data row0 col2\" >0.6884</td>\n",
       "      <td id=\"T_438c3_row0_col3\" class=\"data row0 col3\" >0.2203</td>\n",
       "      <td id=\"T_438c3_row0_col4\" class=\"data row0 col4\" >0.2174</td>\n",
       "      <td id=\"T_438c3_row0_col5\" class=\"data row0 col5\" >0.2153</td>\n",
       "      <td id=\"T_438c3_row0_col6\" class=\"data row0 col6\" >0.1447</td>\n",
       "      <td id=\"T_438c3_row0_col7\" class=\"data row0 col7\" >0.1459</td>\n",
       "    </tr>\n",
       "  </tbody>\n",
       "</table>\n"
      ],
      "text/plain": [
       "<pandas.io.formats.style.Styler at 0x2e927df4580>"
      ]
     },
     "metadata": {},
     "output_type": "display_data"
    }
   ],
   "source": [
    "predict_model(tuned_knn);"
   ]
  },
  {
   "cell_type": "markdown",
   "id": "9dba84af",
   "metadata": {},
   "source": [
    "# Finalize Model for Deployment"
   ]
  },
  {
   "cell_type": "code",
   "execution_count": 32,
   "id": "423292d5",
   "metadata": {},
   "outputs": [],
   "source": [
    "final_lightgbm = finalize_model(tuned_lightgbm)"
   ]
  },
  {
   "cell_type": "code",
   "execution_count": 33,
   "id": "09d928f8",
   "metadata": {},
   "outputs": [
    {
     "name": "stdout",
     "output_type": "stream",
     "text": [
      "LGBMClassifier(bagging_fraction=0.8, bagging_freq=0, boosting_type='gbdt',\n",
      "               class_weight=None, colsample_bytree=1.0, feature_fraction=0.7,\n",
      "               importance_type='split', learning_rate=0.15, max_depth=-1,\n",
      "               min_child_samples=76, min_child_weight=0.001, min_split_gain=0.7,\n",
      "               n_estimators=40, n_jobs=-1, num_leaves=40, objective=None,\n",
      "               random_state=5, reg_alpha=1e-06, reg_lambda=0.0005,\n",
      "               silent='warn', subsample=1.0, subsample_for_bin=200000,\n",
      "               subsample_freq=0)\n"
     ]
    }
   ],
   "source": [
    "print(final_lightgbm)"
   ]
  },
  {
   "cell_type": "markdown",
   "id": "142e2042",
   "metadata": {},
   "source": [
    "   # FINAL INFERENCE\n",
    "\n",
    "\n",
    "   # Low Accuracy?\n",
    "\n",
    " 1. Pycaret, the name itself suggests that it is strong for its Classification and Regression technique.\n",
    "    (Caret- Classification And Regression Training). It’s a highly efficient model when it comes to perform \n",
    "    classification and regression tasks.\n",
    "\n",
    "\n",
    "2. As far as NLP is concerned, it is just in the intermediate stage. The embedding technique used by Pycaret \n",
    "   is  different from rest of the traditional algorithms.\n",
    "\n",
    "    \n",
    "3. Another limitation is that, we cant incorporate other embedding technique into this algorithm, \n",
    "   so we have to undergo topic modelling as a mandatory step.\n",
    "    \n",
    "\n",
    "4. Topic modelling may be helpful in the case of unsupervised learning, to get topics out of raw text. \n",
    "   But as far as target modelling is concerned, it acts as a limitation.\n",
    "\n",
    "    \n",
    "5. Well, we have to wait for the upcoming NLP version in Pycaret module supports the embedding technique \n",
    "   used by other traditional algorithms.\n"
   ]
  },
  {
   "cell_type": "code",
   "execution_count": null,
   "id": "c61071e9",
   "metadata": {},
   "outputs": [],
   "source": []
  }
 ],
 "metadata": {
  "kernelspec": {
   "display_name": "Pycaret",
   "language": "python",
   "name": "newpycaret"
  },
  "language_info": {
   "codemirror_mode": {
    "name": "ipython",
    "version": 3
   },
   "file_extension": ".py",
   "mimetype": "text/x-python",
   "name": "python",
   "nbconvert_exporter": "python",
   "pygments_lexer": "ipython3",
   "version": "3.8.10"
  }
 },
 "nbformat": 4,
 "nbformat_minor": 5
}
