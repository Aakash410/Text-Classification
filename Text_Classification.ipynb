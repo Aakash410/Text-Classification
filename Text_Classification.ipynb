{
 "cells": [
  {
   "cell_type": "markdown",
   "id": "55940461",
   "metadata": {},
   "source": [
    "# Importing the Preliminary Required Libraries"
   ]
  },
  {
   "cell_type": "code",
   "execution_count": 1,
   "id": "68a143fe",
   "metadata": {},
   "outputs": [
    {
     "name": "stderr",
     "output_type": "stream",
     "text": [
      "[nltk_data] Downloading package stopwords to\n",
      "[nltk_data]     C:\\Users\\User\\AppData\\Roaming\\nltk_data...\n",
      "[nltk_data]   Package stopwords is already up-to-date!\n"
     ]
    }
   ],
   "source": [
    "import nltk\n",
    "nltk.download('stopwords')\n",
    "from nltk.corpus import stopwords\n",
    "import re\n",
    "import pandas as pd\n",
    "from sklearn.feature_extraction.text import CountVectorizer, TfidfVectorizer\n",
    "from sklearn.metrics import accuracy_score\n",
    "import matplotlib.pyplot as plt"
   ]
  },
  {
   "cell_type": "markdown",
   "id": "78bf5787",
   "metadata": {},
   "source": [
    "# Loading the Data"
   ]
  },
  {
   "cell_type": "code",
   "execution_count": 2,
   "id": "7f23f758",
   "metadata": {},
   "outputs": [],
   "source": [
    "df = pd.read_csv(\"Context.csv\")"
   ]
  },
  {
   "cell_type": "code",
   "execution_count": 3,
   "id": "2e8ead03",
   "metadata": {},
   "outputs": [
    {
     "data": {
      "text/html": [
       "<div>\n",
       "<style scoped>\n",
       "    .dataframe tbody tr th:only-of-type {\n",
       "        vertical-align: middle;\n",
       "    }\n",
       "\n",
       "    .dataframe tbody tr th {\n",
       "        vertical-align: top;\n",
       "    }\n",
       "\n",
       "    .dataframe thead th {\n",
       "        text-align: right;\n",
       "    }\n",
       "</style>\n",
       "<table border=\"1\" class=\"dataframe\">\n",
       "  <thead>\n",
       "    <tr style=\"text-align: right;\">\n",
       "      <th></th>\n",
       "      <th>Text</th>\n",
       "      <th>Context</th>\n",
       "    </tr>\n",
       "  </thead>\n",
       "  <tbody>\n",
       "    <tr>\n",
       "      <th>0</th>\n",
       "      <td>The eternal mystique of Goldman Sachs</td>\n",
       "      <td>Politics</td>\n",
       "    </tr>\n",
       "    <tr>\n",
       "      <th>1</th>\n",
       "      <td>Either you don't care enough to actually tell ...</td>\n",
       "      <td>Love</td>\n",
       "    </tr>\n",
       "    <tr>\n",
       "      <th>2</th>\n",
       "      <td>I am such an IDIOT.</td>\n",
       "      <td>Heavy Emotion</td>\n",
       "    </tr>\n",
       "    <tr>\n",
       "      <th>3</th>\n",
       "      <td>While lifting weights on Friday and doing bent...</td>\n",
       "      <td>Health</td>\n",
       "    </tr>\n",
       "    <tr>\n",
       "      <th>4</th>\n",
       "      <td>Something's watching me</td>\n",
       "      <td>Animals</td>\n",
       "    </tr>\n",
       "  </tbody>\n",
       "</table>\n",
       "</div>"
      ],
      "text/plain": [
       "                                                Text        Context\n",
       "0              The eternal mystique of Goldman Sachs       Politics\n",
       "1  Either you don't care enough to actually tell ...           Love\n",
       "2                                I am such an IDIOT.  Heavy Emotion\n",
       "3  While lifting weights on Friday and doing bent...         Health\n",
       "4                            Something's watching me        Animals"
      ]
     },
     "execution_count": 3,
     "metadata": {},
     "output_type": "execute_result"
    }
   ],
   "source": [
    "df.head()"
   ]
  },
  {
   "cell_type": "code",
   "execution_count": 4,
   "id": "ac7ed470",
   "metadata": {},
   "outputs": [
    {
     "data": {
      "text/plain": [
       "11"
      ]
     },
     "execution_count": 4,
     "metadata": {},
     "output_type": "execute_result"
    }
   ],
   "source": [
    "len(df.Context.value_counts())"
   ]
  },
  {
   "cell_type": "code",
   "execution_count": 5,
   "id": "7a8e6379",
   "metadata": {},
   "outputs": [
    {
     "data": {
      "text/plain": [
       "array(['Politics', 'Love', 'Heavy Emotion', 'Health', 'Animals',\n",
       "       'Science', 'Joke', 'Compliment', 'Religion', 'Self', 'Education'],\n",
       "      dtype=object)"
      ]
     },
     "execution_count": 5,
     "metadata": {},
     "output_type": "execute_result"
    }
   ],
   "source": [
    "df.Context.unique()"
   ]
  },
  {
   "cell_type": "markdown",
   "id": "0aa11c02",
   "metadata": {},
   "source": [
    "# Data Visualization (Preliminary)"
   ]
  },
  {
   "cell_type": "code",
   "execution_count": 6,
   "id": "e2969a4d",
   "metadata": {},
   "outputs": [
    {
     "data": {
      "image/png": "[encoded data removed]",
      "text/plain": [
       "<Figure size 720x432 with 1 Axes>"
      ]
     },
     "metadata": {
      "needs_background": "light"
     },
     "output_type": "display_data"
    }
   ],
   "source": [
    "Context = ['Politics','Love','Heavy Emotion','Health','Animals','Science','Joke','Compliment','Religion','Self','Education']\n",
    "plt.figure(figsize=(10,6))\n",
    "plt.ylabel('Text Counts')\n",
    "plt.xlabel('Catergories')\n",
    "df.Context.value_counts().plot(kind='bar');"
   ]
  },
  {
   "cell_type": "markdown",
   "id": "8b3bec68",
   "metadata": {},
   "source": [
    "# Checking for NULLs and removing them"
   ]
  },
  {
   "cell_type": "code",
   "execution_count": 7,
   "id": "42de5aee",
   "metadata": {},
   "outputs": [
    {
     "data": {
      "text/plain": [
       "Text       0\n",
       "Context    0\n",
       "dtype: int64"
      ]
     },
     "execution_count": 7,
     "metadata": {},
     "output_type": "execute_result"
    }
   ],
   "source": [
    "df.isnull().sum()"
   ]
  },
  {
   "cell_type": "markdown",
   "id": "de393e8e",
   "metadata": {},
   "source": [
    "# Dropping duplicates"
   ]
  },
  {
   "cell_type": "code",
   "execution_count": 8,
   "id": "74f0dce1",
   "metadata": {},
   "outputs": [
    {
     "data": {
      "text/plain": [
       "(31386, 2)"
      ]
     },
     "execution_count": 8,
     "metadata": {},
     "output_type": "execute_result"
    }
   ],
   "source": [
    "df.shape"
   ]
  },
  {
   "cell_type": "code",
   "execution_count": 9,
   "id": "e8579c6e",
   "metadata": {},
   "outputs": [],
   "source": [
    "df.drop_duplicates(inplace=True)"
   ]
  },
  {
   "cell_type": "code",
   "execution_count": 10,
   "id": "90b7152b",
   "metadata": {},
   "outputs": [
    {
     "data": {
      "text/plain": [
       "(31321, 2)"
      ]
     },
     "execution_count": 10,
     "metadata": {},
     "output_type": "execute_result"
    }
   ],
   "source": [
    "df.shape"
   ]
  },
  {
   "cell_type": "markdown",
   "id": "ca28caff",
   "metadata": {},
   "source": [
    "# Preprocessing the text"
   ]
  },
  {
   "cell_type": "code",
   "execution_count": 11,
   "id": "45eec06c",
   "metadata": {},
   "outputs": [
    {
     "name": "stdout",
     "output_type": "stream",
     "text": [
      "768377\n"
     ]
    }
   ],
   "source": [
    "print(df['Text'].apply(lambda x: len(x.split(' '))).sum())"
   ]
  },
  {
   "cell_type": "markdown",
   "id": "9066ad10",
   "metadata": {},
   "source": [
    "# Cleaning the Text"
   ]
  },
  {
   "cell_type": "code",
   "execution_count": 12,
   "id": "bcb4e3b0",
   "metadata": {
    "scrolled": true
   },
   "outputs": [],
   "source": [
    "special_character_remover = re.compile('[/(){}\\[\\]\\|@,;]')\n",
    "extra_symbol_remover = re.compile('[^0-9a-z #+_]')\n",
    "STOPWORDS = set(stopwords.words('english'))"
   ]
  },
  {
   "cell_type": "code",
   "execution_count": 13,
   "id": "51af6df9",
   "metadata": {},
   "outputs": [],
   "source": [
    "def clean_text(text):\n",
    "    text = text.lower()\n",
    "    text = special_character_remover.sub(' ', text)\n",
    "    text = extra_symbol_remover.sub('', text)\n",
    "    text = ' '.join(word for word in text.split() if word not in STOPWORDS)\n",
    "    return text\n",
    "    \n",
    "df['Text'] = df['Text'].apply(clean_text)"
   ]
  },
  {
   "cell_type": "code",
   "execution_count": 14,
   "id": "2a7ffcce",
   "metadata": {},
   "outputs": [
    {
     "name": "stdout",
     "output_type": "stream",
     "text": [
      "405694\n"
     ]
    }
   ],
   "source": [
    "print(df['Text'].apply(lambda x: len(x.split(' '))).sum())"
   ]
  },
  {
   "cell_type": "markdown",
   "id": "3b3d3234",
   "metadata": {},
   "source": [
    "# Train Test split"
   ]
  },
  {
   "cell_type": "code",
   "execution_count": 15,
   "id": "cf01917d",
   "metadata": {},
   "outputs": [
    {
     "name": "stdout",
     "output_type": "stream",
     "text": [
      "Wall time: 0 ns\n"
     ]
    }
   ],
   "source": [
    "%time from sklearn.model_selection import train_test_split\n",
    "X = df.Text\n",
    "y = df.Context\n",
    "X_train, X_test, y_train, y_test = train_test_split(X, y, test_size=0.3, random_state = 42)"
   ]
  },
  {
   "cell_type": "code",
   "execution_count": 16,
   "id": "2e17be18",
   "metadata": {},
   "outputs": [
    {
     "data": {
      "text/plain": [
       "((21924,), (9397,), (21924,), (9397,))"
      ]
     },
     "execution_count": 16,
     "metadata": {},
     "output_type": "execute_result"
    }
   ],
   "source": [
    "X_train.shape, X_test.shape, y_train.shape, y_test.shape"
   ]
  },
  {
   "cell_type": "markdown",
   "id": "bf9ca8fc",
   "metadata": {},
   "source": [
    "# Method1 :Applying Naive Bayes Classifier"
   ]
  },
  {
   "cell_type": "code",
   "execution_count": 17,
   "id": "fb8c32ae",
   "metadata": {},
   "outputs": [
    {
     "data": {
      "text/plain": [
       "Pipeline(steps=[('vect', CountVectorizer()), ('tfidf', TfidfTransformer()),\n",
       "                ('clf', MultinomialNB())])"
      ]
     },
     "execution_count": 17,
     "metadata": {},
     "output_type": "execute_result"
    }
   ],
   "source": [
    "from sklearn.naive_bayes import MultinomialNB\n",
    "from sklearn.pipeline import Pipeline\n",
    "from sklearn.feature_extraction.text import TfidfTransformer\n",
    "\n",
    "naivebayes = Pipeline([('vect', CountVectorizer()),\n",
    "               ('tfidf', TfidfTransformer()),\n",
    "               ('clf', MultinomialNB()),\n",
    "              ])\n",
    "naivebayes.fit(X_train, y_train)\n"
   ]
  },
  {
   "cell_type": "markdown",
   "id": "8890edfc",
   "metadata": {},
   "source": [
    "Predicting the Test set "
   ]
  },
  {
   "cell_type": "code",
   "execution_count": 18,
   "id": "84e76dc2",
   "metadata": {},
   "outputs": [
    {
     "name": "stdout",
     "output_type": "stream",
     "text": [
      "Wall time: 134 ms\n"
     ]
    }
   ],
   "source": [
    "%time y_pred = naivebayes.predict(X_test)"
   ]
  },
  {
   "cell_type": "markdown",
   "id": "5af9d472",
   "metadata": {},
   "source": [
    "Making the Confusion Matrix"
   ]
  },
  {
   "cell_type": "code",
   "execution_count": 19,
   "id": "52c24c26",
   "metadata": {},
   "outputs": [
    {
     "name": "stdout",
     "output_type": "stream",
     "text": [
      "[[451  20   6  11 143  17  78   8  13  22  29]\n",
      " [  0 559   6   7 229  12  75   2  22   4  16]\n",
      " [  7  12 396   6 216   5  44   5  48  14  31]\n",
      " [  9  12  25 393 179   8  53   6  28  65  31]\n",
      " [  5  19   4   6 902   8 134   4  13   2  21]\n",
      " [  8  14   3   4 212 341  79   3  23   2  24]\n",
      " [  5  21   2   1 266   9 569   0  26   2  17]\n",
      " [  3   6   9   8  78   8  14 442  39   9  20]\n",
      " [  6  29  10   5 164   8  62  13 715  11  32]\n",
      " [ 25  18  31  73  98   6  44  12  66 308  41]\n",
      " [ 11  14  24  15 303  15  71   4  33   5 417]]\n"
     ]
    },
    {
     "data": {
      "text/plain": [
       "0.5845482600830052"
      ]
     },
     "execution_count": 19,
     "metadata": {},
     "output_type": "execute_result"
    }
   ],
   "source": [
    "from sklearn.metrics import confusion_matrix, accuracy_score\n",
    "cm = confusion_matrix(y_test, y_pred)\n",
    "print(cm)\n",
    "accuracy_score(y_test, y_pred)"
   ]
  },
  {
   "cell_type": "markdown",
   "id": "a8ed9d6e",
   "metadata": {},
   "source": [
    "Cross Validation"
   ]
  },
  {
   "cell_type": "code",
   "execution_count": 20,
   "id": "12f2f047",
   "metadata": {},
   "outputs": [
    {
     "name": "stdout",
     "output_type": "stream",
     "text": [
      "Accuracy: 58.13 %\n",
      "Standard Deviation: 1.05 %\n"
     ]
    }
   ],
   "source": [
    "from sklearn.model_selection import cross_val_score\n",
    "accuracies = cross_val_score(estimator = naivebayes,X = X_train, y = y_train, cv =10)\n",
    "print(\"Accuracy: {:.2f} %\".format(accuracies.mean()*100))\n",
    "print(\"Standard Deviation: {:.2f} %\".format(accuracies.std()*100))"
   ]
  },
  {
   "cell_type": "markdown",
   "id": "ce125572",
   "metadata": {},
   "source": [
    "# Method 2: Linear support vector machine"
   ]
  },
  {
   "cell_type": "code",
   "execution_count": 21,
   "id": "fae387ef",
   "metadata": {},
   "outputs": [
    {
     "data": {
      "text/plain": [
       "Pipeline(steps=[('vect', CountVectorizer()), ('tfidf', TfidfTransformer()),\n",
       "                ('clf',\n",
       "                 SGDClassifier(alpha=0.001, max_iter=5, random_state=42,\n",
       "                               tol=None))])"
      ]
     },
     "execution_count": 21,
     "metadata": {},
     "output_type": "execute_result"
    }
   ],
   "source": [
    "from sklearn.linear_model import SGDClassifier\n",
    "from sklearn.metrics import classification_report\n",
    "\n",
    "sgd = Pipeline([('vect', CountVectorizer()),\n",
    "                ('tfidf', TfidfTransformer()),\n",
    "                ('clf', SGDClassifier(loss='hinge', penalty='l2',alpha=1e-3, random_state=42, max_iter=5, tol=None)),\n",
    "               ])\n",
    "sgd.fit(X_train, y_train)"
   ]
  },
  {
   "cell_type": "markdown",
   "id": "fc04b1cb",
   "metadata": {},
   "source": [
    "Predicting the Test set"
   ]
  },
  {
   "cell_type": "code",
   "execution_count": 22,
   "id": "9f79fb85",
   "metadata": {},
   "outputs": [
    {
     "name": "stdout",
     "output_type": "stream",
     "text": [
      "Wall time: 419 ms\n"
     ]
    }
   ],
   "source": [
    "%time y_pred = sgd.predict(X_test)"
   ]
  },
  {
   "cell_type": "markdown",
   "id": "7c1ffdeb",
   "metadata": {},
   "source": [
    "Making the Confusion Matrix"
   ]
  },
  {
   "cell_type": "code",
   "execution_count": 23,
   "id": "2337ea63",
   "metadata": {},
   "outputs": [
    {
     "name": "stdout",
     "output_type": "stream",
     "text": [
      "[[552  34   8  15  27  22  38  17  30  29  26]\n",
      " [ 12 648  19  15  54  24  48   8  54  10  40]\n",
      " [ 24  28 525  14  28  12  23  19  57  17  37]\n",
      " [ 26  25  42 475  24  20  29  20  46  76  26]\n",
      " [ 28  84  41  26 555  52 150  26  70  11  75]\n",
      " [ 28  43  15  16  31 446  40  16  35   7  36]\n",
      " [ 26  64  22  13 117  35 525   4  53  16  43]\n",
      " [  7  10  21  26   6  19   5 494  27  14   7]\n",
      " [ 25  45  21  13  33  21  37  22 770  26  42]\n",
      " [ 57  24  50  88  10  11  16  27  59 357  23]\n",
      " [ 32  49  57  30  80  43  55  24  49  19 474]]\n"
     ]
    },
    {
     "data": {
      "text/plain": [
       "0.6194530169202938"
      ]
     },
     "execution_count": 23,
     "metadata": {},
     "output_type": "execute_result"
    }
   ],
   "source": [
    "from sklearn.metrics import confusion_matrix, accuracy_score\n",
    "cm = confusion_matrix(y_test, y_pred)\n",
    "print(cm)\n",
    "accuracy_score(y_test, y_pred)"
   ]
  },
  {
   "cell_type": "markdown",
   "id": "e476531c",
   "metadata": {},
   "source": [
    "Cross Validation"
   ]
  },
  {
   "cell_type": "code",
   "execution_count": 24,
   "id": "f98d3dd7",
   "metadata": {},
   "outputs": [
    {
     "name": "stdout",
     "output_type": "stream",
     "text": [
      "Accuracy: 61.69 %\n",
      "Standard Deviation: 1.12 %\n"
     ]
    }
   ],
   "source": [
    "from sklearn.model_selection import cross_val_score\n",
    "accuracies = cross_val_score(estimator = sgd,X = X_train, y = y_train, cv =10)\n",
    "print(\"Accuracy: {:.2f} %\".format(accuracies.mean()*100))\n",
    "print(\"Standard Deviation: {:.2f} %\".format(accuracies.std()*100))"
   ]
  },
  {
   "cell_type": "markdown",
   "id": "82b52b00",
   "metadata": {},
   "source": [
    "# Final Prediction of test set (Best Model)"
   ]
  },
  {
   "cell_type": "code",
   "execution_count": 25,
   "id": "e1bf3d55",
   "metadata": {},
   "outputs": [
    {
     "name": "stdout",
     "output_type": "stream",
     "text": [
      "Accuracy: 0.6194530169202938\n",
      "Wall time: 408 ms\n"
     ]
    }
   ],
   "source": [
    "%%time\n",
    "\n",
    "y_pred = sgd.predict(X_test)\n",
    "\n",
    "print('Accuracy: %s' % accuracy_score(y_pred, y_test))\n"
   ]
  },
  {
   "cell_type": "markdown",
   "id": "66755419",
   "metadata": {},
   "source": [
    "# Classification Report"
   ]
  },
  {
   "cell_type": "code",
   "execution_count": 26,
   "id": "124aa25a",
   "metadata": {},
   "outputs": [
    {
     "name": "stdout",
     "output_type": "stream",
     "text": [
      "               precision    recall  f1-score   support\n",
      "\n",
      "     Politics       0.68      0.69      0.68       798\n",
      "         Love       0.61      0.70      0.65       932\n",
      "Heavy Emotion       0.64      0.67      0.65       784\n",
      "       Health       0.65      0.59      0.62       809\n",
      "      Animals       0.58      0.50      0.53      1118\n",
      "      Science       0.63      0.63      0.63       713\n",
      "         Joke       0.54      0.57      0.56       918\n",
      "   Compliment       0.73      0.78      0.75       636\n",
      "     Religion       0.62      0.73      0.67      1055\n",
      "         Self       0.61      0.49      0.55       722\n",
      "    Education       0.57      0.52      0.54       912\n",
      "\n",
      "     accuracy                           0.62      9397\n",
      "    macro avg       0.62      0.62      0.62      9397\n",
      " weighted avg       0.62      0.62      0.62      9397\n",
      "\n"
     ]
    }
   ],
   "source": [
    "print(classification_report(y_test, y_pred,target_names=Context))"
   ]
  },
  {
   "cell_type": "markdown",
   "id": "48236a09",
   "metadata": {},
   "source": [
    "# Pickling the model"
   ]
  },
  {
   "cell_type": "code",
   "execution_count": 27,
   "id": "2f2fb281",
   "metadata": {},
   "outputs": [],
   "source": [
    "import pickle"
   ]
  },
  {
   "cell_type": "code",
   "execution_count": 28,
   "id": "f8b66560",
   "metadata": {},
   "outputs": [],
   "source": [
    "pickle_file = open('sgd.pkl', 'ab')"
   ]
  },
  {
   "cell_type": "code",
   "execution_count": 29,
   "id": "f60aeaf0",
   "metadata": {},
   "outputs": [],
   "source": [
    "pickle.dump(sgd, pickle_file)"
   ]
  },
  {
   "cell_type": "code",
   "execution_count": 30,
   "id": "e6cbe1d8",
   "metadata": {},
   "outputs": [],
   "source": [
    "pickle_file.close()"
   ]
  },
  {
   "cell_type": "code",
   "execution_count": null,
   "id": "95fb0c93",
   "metadata": {},
   "outputs": [],
   "source": []
  }
 ],
 "metadata": {
  "kernelspec": {
   "display_name": "Python 3 (ipykernel)",
   "language": "python",
   "name": "python3"
  },
  "language_info": {
   "codemirror_mode": {
    "name": "ipython",
    "version": 3
   },
   "file_extension": ".py",
   "mimetype": "text/x-python",
   "name": "python",
   "nbconvert_exporter": "python",
   "pygments_lexer": "ipython3",
   "version": "3.9.7"
  }
 },
 "nbformat": 4,
 "nbformat_minor": 5
}
